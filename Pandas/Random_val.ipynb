{
 "cells": [
  {
   "cell_type": "markdown",
   "id": "d38f0a2d-b7be-420f-8786-bddc77410be8",
   "metadata": {},
   "source": [
    "#Домашнее задание к лекции «Случайные события. Случайные величины»\n",
    "\n",
    "Смоделировать игру против лотерейного автомата типа “777”. Игрок платит 1 руб., после чего выпадает случайное целое число, равномерно распределенное от 0 до 999. При некоторых значениях числа игрок получает выигрыш.\n",
    "\n",
    "777: 200 руб.\n",
    "999: 100 руб.\n",
    "555: 50 руб.\n",
    "333: 15 руб.\n",
    "111: 10 руб.\n",
    "*77: 5 руб.\n",
    "**7: 3 руб.\n",
    "*00: 2 руб.\n",
    "**0: 1 руб.\n",
    "\n",
    "Вопросы:\n",
    "\n",
    "Выгодна ли игра игроку?\n",
    "Сколько в среднем приобретает или теряет игрок за одну игру?\n",
    "\n",
    "\n",
    "**Дополнительное задание повышенной сложности. **\n",
    "\n",
    "Теоретически рассчитать средний выигрыш (проигрыш) и сравнить с результатами моделирования\n",
    "\n",
    "– любая цифра"
   ]
  },
  {
   "cell_type": "code",
   "execution_count": 35,
   "id": "2cd6f4ac-cd66-4dfa-af1f-11af257c9622",
   "metadata": {},
   "outputs": [],
   "source": [
    "import numpy as np"
   ]
  },
  {
   "cell_type": "code",
   "execution_count": 36,
   "id": "339767dd-bb08-47a7-ad39-a6c1a0a483cf",
   "metadata": {},
   "outputs": [],
   "source": [
    "trials = 1000000 #Количество попыток\n",
    "victories = 0 #Количество побед\n",
    "losses = 0 #Количество проигрышей\n",
    "expenses = 0 #Потрачено денег\n",
    "winnings = 0 #Выиграно денег"
   ]
  },
  {
   "cell_type": "code",
   "execution_count": 37,
   "id": "2ddb1ebc-81c5-4064-a449-d090b45dded0",
   "metadata": {},
   "outputs": [],
   "source": [
    "record = {\n",
    "    '777': 200, '999': 100, \n",
    "    '555': 50, '333': 15, \n",
    "    '111': 10, '77': 5, \n",
    "    '7': 3, '00': 2, '0': 1\n",
    "}"
   ]
  },
  {
   "cell_type": "code",
   "execution_count": 38,
   "id": "2980a8f2-bea5-49cc-ae05-baa6ba1afc53",
   "metadata": {},
   "outputs": [],
   "source": [
    "for _ in range(trials):\n",
    "    random_score = ''\n",
    "    for digit in range(3):\n",
    "        random_score += str(np.random.randint(0, 10))\n",
    "    if (random_score in record) or (random_score[1:] in record) or (random_score[2:] in record):\n",
    "        if random_score in record:\n",
    "            winnings += record[random_score]\n",
    "            victories += 1\n",
    "        elif random_score[1:] in record:\n",
    "            winnings += record[random_score[1:]]\n",
    "            victories += 1\n",
    "        else:\n",
    "            winnings += record[random_score[2:]]\n",
    "            victories += 1\n",
    "    else:\n",
    "        expenses += 1\n",
    "        losses += 1"
   ]
  },
  {
   "cell_type": "code",
   "execution_count": 39,
   "id": "43d02b9e-45bc-4239-90f2-2c3c9a6d63bf",
   "metadata": {},
   "outputs": [
    {
     "name": "stdout",
     "output_type": "stream",
     "text": [
      "Вероятность из моделирования:  0.203712\n",
      "Теоретическая вероятность:  0.7999999999999999\n"
     ]
    }
   ],
   "source": [
    "print('Вероятность из моделирования: ', victories / trials)\n",
    "res = 0.001*(200 + 100 + 50 + 15 + 10) + (9/1000)*5 + (10/1000)*2 + (90/1000)*3 + (90/1000)*1\n",
    "print('Теоретическая вероятность: ', res)"
   ]
  },
  {
   "cell_type": "code",
   "execution_count": 40,
   "id": "a472cca6-e58a-4d85-a72a-e9064f186af3",
   "metadata": {},
   "outputs": [
    {
     "name": "stdout",
     "output_type": "stream",
     "text": [
      "Выиграно денег: 791759\n",
      "Проиграно денег: 796288\n"
     ]
    }
   ],
   "source": [
    "print(f'Выиграно денег: {winnings}\\nПроиграно денег: {expenses}')"
   ]
  }
 ],
 "metadata": {
  "kernelspec": {
   "display_name": "Python 3 (ipykernel)",
   "language": "python",
   "name": "python3"
  },
  "language_info": {
   "codemirror_mode": {
    "name": "ipython",
    "version": 3
   },
   "file_extension": ".py",
   "mimetype": "text/x-python",
   "name": "python",
   "nbconvert_exporter": "python",
   "pygments_lexer": "ipython3",
   "version": "3.9.12"
  }
 },
 "nbformat": 4,
 "nbformat_minor": 5
}
