{
 "cells": [
  {
   "cell_type": "code",
   "execution_count": 1,
   "id": "e67772b2-709c-438d-beb7-6b40e704d6ea",
   "metadata": {},
   "outputs": [],
   "source": [
    "import findspark\n",
    "findspark.init()\n",
    "from pyspark.sql import SparkSession\n",
    "\n",
    "spark = SparkSession.builder.master('local[*]').getOrCreate()"
   ]
  },
  {
   "cell_type": "code",
   "execution_count": 2,
   "id": "086e7bcf-3a94-457e-b86f-5e5efca93539",
   "metadata": {},
   "outputs": [
    {
     "name": "stdout",
     "output_type": "stream",
     "text": [
      "+------------+-----------+------------+-----------+-------+-----------+\n",
      "|sepal_length|sepal_width|petal_length|petal_width|variety|variety_num|\n",
      "+------------+-----------+------------+-----------+-------+-----------+\n",
      "|         5.1|        3.5|         1.4|        0.2| Setosa|          0|\n",
      "|         4.9|        3.0|         1.4|        0.2| Setosa|          0|\n",
      "|         4.7|        3.2|         1.3|        0.2| Setosa|          0|\n",
      "|         4.6|        3.1|         1.5|        0.2| Setosa|          0|\n",
      "|         5.0|        3.6|         1.4|        0.2| Setosa|          0|\n",
      "+------------+-----------+------------+-----------+-------+-----------+\n",
      "only showing top 5 rows\n",
      "\n"
     ]
    }
   ],
   "source": [
    "df = spark.read.csv('iris.CSV', inferSchema=True, header=True)\n",
    "df.show(5)"
   ]
  },
  {
   "cell_type": "markdown",
   "id": "f261c30d-7c34-4f38-bd7b-71e6dae77774",
   "metadata": {},
   "source": [
    "## При помощи VectorAssembler преобразовать все колонки с признаками в одну (использовать Pipeline — опционально)."
   ]
  },
  {
   "cell_type": "code",
   "execution_count": 3,
   "id": "f264b21e-52d8-4d5f-820a-aec936ca0f8b",
   "metadata": {},
   "outputs": [],
   "source": [
    "from pyspark.ml.feature import VectorAssembler\n",
    "from pyspark.ml.feature import StringIndexer, OneHotEncoder\n",
    "from pyspark.ml import Pipeline"
   ]
  },
  {
   "cell_type": "code",
   "execution_count": 4,
   "id": "30048845-b4a2-4e42-879f-e7f547dea405",
   "metadata": {},
   "outputs": [],
   "source": [
    "pipeline = Pipeline(stages=\n",
    "                    [\n",
    "                        StringIndexer(inputCol='variety', outputCol='varietyInd'),\n",
    "                        OneHotEncoder(inputCol='varietyInd', outputCol='varietyOne'),\n",
    "                        VectorAssembler(inputCols=['sepal_length', 'sepal_width', 'petal_length', 'variety_num', 'varietyOne'], outputCol='features')\n",
    "                    ]\n",
    "                   )"
   ]
  },
  {
   "cell_type": "code",
   "execution_count": 5,
   "id": "d32f7abf-25e1-4511-a81b-db8fa986d0b6",
   "metadata": {},
   "outputs": [],
   "source": [
    "pipelineTrained = pipeline.fit(df)"
   ]
  },
  {
   "cell_type": "code",
   "execution_count": 6,
   "id": "5884074b-ef3f-4660-a6ec-25346d9ebede",
   "metadata": {},
   "outputs": [
    {
     "name": "stdout",
     "output_type": "stream",
     "text": [
      "+------------+-----------+------------+-----------+-------+-----------+----------+-------------+--------------------+\n",
      "|sepal_length|sepal_width|petal_length|petal_width|variety|variety_num|varietyInd|   varietyOne|            features|\n",
      "+------------+-----------+------------+-----------+-------+-----------+----------+-------------+--------------------+\n",
      "|         5.1|        3.5|         1.4|        0.2| Setosa|          0|       0.0|(2,[0],[1.0])|[5.1,3.5,1.4,0.0,...|\n",
      "|         4.9|        3.0|         1.4|        0.2| Setosa|          0|       0.0|(2,[0],[1.0])|[4.9,3.0,1.4,0.0,...|\n",
      "|         4.7|        3.2|         1.3|        0.2| Setosa|          0|       0.0|(2,[0],[1.0])|[4.7,3.2,1.3,0.0,...|\n",
      "|         4.6|        3.1|         1.5|        0.2| Setosa|          0|       0.0|(2,[0],[1.0])|[4.6,3.1,1.5,0.0,...|\n",
      "|         5.0|        3.6|         1.4|        0.2| Setosa|          0|       0.0|(2,[0],[1.0])|[5.0,3.6,1.4,0.0,...|\n",
      "|         5.4|        3.9|         1.7|        0.4| Setosa|          0|       0.0|(2,[0],[1.0])|[5.4,3.9,1.7,0.0,...|\n",
      "|         4.6|        3.4|         1.4|        0.3| Setosa|          0|       0.0|(2,[0],[1.0])|[4.6,3.4,1.4,0.0,...|\n",
      "|         5.0|        3.4|         1.5|        0.2| Setosa|          0|       0.0|(2,[0],[1.0])|[5.0,3.4,1.5,0.0,...|\n",
      "|         4.4|        2.9|         1.4|        0.2| Setosa|          0|       0.0|(2,[0],[1.0])|[4.4,2.9,1.4,0.0,...|\n",
      "|         4.9|        3.1|         1.5|        0.1| Setosa|          0|       0.0|(2,[0],[1.0])|[4.9,3.1,1.5,0.0,...|\n",
      "|         5.4|        3.7|         1.5|        0.2| Setosa|          0|       0.0|(2,[0],[1.0])|[5.4,3.7,1.5,0.0,...|\n",
      "|         4.8|        3.4|         1.6|        0.2| Setosa|          0|       0.0|(2,[0],[1.0])|[4.8,3.4,1.6,0.0,...|\n",
      "|         4.8|        3.0|         1.4|        0.1| Setosa|          0|       0.0|(2,[0],[1.0])|[4.8,3.0,1.4,0.0,...|\n",
      "|         4.3|        3.0|         1.1|        0.1| Setosa|          0|       0.0|(2,[0],[1.0])|[4.3,3.0,1.1,0.0,...|\n",
      "|         5.8|        4.0|         1.2|        0.2| Setosa|          0|       0.0|(2,[0],[1.0])|[5.8,4.0,1.2,0.0,...|\n",
      "|         5.7|        4.4|         1.5|        0.4| Setosa|          0|       0.0|(2,[0],[1.0])|[5.7,4.4,1.5,0.0,...|\n",
      "|         5.4|        3.9|         1.3|        0.4| Setosa|          0|       0.0|(2,[0],[1.0])|[5.4,3.9,1.3,0.0,...|\n",
      "|         5.1|        3.5|         1.4|        0.3| Setosa|          0|       0.0|(2,[0],[1.0])|[5.1,3.5,1.4,0.0,...|\n",
      "|         5.7|        3.8|         1.7|        0.3| Setosa|          0|       0.0|(2,[0],[1.0])|[5.7,3.8,1.7,0.0,...|\n",
      "|         5.1|        3.8|         1.5|        0.3| Setosa|          0|       0.0|(2,[0],[1.0])|[5.1,3.8,1.5,0.0,...|\n",
      "+------------+-----------+------------+-----------+-------+-----------+----------+-------------+--------------------+\n",
      "only showing top 20 rows\n",
      "\n"
     ]
    }
   ],
   "source": [
    "pipelineTrained.transform(df).show()"
   ]
  },
  {
   "cell_type": "markdown",
   "id": "6a09da38-0b96-4289-b318-bb7103725cb3",
   "metadata": {},
   "source": [
    "## Разбить данные на train и test."
   ]
  },
  {
   "cell_type": "code",
   "execution_count": 7,
   "id": "63e5cdcf-2af8-4be5-8a28-22cd85b8ad76",
   "metadata": {},
   "outputs": [],
   "source": [
    "df_features = pipelineTrained.transform(df)"
   ]
  },
  {
   "cell_type": "code",
   "execution_count": 8,
   "id": "30f4602d-a5c4-4203-823a-f47e71c5d321",
   "metadata": {},
   "outputs": [],
   "source": [
    "train, test = df_features.randomSplit([0.8, 0.2], seed=777)"
   ]
  },
  {
   "cell_type": "code",
   "execution_count": 9,
   "id": "9394d7c2-ecc5-4d8a-827d-11c8346d3c20",
   "metadata": {},
   "outputs": [
    {
     "name": "stdout",
     "output_type": "stream",
     "text": [
      "+------------+-----------+------------+-----------+----------+-----------+----------+-------------+--------------------+\n",
      "|sepal_length|sepal_width|petal_length|petal_width|   variety|variety_num|varietyInd|   varietyOne|            features|\n",
      "+------------+-----------+------------+-----------+----------+-----------+----------+-------------+--------------------+\n",
      "|         4.3|        3.0|         1.1|        0.1|    Setosa|          0|       0.0|(2,[0],[1.0])|[4.3,3.0,1.1,0.0,...|\n",
      "|         4.4|        2.9|         1.4|        0.2|    Setosa|          0|       0.0|(2,[0],[1.0])|[4.4,2.9,1.4,0.0,...|\n",
      "|         4.4|        3.2|         1.3|        0.2|    Setosa|          0|       0.0|(2,[0],[1.0])|[4.4,3.2,1.3,0.0,...|\n",
      "|         4.5|        2.3|         1.3|        0.3|    Setosa|          0|       0.0|(2,[0],[1.0])|[4.5,2.3,1.3,0.0,...|\n",
      "|         4.6|        3.2|         1.4|        0.2|    Setosa|          0|       0.0|(2,[0],[1.0])|[4.6,3.2,1.4,0.0,...|\n",
      "|         4.6|        3.4|         1.4|        0.3|    Setosa|          0|       0.0|(2,[0],[1.0])|[4.6,3.4,1.4,0.0,...|\n",
      "|         4.6|        3.6|         1.0|        0.2|    Setosa|          0|       0.0|(2,[0],[1.0])|[4.6,3.6,1.0,0.0,...|\n",
      "|         4.7|        3.2|         1.3|        0.2|    Setosa|          0|       0.0|(2,[0],[1.0])|[4.7,3.2,1.3,0.0,...|\n",
      "|         4.7|        3.2|         1.6|        0.2|    Setosa|          0|       0.0|(2,[0],[1.0])|[4.7,3.2,1.6,0.0,...|\n",
      "|         4.8|        3.0|         1.4|        0.1|    Setosa|          0|       0.0|(2,[0],[1.0])|[4.8,3.0,1.4,0.0,...|\n",
      "|         4.8|        3.0|         1.4|        0.3|    Setosa|          0|       0.0|(2,[0],[1.0])|[4.8,3.0,1.4,0.0,...|\n",
      "|         4.8|        3.1|         1.6|        0.2|    Setosa|          0|       0.0|(2,[0],[1.0])|[4.8,3.1,1.6,0.0,...|\n",
      "|         4.8|        3.4|         1.6|        0.2|    Setosa|          0|       0.0|(2,[0],[1.0])|[4.8,3.4,1.6,0.0,...|\n",
      "|         4.8|        3.4|         1.9|        0.2|    Setosa|          0|       0.0|(2,[0],[1.0])|[4.8,3.4,1.9,0.0,...|\n",
      "|         4.9|        2.4|         3.3|        1.0|Versicolor|          1|       1.0|(2,[1],[1.0])|[4.9,2.4,3.3,1.0,...|\n",
      "|         4.9|        2.5|         4.5|        1.7| Virginica|          2|       2.0|    (2,[],[])|[4.9,2.5,4.5,2.0,...|\n",
      "|         4.9|        3.1|         1.5|        0.1|    Setosa|          0|       0.0|(2,[0],[1.0])|[4.9,3.1,1.5,0.0,...|\n",
      "|         4.9|        3.6|         1.4|        0.1|    Setosa|          0|       0.0|(2,[0],[1.0])|[4.9,3.6,1.4,0.0,...|\n",
      "|         5.0|        2.0|         3.5|        1.0|Versicolor|          1|       1.0|(2,[1],[1.0])|[5.0,2.0,3.5,1.0,...|\n",
      "|         5.0|        3.0|         1.6|        0.2|    Setosa|          0|       0.0|(2,[0],[1.0])|[5.0,3.0,1.6,0.0,...|\n",
      "+------------+-----------+------------+-----------+----------+-----------+----------+-------------+--------------------+\n",
      "only showing top 20 rows\n",
      "\n"
     ]
    }
   ],
   "source": [
    "train.show()"
   ]
  },
  {
   "cell_type": "markdown",
   "id": "e7631919-a030-4f3e-92e9-6dfabb104e30",
   "metadata": {},
   "source": [
    "## Создать модель логистической регреcсии или модель дерева и обучить её."
   ]
  },
  {
   "cell_type": "code",
   "execution_count": 10,
   "id": "f483269a-0935-4e8a-9330-8546704dbe09",
   "metadata": {},
   "outputs": [],
   "source": [
    "from pyspark.ml.classification import LogisticRegression"
   ]
  },
  {
   "cell_type": "code",
   "execution_count": 11,
   "id": "c5445179-f8e9-4ea0-a767-3989b1ad556e",
   "metadata": {},
   "outputs": [],
   "source": [
    "lr = LogisticRegression(featuresCol='features', labelCol='variety_num')\n",
    "lrModel = lr.fit(train)"
   ]
  },
  {
   "cell_type": "code",
   "execution_count": 12,
   "id": "6a0fb735-c8b3-4ed8-ae4a-3f3024639d98",
   "metadata": {},
   "outputs": [],
   "source": [
    "train_res = lrModel.transform(train)\n",
    "test_res = lrModel.transform(test)"
   ]
  },
  {
   "cell_type": "code",
   "execution_count": 13,
   "id": "5183768f-1dd5-4ea0-893e-c0925e58d1f5",
   "metadata": {},
   "outputs": [
    {
     "name": "stdout",
     "output_type": "stream",
     "text": [
      "+------------+-----------+------------+-----------+----------+-----------+----------+-------------+--------------------+--------------------+--------------------+----------+\n",
      "|sepal_length|sepal_width|petal_length|petal_width|   variety|variety_num|varietyInd|   varietyOne|            features|       rawPrediction|         probability|prediction|\n",
      "+------------+-----------+------------+-----------+----------+-----------+----------+-------------+--------------------+--------------------+--------------------+----------+\n",
      "|         4.3|        3.0|         1.1|        0.1|    Setosa|          0|       0.0|(2,[0],[1.0])|[4.3,3.0,1.1,0.0,...|[14.6693733473736...|[0.99999999939259...|       0.0|\n",
      "|         4.4|        2.9|         1.4|        0.2|    Setosa|          0|       0.0|(2,[0],[1.0])|[4.4,2.9,1.4,0.0,...|[13.8816034063816...|[0.99999999813202...|       0.0|\n",
      "|         4.4|        3.2|         1.3|        0.2|    Setosa|          0|       0.0|(2,[0],[1.0])|[4.4,3.2,1.3,0.0,...|[14.7244443482234...|[0.99999999945989...|       0.0|\n",
      "|         4.5|        2.3|         1.3|        0.3|    Setosa|          0|       0.0|(2,[0],[1.0])|[4.5,2.3,1.3,0.0,...|[12.4887185040681...|[0.99999998487099...|       0.0|\n",
      "|         4.6|        3.2|         1.4|        0.2|    Setosa|          0|       0.0|(2,[0],[1.0])|[4.6,3.2,1.4,0.0,...|[14.3222725005689...|[0.99999999902798...|       0.0|\n",
      "|         4.6|        3.4|         1.4|        0.3|    Setosa|          0|       0.0|(2,[0],[1.0])|[4.6,3.4,1.4,0.0,...|[14.7900935274734...|[0.99999999951587...|       0.0|\n",
      "|         4.6|        3.6|         1.0|        0.2|    Setosa|          0|       0.0|(2,[0],[1.0])|[4.6,3.6,1.0,0.0,...|[15.8223521603178...|[0.99999999988651...|       0.0|\n",
      "|         4.7|        3.2|         1.3|        0.2|    Setosa|          0|       0.0|(2,[0],[1.0])|[4.7,3.2,1.3,0.0,...|[14.3328506789690...|[0.99999999902589...|       0.0|\n",
      "|         4.7|        3.2|         1.6|        0.2|    Setosa|          0|       0.0|(2,[0],[1.0])|[4.7,3.2,1.6,0.0,...|[13.9095224745142...|[0.99999999823880...|       0.0|\n",
      "|         4.8|        3.0|         1.4|        0.1|    Setosa|          0|       0.0|(2,[0],[1.0])|[4.8,3.0,1.4,0.0,...|[13.5933890274947...|[0.99999999710853...|       0.0|\n",
      "|         4.8|        3.0|         1.4|        0.3|    Setosa|          0|       0.0|(2,[0],[1.0])|[4.8,3.0,1.4,0.0,...|[13.5933890274947...|[0.99999999710853...|       0.0|\n",
      "|         4.8|        3.1|         1.6|        0.2|    Setosa|          0|       0.0|(2,[0],[1.0])|[4.8,3.1,1.6,0.0,...|[13.5450807379771...|[0.99999999696050...|       0.0|\n",
      "|         4.8|        3.4|         1.6|        0.2|    Setosa|          0|       0.0|(2,[0],[1.0])|[4.8,3.4,1.6,0.0,...|[14.2468122783339...|[0.99999999893453...|       0.0|\n",
      "|         4.8|        3.4|         1.9|        0.2|    Setosa|          0|       0.0|(2,[0],[1.0])|[4.8,3.4,1.9,0.0,...|[13.8234840738791...|[0.99999999802360...|       0.0|\n",
      "|         4.9|        2.4|         3.3|        1.0|Versicolor|          1|       1.0|(2,[1],[1.0])|[4.9,2.4,3.3,1.0,...|[-5.5291220928979...|[8.42591661339411...|       1.0|\n",
      "|         4.9|        2.5|         4.5|        1.7| Virginica|          2|       2.0|    (2,[],[])|[4.9,2.5,4.5,2.0,...|[-5.7922776095525...|[1.40930378399068...|       2.0|\n",
      "|         4.9|        3.1|         1.5|        0.1|    Setosa|          0|       0.0|(2,[0],[1.0])|[4.9,3.1,1.5,0.0,...|[13.5556589163773...|[0.99999999697428...|       0.0|\n",
      "|         4.9|        3.6|         1.4|        0.1|    Setosa|          0|       0.0|(2,[0],[1.0])|[4.9,3.6,1.4,0.0,...|[14.8663208851236...|[0.99999999956506...|       0.0|\n",
      "|         5.0|        2.0|         3.5|        1.0|Versicolor|          1|       1.0|(2,[1],[1.0])|[5.0,2.0,3.5,1.0,...|[-6.8775141727617...|[1.29046208432239...|       1.0|\n",
      "|         5.0|        3.0|         1.6|        0.2|    Setosa|          0|       0.0|(2,[0],[1.0])|[5.0,3.0,1.6,0.0,...|[13.0501077783552...|[0.99999999361726...|       0.0|\n",
      "+------------+-----------+------------+-----------+----------+-----------+----------+-------------+--------------------+--------------------+--------------------+----------+\n",
      "only showing top 20 rows\n",
      "\n"
     ]
    }
   ],
   "source": [
    "train_res.show()"
   ]
  },
  {
   "cell_type": "markdown",
   "id": "a8122d7e-8882-40a6-ac53-772b206e0daf",
   "metadata": {},
   "source": [
    "## Воспользоваться MulticlassClassificationEvaluator для оценки качества на train и test множестве."
   ]
  },
  {
   "cell_type": "code",
   "execution_count": 14,
   "id": "2e78d0a3-33a3-42d2-aa88-e5e856347d64",
   "metadata": {},
   "outputs": [],
   "source": [
    "from pyspark.ml.evaluation import MulticlassClassificationEvaluator"
   ]
  },
  {
   "cell_type": "code",
   "execution_count": 15,
   "id": "b082a431-2b4b-4ba1-824c-b58cc639cad1",
   "metadata": {},
   "outputs": [],
   "source": [
    "ev = MulticlassClassificationEvaluator(labelCol='variety_num')"
   ]
  },
  {
   "cell_type": "code",
   "execution_count": 16,
   "id": "7b5f3c6c-8fbb-4943-a37d-c4fe16959beb",
   "metadata": {},
   "outputs": [
    {
     "data": {
      "text/plain": [
       "1.0"
      ]
     },
     "execution_count": 16,
     "metadata": {},
     "output_type": "execute_result"
    }
   ],
   "source": [
    "ev.evaluate(train_res)"
   ]
  },
  {
   "cell_type": "code",
   "execution_count": 17,
   "id": "38c37386-4585-4901-83b3-4e70a47a7165",
   "metadata": {},
   "outputs": [
    {
     "data": {
      "text/plain": [
       "1.0"
      ]
     },
     "execution_count": 17,
     "metadata": {},
     "output_type": "execute_result"
    }
   ],
   "source": [
    "ev.evaluate(test_res)"
   ]
  },
  {
   "cell_type": "code",
   "execution_count": null,
   "id": "3d46717b-45ee-4097-a906-c6190106215a",
   "metadata": {},
   "outputs": [],
   "source": []
  }
 ],
 "metadata": {
  "kernelspec": {
   "display_name": "Python 3 (ipykernel)",
   "language": "python",
   "name": "python3"
  },
  "language_info": {
   "codemirror_mode": {
    "name": "ipython",
    "version": 3
   },
   "file_extension": ".py",
   "mimetype": "text/x-python",
   "name": "python",
   "nbconvert_exporter": "python",
   "pygments_lexer": "ipython3",
   "version": "3.9.12"
  }
 },
 "nbformat": 4,
 "nbformat_minor": 5
}
