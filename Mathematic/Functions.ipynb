{
 "cells": [
  {
   "cell_type": "markdown",
   "id": "dcc9e040-0c4e-4dee-af93-b70e9981d6e0",
   "metadata": {},
   "source": [
    "# Домашнее задание \"Функции одной переменной\".\n",
    "## Уровень 0:\n",
    "### Задание 1\n",
    "Посчитайте значение первой и второй производной функции:  \n",
    "$f(x) = x^5 + 4sin(2x) + cos(3x+3)$  \n",
    "В точке x = 1."
   ]
  },
  {
   "cell_type": "code",
   "execution_count": 3,
   "id": "898477f0-3246-4bb7-966c-2cbadc81415a",
   "metadata": {},
   "outputs": [],
   "source": [
    "import sympy as sym\n",
    "import numpy as np"
   ]
  },
  {
   "cell_type": "code",
   "execution_count": 2,
   "id": "78d473fd-ab00-43ee-94f0-cc2b4f5ae3df",
   "metadata": {},
   "outputs": [],
   "source": [
    "x = sym.Symbol('x')"
   ]
  },
  {
   "cell_type": "code",
   "execution_count": 8,
   "id": "acb9b0d6-5cf4-460a-9f89-db2e3ecd5b17",
   "metadata": {},
   "outputs": [
    {
     "data": {
      "text/latex": [
       "$\\displaystyle x^{5} + 4 \\sin{\\left(2 x \\right)} + \\cos{\\left(3 x + 3 \\right)}$"
      ],
      "text/plain": [
       "x**5 + 4*sin(2*x) + cos(3*x + 3)"
      ]
     },
     "execution_count": 8,
     "metadata": {},
     "output_type": "execute_result"
    }
   ],
   "source": [
    "F = x**5 + 4 * sym.sin(2*x) + sym.cos(3 * x + 3)\n",
    "F"
   ]
  },
  {
   "cell_type": "code",
   "execution_count": 9,
   "id": "0d7f675a-9d30-4f54-9393-2ae60b7fde90",
   "metadata": {},
   "outputs": [
    {
     "data": {
      "text/latex": [
       "$\\displaystyle 5 x^{4} - 3 \\sin{\\left(3 x + 3 \\right)} + 8 \\cos{\\left(2 x \\right)}$"
      ],
      "text/plain": [
       "5*x**4 - 3*sin(3*x + 3) + 8*cos(2*x)"
      ]
     },
     "execution_count": 9,
     "metadata": {},
     "output_type": "execute_result"
    }
   ],
   "source": [
    "res = sym.diff(F, x)\n",
    "res"
   ]
  },
  {
   "cell_type": "code",
   "execution_count": 10,
   "id": "aee2da38-b06c-4a6a-956a-9cc040faa56b",
   "metadata": {},
   "outputs": [
    {
     "data": {
      "text/latex": [
       "$\\displaystyle 8 \\cos{\\left(2 \\right)} - 3 \\sin{\\left(6 \\right)} + 5$"
      ],
      "text/plain": [
       "8*cos(2) - 3*sin(6) + 5"
      ]
     },
     "execution_count": 10,
     "metadata": {},
     "output_type": "execute_result"
    }
   ],
   "source": [
    "res.subs(x, 1)"
   ]
  },
  {
   "cell_type": "code",
   "execution_count": 13,
   "id": "0338c9a8-66b2-473b-a54b-62a7ceb6c641",
   "metadata": {},
   "outputs": [
    {
     "data": {
      "text/plain": [
       "2.5090718022196383"
      ]
     },
     "execution_count": 13,
     "metadata": {},
     "output_type": "execute_result"
    }
   ],
   "source": [
    "8 * np.cos(2) - 3 * np.sin(6) + 5"
   ]
  },
  {
   "cell_type": "markdown",
   "id": "17f2d231-36b6-41e7-9d28-667642f0cc43",
   "metadata": {},
   "source": [
    "## Уровень 1:\n",
    "### Задание 2\n",
    "Постройте график первой и второй производной функции:  \n",
    "$f(x) = sin^5(2x + 1)$  \n",
    "На отрезке [-5; 5]."
   ]
  },
  {
   "cell_type": "code",
   "execution_count": 32,
   "id": "c0f84b67-9d33-4493-a253-ec3ece8e0eaf",
   "metadata": {},
   "outputs": [],
   "source": [
    "import matplotlib.pyplot as plt\n",
    "from math import sin"
   ]
  },
  {
   "cell_type": "code",
   "execution_count": 33,
   "id": "5a4ab87f-5c55-42f1-9b31-666866c3d14f",
   "metadata": {},
   "outputs": [],
   "source": [
    "x1 = np.array([-5, 5])"
   ]
  },
  {
   "cell_type": "code",
   "execution_count": 17,
   "id": "7fafa093-d33d-4fbf-965f-928d150389bc",
   "metadata": {},
   "outputs": [],
   "source": [
    "x = v[0]\n",
    "y = v[1]"
   ]
  },
  {
   "cell_type": "code",
   "execution_count": 34,
   "id": "d9895570-87ef-427b-83b2-c937cbc99c37",
   "metadata": {},
   "outputs": [],
   "source": [
    "def function(x1):\n",
    "    F = sin(2 * x1 + 1)**5\n",
    "    return F"
   ]
  },
  {
   "cell_type": "code",
   "execution_count": 38,
   "id": "b598d248-ce96-46ee-906d-8a2669f30791",
   "metadata": {},
   "outputs": [
    {
     "ename": "TypeError",
     "evalue": "only size-1 arrays can be converted to Python scalars",
     "output_type": "error",
     "traceback": [
      "\u001b[1;31m---------------------------------------------------------------------------\u001b[0m",
      "\u001b[1;31mTypeError\u001b[0m                                 Traceback (most recent call last)",
      "Input \u001b[1;32mIn [38]\u001b[0m, in \u001b[0;36m<cell line: 1>\u001b[1;34m()\u001b[0m\n\u001b[1;32m----> 1\u001b[0m plt\u001b[38;5;241m.\u001b[39mplot(x1, \u001b[43mfunction\u001b[49m\u001b[43m(\u001b[49m\u001b[43mx1\u001b[49m\u001b[43m)\u001b[49m)\n\u001b[0;32m      2\u001b[0m plt\u001b[38;5;241m.\u001b[39mxlabel(\u001b[38;5;124m'\u001b[39m\u001b[38;5;124mx\u001b[39m\u001b[38;5;124m'\u001b[39m)\n\u001b[0;32m      3\u001b[0m plt\u001b[38;5;241m.\u001b[39mylabel(\u001b[38;5;124m'\u001b[39m\u001b[38;5;124my\u001b[39m\u001b[38;5;124m'\u001b[39m)\n",
      "Input \u001b[1;32mIn [34]\u001b[0m, in \u001b[0;36mfunction\u001b[1;34m(x1)\u001b[0m\n\u001b[0;32m      1\u001b[0m \u001b[38;5;28;01mdef\u001b[39;00m \u001b[38;5;21mfunction\u001b[39m(x1):\n\u001b[1;32m----> 2\u001b[0m     F \u001b[38;5;241m=\u001b[39m \u001b[43msin\u001b[49m\u001b[43m(\u001b[49m\u001b[38;5;241;43m2\u001b[39;49m\u001b[43m \u001b[49m\u001b[38;5;241;43m*\u001b[39;49m\u001b[43m \u001b[49m\u001b[43mx1\u001b[49m\u001b[43m \u001b[49m\u001b[38;5;241;43m+\u001b[39;49m\u001b[43m \u001b[49m\u001b[38;5;241;43m1\u001b[39;49m\u001b[43m)\u001b[49m\u001b[38;5;241m*\u001b[39m\u001b[38;5;241m*\u001b[39m\u001b[38;5;241m5\u001b[39m\n\u001b[0;32m      3\u001b[0m     \u001b[38;5;28;01mreturn\u001b[39;00m F\n",
      "\u001b[1;31mTypeError\u001b[0m: only size-1 arrays can be converted to Python scalars"
     ]
    }
   ],
   "source": [
    "plt.plot(x1, function(x1))\n",
    "plt.xlabel('x')\n",
    "plt.ylabel('y')\n",
    "plt.show()"
   ]
  },
  {
   "cell_type": "code",
   "execution_count": null,
   "id": "5ee7d69a-3592-43b7-a303-1979270c31bd",
   "metadata": {},
   "outputs": [],
   "source": []
  }
 ],
 "metadata": {
  "kernelspec": {
   "display_name": "Python 3 (ipykernel)",
   "language": "python",
   "name": "python3"
  },
  "language_info": {
   "codemirror_mode": {
    "name": "ipython",
    "version": 3
   },
   "file_extension": ".py",
   "mimetype": "text/x-python",
   "name": "python",
   "nbconvert_exporter": "python",
   "pygments_lexer": "ipython3",
   "version": "3.9.12"
  }
 },
 "nbformat": 4,
 "nbformat_minor": 5
}
