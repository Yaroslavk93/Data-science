{
 "cells": [
  {
   "cell_type": "markdown",
   "id": "dcc9e040-0c4e-4dee-af93-b70e9981d6e0",
   "metadata": {},
   "source": [
    "# Домашнее задание \"Функции одной переменной\".\n",
    "## Уровень 0:\n",
    "### Задание 1\n",
    "Посчитайте значение первой и второй производной функции:  \n",
    "$f(x) = x^5 + 4sin(2x) + cos(3x+3)$  \n",
    "В точке x = 1."
   ]
  },
  {
   "cell_type": "code",
   "execution_count": 5,
   "id": "898477f0-3246-4bb7-966c-2cbadc81415a",
   "metadata": {},
   "outputs": [],
   "source": [
    "import sympy as sym\n",
    "import numpy as np"
   ]
  },
  {
   "cell_type": "code",
   "execution_count": 6,
   "id": "78d473fd-ab00-43ee-94f0-cc2b4f5ae3df",
   "metadata": {},
   "outputs": [],
   "source": [
    "x = sym.Symbol('x')"
   ]
  },
  {
   "cell_type": "code",
   "execution_count": 7,
   "id": "acb9b0d6-5cf4-460a-9f89-db2e3ecd5b17",
   "metadata": {},
   "outputs": [
    {
     "data": {
      "text/latex": [
       "$\\displaystyle x^{5} + 4 \\sin{\\left(2 x \\right)} + \\cos{\\left(3 x + 3 \\right)}$"
      ],
      "text/plain": [
       "x**5 + 4*sin(2*x) + cos(3*x + 3)"
      ]
     },
     "execution_count": 7,
     "metadata": {},
     "output_type": "execute_result"
    }
   ],
   "source": [
    "F = x**5 + 4 * sym.sin(2*x) + sym.cos(3 * x + 3)\n",
    "F"
   ]
  },
  {
   "cell_type": "code",
   "execution_count": 9,
   "id": "0d7f675a-9d30-4f54-9393-2ae60b7fde90",
   "metadata": {},
   "outputs": [
    {
     "data": {
      "text/latex": [
       "$\\displaystyle 5 x^{4} - 3 \\sin{\\left(3 x + 3 \\right)} + 8 \\cos{\\left(2 x \\right)}$"
      ],
      "text/plain": [
       "5*x**4 - 3*sin(3*x + 3) + 8*cos(2*x)"
      ]
     },
     "execution_count": 9,
     "metadata": {},
     "output_type": "execute_result"
    }
   ],
   "source": [
    "res1 = sym.diff(F, x)\n",
    "res1"
   ]
  },
  {
   "cell_type": "code",
   "execution_count": 10,
   "id": "7bd9024a-6ea1-49d8-a68a-d2d53d65d787",
   "metadata": {},
   "outputs": [
    {
     "data": {
      "text/latex": [
       "$\\displaystyle 20 x^{3} - 16 \\sin{\\left(2 x \\right)} - 9 \\cos{\\left(3 x + 3 \\right)}$"
      ],
      "text/plain": [
       "20*x**3 - 16*sin(2*x) - 9*cos(3*x + 3)"
      ]
     },
     "execution_count": 10,
     "metadata": {},
     "output_type": "execute_result"
    }
   ],
   "source": [
    "res2 = sym.diff(res, x)\n",
    "res2"
   ]
  },
  {
   "cell_type": "code",
   "execution_count": 22,
   "id": "ea7b204d-b127-43b6-bc9f-316bf31189d9",
   "metadata": {},
   "outputs": [
    {
     "name": "stdout",
     "output_type": "stream",
     "text": [
      "Значение первой производной = 2.50907180221964\n",
      "Значение второй происводной = -3.19029140906420\n"
     ]
    }
   ],
   "source": [
    "print(\n",
    "    'Значение первой производной = {}\\nЗначение второй происводной = {}'.format(\n",
    "        res1.evalf(subs={'x': 1}),\n",
    "        res2.evalf(subs={'x': 1})\n",
    "    )\n",
    ")"
   ]
  },
  {
   "cell_type": "markdown",
   "id": "17f2d231-36b6-41e7-9d28-667642f0cc43",
   "metadata": {},
   "source": [
    "## Уровень 1:\n",
    "### Задание 2\n",
    "Постройте график первой и второй производной функции:  \n",
    "$f(x) = sin^5(2x + 1)$  \n",
    "На отрезке [-5; 5]."
   ]
  },
  {
   "cell_type": "code",
   "execution_count": 23,
   "id": "c0f84b67-9d33-4493-a253-ec3ece8e0eaf",
   "metadata": {},
   "outputs": [],
   "source": [
    "import matplotlib.pyplot as plt"
   ]
  },
  {
   "cell_type": "code",
   "execution_count": 78,
   "id": "a51af7c2-522e-4192-8518-90f30a014884",
   "metadata": {},
   "outputs": [],
   "source": [
    "def func(F2, value):\n",
    "    f1 = F2.evalf(subs={'x': value})\n",
    "    f2_dif = sym.diff(F2)\n",
    "    f3_dif = sym.diff(f2_dif)\n",
    "    f2 = f2_dif.evalf(subs={'x': value})\n",
    "    f3 = f3_dif.evalf(subs={'x': value})\n",
    "    return f1, f2, f3"
   ]
  },
  {
   "cell_type": "code",
   "execution_count": 79,
   "id": "a016ee7b-e417-442d-8a6f-b88e8b14a2d2",
   "metadata": {},
   "outputs": [
    {
     "data": {
      "text/latex": [
       "$\\displaystyle \\sin^{5}{\\left(2 x + 1 \\right)}$"
      ],
      "text/plain": [
       "sin(2*x + 1)**5"
      ]
     },
     "execution_count": 79,
     "metadata": {},
     "output_type": "execute_result"
    }
   ],
   "source": [
    "F2 = sym.sin(2*x + 1)**5\n",
    "F2"
   ]
  },
  {
   "cell_type": "code",
   "execution_count": 30,
   "id": "9e98e9bf-20f2-4191-8123-4844a4904a98",
   "metadata": {},
   "outputs": [],
   "source": [
    "values = np.linspace(-5, 5, 1000)"
   ]
  },
  {
   "cell_type": "code",
   "execution_count": 89,
   "id": "a8021216-a6a4-4272-ac61-2e2c496a2d3c",
   "metadata": {},
   "outputs": [],
   "source": [
    "y1, y2, y3 = np.array([]), np.array([]), np.array([])"
   ]
  },
  {
   "cell_type": "code",
   "execution_count": 90,
   "id": "749ff3b1-4807-487f-814a-b140c207e1b9",
   "metadata": {},
   "outputs": [],
   "source": [
    "for i in values:\n",
    "    r1, r2, r3 = func(F2, i)\n",
    "    y1, y2, y3 = np.append(y1, r1), np.append(y2, r2), np.append(y3, r3)"
   ]
  },
  {
   "cell_type": "code",
   "execution_count": 95,
   "id": "d2ae9d3a-4984-425e-9d7a-09306d429f93",
   "metadata": {},
   "outputs": [
    {
     "data": {
      "image/png": "[encoded data removed]",
      "text/plain": [
       "<Figure size 432x288 with 1 Axes>"
      ]
     },
     "metadata": {
      "needs_background": "light"
     },
     "output_type": "display_data"
    }
   ],
   "source": [
    "plt.plot(values, y1, label='функция')\n",
    "plt.plot(values, y2, label='1 производная')\n",
    "plt.plot(values, y3, label='2 производная')\n",
    "\n",
    "plt.xlabel('x')\n",
    "plt.ylabel('y')\n",
    "\n",
    "plt.ylim([-30, 30])\n",
    "plt.xlim([-7, 7]) \n",
    "\n",
    "plt.legend()\n",
    "plt.show()"
   ]
  }
 ],
 "metadata": {
  "kernelspec": {
   "display_name": "Python 3 (ipykernel)",
   "language": "python",
   "name": "python3"
  },
  "language_info": {
   "codemirror_mode": {
    "name": "ipython",
    "version": 3
   },
   "file_extension": ".py",
   "mimetype": "text/x-python",
   "name": "python",
   "nbconvert_exporter": "python",
   "pygments_lexer": "ipython3",
   "version": "3.9.12"
  }
 },
 "nbformat": 4,
 "nbformat_minor": 5
}
