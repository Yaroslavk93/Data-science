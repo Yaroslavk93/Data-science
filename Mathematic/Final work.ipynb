{
 "cells": [
  {
   "cell_type": "markdown",
   "id": "d576a93b-a5e8-41ca-9040-72edf7e493cd",
   "metadata": {},
   "source": [
    "# Итоговая работа."
   ]
  },
  {
   "cell_type": "code",
   "execution_count": 37,
   "id": "b335ea69-0429-49e9-b9e1-1efe3e2b6817",
   "metadata": {},
   "outputs": [],
   "source": [
    "import matplotlib.pyplot as plt\n",
    "import numpy as np\n",
    "\n",
    "from scipy.optimize import differential_evolution\n",
    "from scipy.optimize import minimize\n",
    "from scipy.optimize import curve_fit\n",
    "from scipy.stats import norm\n",
    "%matplotlib inline"
   ]
  },
  {
   "cell_type": "markdown",
   "id": "14245c1b-d193-40fb-8562-0595a1777de1",
   "metadata": {},
   "source": [
    "## Задание 1\n",
    "Вычислите производную функции:  \n",
    "$tg^2(sin(x) + cos(2x+3))$  \n",
    "в точке $x_0=1$"
   ]
  },
  {
   "cell_type": "code",
   "execution_count": 2,
   "id": "5decc937-9cbc-4db2-9029-2fc8350262d6",
   "metadata": {},
   "outputs": [],
   "source": [
    "import sympy as sym"
   ]
  },
  {
   "cell_type": "code",
   "execution_count": 3,
   "id": "6ddfdd38-5057-43fd-8f63-69ce651188fe",
   "metadata": {},
   "outputs": [],
   "source": [
    "x = sym.Symbol('x')"
   ]
  },
  {
   "cell_type": "code",
   "execution_count": 5,
   "id": "82aceffe-9b4b-4015-b273-bd325a99ef23",
   "metadata": {},
   "outputs": [
    {
     "data": {
      "text/latex": [
       "$\\displaystyle \\tan^{2}{\\left(\\sin{\\left(x \\right)} + \\cos{\\left(2 x + 3 \\right)} \\right)}$"
      ],
      "text/plain": [
       "tan(sin(x) + cos(2*x + 3))**2"
      ]
     },
     "execution_count": 5,
     "metadata": {},
     "output_type": "execute_result"
    }
   ],
   "source": [
    "F1 = sym.tan(sym.sin(x) + sym.cos(2 * x + 3))**2\n",
    "F1"
   ]
  },
  {
   "cell_type": "markdown",
   "id": "464028aa-29e0-46ac-bd19-be0877a19b53",
   "metadata": {},
   "source": [
    "- Производная функции $F_1$"
   ]
  },
  {
   "cell_type": "code",
   "execution_count": 6,
   "id": "5654b634-e2a6-4416-a518-b5c5fa5088de",
   "metadata": {},
   "outputs": [
    {
     "data": {
      "text/latex": [
       "$\\displaystyle 2 \\left(- 2 \\sin{\\left(2 x + 3 \\right)} + \\cos{\\left(x \\right)}\\right) \\left(\\tan^{2}{\\left(\\sin{\\left(x \\right)} + \\cos{\\left(2 x + 3 \\right)} \\right)} + 1\\right) \\tan{\\left(\\sin{\\left(x \\right)} + \\cos{\\left(2 x + 3 \\right)} \\right)}$"
      ],
      "text/plain": [
       "2*(-2*sin(2*x + 3) + cos(x))*(tan(sin(x) + cos(2*x + 3))**2 + 1)*tan(sin(x) + cos(2*x + 3))"
      ]
     },
     "execution_count": 6,
     "metadata": {},
     "output_type": "execute_result"
    }
   ],
   "source": [
    "res1 = sym.diff(F1, x)\n",
    "res1"
   ]
  },
  {
   "cell_type": "markdown",
   "id": "1cc2a4ef-b39a-4e76-b9ce-ef074504a8bc",
   "metadata": {},
   "source": [
    "- Значение производной в точке $x_0 = 1$"
   ]
  },
  {
   "cell_type": "code",
   "execution_count": 7,
   "id": "ed314ced-668a-426d-ae5d-6099fd15dd64",
   "metadata": {},
   "outputs": [
    {
     "data": {
      "text/latex": [
       "$\\displaystyle 55.3859176353379$"
      ],
      "text/plain": [
       "55.3859176353379"
      ]
     },
     "execution_count": 7,
     "metadata": {},
     "output_type": "execute_result"
    }
   ],
   "source": [
    "res1 = res1.evalf(subs={'x': 1})\n",
    "res1"
   ]
  },
  {
   "cell_type": "markdown",
   "id": "8a5e03fd-89c7-430f-a7af-d89e3ab9e42f",
   "metadata": {},
   "source": [
    "## Задание 2\n",
    "Дана объект в $2D$ пространстве"
   ]
  },
  {
   "cell_type": "code",
   "execution_count": 28,
   "id": "666d9ee5-fd50-40db-9d2b-42bb64e55864",
   "metadata": {},
   "outputs": [
    {
     "data": {
      "text/plain": [
       "(-200.0, 200.0)"
      ]
     },
     "execution_count": 28,
     "metadata": {},
     "output_type": "execute_result"
    },
    {
     "data": {
      "image/png": "[encoded data removed]",
      "text/plain": [
       "<Figure size 432x288 with 1 Axes>"
      ]
     },
     "metadata": {
      "needs_background": "light"
     },
     "output_type": "display_data"
    }
   ],
   "source": [
    "A = [\n",
    "    [-100, -100, 1], \n",
    "    [0, 100, 1], \n",
    "    [100, -100, 1], \n",
    "    [-100, -100, 1]\n",
    "]\n",
    "\n",
    "A = np.array(A)\n",
    "\n",
    "x = A[:,0]\n",
    "y = A[:,1]\n",
    "plt.plot(x, y)\n",
    "plt.ylim([-200, 200])\n",
    "plt.xlim([-200, 200]) "
   ]
  },
  {
   "cell_type": "markdown",
   "id": "f0bd8fe8-1577-4c23-9b66-329059c9d432",
   "metadata": {},
   "source": [
    "При помощи матричных операций выполните:\n",
    "- Масштабирование и смещение объекта (применить 2 матрицы трансформаций). Масштабирование на (0.5, 1.2) и смещение на (200, 300)"
   ]
  },
  {
   "cell_type": "markdown",
   "id": "592e0697-09cc-4530-8142-0cb813adccd0",
   "metadata": {},
   "source": [
    "1) Изменение масштабирования объекта"
   ]
  },
  {
   "cell_type": "code",
   "execution_count": 29,
   "id": "9c25fcae-2a05-42f3-967b-9f91ccf17aed",
   "metadata": {},
   "outputs": [
    {
     "data": {
      "text/plain": [
       "(-250.0, 250.0)"
      ]
     },
     "execution_count": 29,
     "metadata": {},
     "output_type": "execute_result"
    },
    {
     "data": {
      "image/png": "[encoded data removed]",
      "text/plain": [
       "<Figure size 432x288 with 1 Axes>"
      ]
     },
     "metadata": {
      "needs_background": "light"
     },
     "output_type": "display_data"
    }
   ],
   "source": [
    "plt.plot(x * 0.5, y * 1.2)\n",
    "plt.ylim([-200, 200])\n",
    "plt.xlim([-250, 250]) "
   ]
  },
  {
   "cell_type": "markdown",
   "id": "9a9961dd-c1b5-44c2-90a4-1e13410da980",
   "metadata": {},
   "source": [
    "2) Смещение масштабированного объекта"
   ]
  },
  {
   "cell_type": "code",
   "execution_count": 30,
   "id": "09f4682b-f5b4-41d5-a4a8-cd8c8abee36b",
   "metadata": {},
   "outputs": [
    {
     "data": {
      "text/plain": [
       "(-100.0, 450.0)"
      ]
     },
     "execution_count": 30,
     "metadata": {},
     "output_type": "execute_result"
    },
    {
     "data": {
      "image/png": "[encoded data removed]",
      "text/plain": [
       "<Figure size 432x288 with 1 Axes>"
      ]
     },
     "metadata": {
      "needs_background": "light"
     },
     "output_type": "display_data"
    }
   ],
   "source": [
    "plt.plot((x * 0.5) + 200, (y * 1.2) + 300)\n",
    "plt.ylim([100, 450])\n",
    "plt.xlim([-100, 450]) "
   ]
  },
  {
   "cell_type": "markdown",
   "id": "22f11bcd-fdde-4ce0-88bb-b92404ed3e71",
   "metadata": {},
   "source": [
    "## Задание 3\n",
    "Найдите собственные значения и собственные вектора матрицы:"
   ]
  },
  {
   "cell_type": "code",
   "execution_count": 17,
   "id": "c7dd6388-f6ee-4cfc-afc8-a25f874d6399",
   "metadata": {},
   "outputs": [
    {
     "name": "stdout",
     "output_type": "stream",
     "text": [
      "[[1 4]\n",
      " [1 1]]\n"
     ]
    }
   ],
   "source": [
    "m = np.array([[1, 4],\n",
    "              [1, 1]])\n",
    "print(m)"
   ]
  },
  {
   "cell_type": "code",
   "execution_count": 21,
   "id": "a903c4c9-3ab9-4a67-90f6-75d3a6555357",
   "metadata": {},
   "outputs": [],
   "source": [
    "vect, val = np.linalg.eig(m)"
   ]
  },
  {
   "cell_type": "code",
   "execution_count": 22,
   "id": "bc38a206-7930-4b47-aaff-1e1dba1a638c",
   "metadata": {},
   "outputs": [
    {
     "data": {
      "text/plain": [
       "array([[ 0.89442719, -0.89442719],\n",
       "       [ 0.4472136 ,  0.4472136 ]])"
      ]
     },
     "execution_count": 22,
     "metadata": {},
     "output_type": "execute_result"
    }
   ],
   "source": [
    "val"
   ]
  },
  {
   "cell_type": "code",
   "execution_count": 23,
   "id": "e140229b-c2b2-4b23-8cbf-67d3d92ae98d",
   "metadata": {},
   "outputs": [
    {
     "data": {
      "text/plain": [
       "array([ 3., -1.])"
      ]
     },
     "execution_count": 23,
     "metadata": {},
     "output_type": "execute_result"
    }
   ],
   "source": [
    "vect"
   ]
  },
  {
   "cell_type": "markdown",
   "id": "7fcccb43-d606-4dc1-ab1e-1728fa355f60",
   "metadata": {},
   "source": [
    "# Задание 4\n",
    "Дана функция с неизвестными параметрами a и b, вам также известны значения функции $fx$ в точках $x$.\n",
    "\n",
    "Найдите оптимальные параметры a, b, минимизирующие абсолютную ошибку $error$."
   ]
  },
  {
   "cell_type": "code",
   "execution_count": 31,
   "id": "b24aefff-16b3-481a-983e-b87a6b3de2d1",
   "metadata": {},
   "outputs": [],
   "source": [
    "def f(x, a, b):\n",
    "    return np.e**a * np.sin(b*x) + x     "
   ]
  },
  {
   "cell_type": "code",
   "execution_count": 32,
   "id": "57251f10-f46f-4e47-af3d-53ad4561b79f",
   "metadata": {},
   "outputs": [],
   "source": [
    "x = np.array([0.        , 0.26315789, 0.52631579, 0.78947368, 1.05263158,\n",
    "              1.31578947, 1.57894737, 1.84210526, 2.10526316, 2.36842105,\n",
    "              2.63157895, 2.89473684, 3.15789474, 3.42105263, 3.68421053,\n",
    "              3.94736842, 4.21052632, 4.47368421, 4.73684211, 5.        ])\n",
    "\n",
    "fx = np.array([  0.        , -12.01819092, -18.90968634, -17.68786571,\n",
    "                -8.7529108 ,   4.27524517,  16.06801336,  21.81250213,\n",
    "                19.22059845,   9.48411207,  -3.22273056, -13.48576488,\n",
    "               -16.91096359, -11.95866834,  -0.58630088,  12.56873816,\n",
    "                22.12489421,  24.20292139,  18.04522521,   6.33211092])"
   ]
  },
  {
   "cell_type": "code",
   "execution_count": 33,
   "id": "e32547e6-ba5c-402f-98fb-a08c63d5d414",
   "metadata": {},
   "outputs": [
    {
     "data": {
      "image/png": "[encoded data removed]",
      "text/plain": [
       "<Figure size 432x288 with 1 Axes>"
      ]
     },
     "metadata": {
      "needs_background": "light"
     },
     "output_type": "display_data"
    }
   ],
   "source": [
    "plt.plot(x, fx)\n",
    "plt.show()"
   ]
  },
  {
   "cell_type": "code",
   "execution_count": 27,
   "id": "7ea558ce-8a18-4c7b-896d-ef3a85a64c06",
   "metadata": {},
   "outputs": [],
   "source": [
    "def error(params):\n",
    "    return np.sum(np.abs(fx - f(x, params[0], params[1])))"
   ]
  },
  {
   "cell_type": "code",
   "execution_count": 66,
   "id": "094aefa7-cb61-4830-a863-d810b18d5a14",
   "metadata": {},
   "outputs": [],
   "source": [
    "result_m = minimize(error, [0, 0],  method='COBYLA')"
   ]
  },
  {
   "cell_type": "code",
   "execution_count": 71,
   "id": "8fd1be7a-2baf-4831-95dd-7e37445e6e67",
   "metadata": {},
   "outputs": [
    {
     "name": "stdout",
     "output_type": "stream",
     "text": [
      "Оптимальные параметры:\n",
      "     fun: 0.07674566111565184\n",
      "   maxcv: 0.0\n",
      " message: 'Optimization terminated successfully.'\n",
      "    nfev: 135\n",
      "  status: 1\n",
      " success: True\n",
      "       x: array([ 3.00018796, -2.50008926])\n"
     ]
    }
   ],
   "source": [
    "print(f'Оптимальные параметры:\\n{result_m}')"
   ]
  },
  {
   "cell_type": "markdown",
   "id": "83c2c7f8-7476-422b-bb9e-3dfd6e730ae3",
   "metadata": {},
   "source": [
    "# Задание 5\n",
    "Дана матрица рейтингов фильмов (строки - пользователи (10 человек), столбцы - фильмы (15 фильмов))"
   ]
  },
  {
   "cell_type": "code",
   "execution_count": 40,
   "id": "c916a3a2-29e7-4793-a7e0-a583b2b452c8",
   "metadata": {},
   "outputs": [],
   "source": [
    "raitings = np.array([[ 4,  4,  9,  4,  1,  6, 10,  7,  9,  6,  9,  2,  8,  6,  6],\n",
    "                     [ 9,  2,  5, 10,  7,  8, 10,  5,  6,  2,  1,  6,  8,  9,  7],\n",
    "                     [ 1,  6,  8,  8,  4,  9,  3,  8, 10,  5,  2,  6,  8,  1,  6],\n",
    "                     [ 6,  1,  9,  7,  7,  9,  2,  3,  5,  1,  6,  6,  3,  2,  7],\n",
    "                     [ 3,  7,  3,  5,  7,  9,  9,  6,  2,  9,  1,  2,  8, 10,  6],\n",
    "                     [ 8,  3,  7,  3,  8,  6,  1,  8,  8,  6,  1,  9,  4, 10,  1],\n",
    "                     [ 9,  8,  4,  8,  8, 10,  6,  1,  1,  2,  9,  5,  2,  7,  2],\n",
    "                     [ 4,  1,  6,  4,  3, 10,  4,  4,  2,  8,  7,  9,  3,  8,  3],\n",
    "                     [ 2,  7,  7,  6, 10,  6,  8,  9,  8,  6, 10,  1,  7, 10,  4],\n",
    "                     [ 5, 10,  8,  8,  9,  7,  2,  9,  9, 10,  8,  8,  8,  6, 10]])"
   ]
  },
  {
   "cell_type": "markdown",
   "id": "c7a75d9a-52b6-49df-8084-75c9e187a459",
   "metadata": {},
   "source": [
    "Необходимо найти наиболее похожего пользователя по косинусной метрике для каждого из пользователей (ответ: 10 пар вида (x, y), где y - наиболее похожий пользователь на пользователя x)."
   ]
  },
  {
   "cell_type": "code",
   "execution_count": 97,
   "id": "307914d0-ceec-48dc-9fbb-6b017440d003",
   "metadata": {},
   "outputs": [],
   "source": [
    "users = []\n",
    "test = 1000"
   ]
  },
  {
   "cell_type": "code",
   "execution_count": 100,
   "id": "d4f35a81-9ea0-4ebb-b85a-7f28c093400c",
   "metadata": {},
   "outputs": [
    {
     "name": "stdout",
     "output_type": "stream",
     "text": [
      "Наиболее похожие пользователи:\n",
      "[ 1  6  8  8  4  9  3  8 10  5  2  6  8  1  6]\n",
      "[ 5 10  8  8  9  7  2  9  9 10  8  8  8  6 10]\n"
     ]
    }
   ],
   "source": [
    "for i in range(len(raitings), 0, -1):\n",
    "    user = raitings[i - 1]\n",
    "    for j in range(i-1):\n",
    "        a_len = np.linalg.norm(raitings[j])\n",
    "        b_len = np.linalg.norm(user)\n",
    "        f = np.arccos(np.dot(raitings[j], user) / (a_len * b_len)) * 360 / 2 / np.pi\n",
    "        \n",
    "        if f < test:\n",
    "            test = f\n",
    "            users = [raitings[j], user]\n",
    "\n",
    "print(f'Наиболее похожие пользователи:\\n{users[0]}\\n{users[1]}')"
   ]
  }
 ],
 "metadata": {
  "kernelspec": {
   "display_name": "Python 3 (ipykernel)",
   "language": "python",
   "name": "python3"
  },
  "language_info": {
   "codemirror_mode": {
    "name": "ipython",
    "version": 3
   },
   "file_extension": ".py",
   "mimetype": "text/x-python",
   "name": "python",
   "nbconvert_exporter": "python",
   "pygments_lexer": "ipython3",
   "version": "3.9.12"
  }
 },
 "nbformat": 4,
 "nbformat_minor": 5
}
