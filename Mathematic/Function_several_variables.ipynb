{
 "cells": [
  {
   "cell_type": "markdown",
   "id": "4b5803af-3b38-4ff0-b508-125239fe0fb6",
   "metadata": {},
   "source": [
    "# Домашнее задание \"Функции нескольких переменных\".\n",
    "## Уровень 0:\n",
    "### Задание 1\n",
    "Посчитайте частные производные функций:\n",
    "1) $f(x,y)=2x^2y^3 + 1/x + y^2x + 7$\n",
    "2) $f(x,y)=x^2y - sin(xy) + cos(x^2) + 6y$"
   ]
  },
  {
   "cell_type": "code",
   "execution_count": 29,
   "id": "df3f3d26-5a78-4dc1-941f-8f3667120931",
   "metadata": {},
   "outputs": [],
   "source": [
    "import sympy as sym\n",
    "import numpy as np"
   ]
  },
  {
   "cell_type": "code",
   "execution_count": 4,
   "id": "b42f5bea-4972-4ff4-b974-d2291ff87219",
   "metadata": {},
   "outputs": [],
   "source": [
    "x, y = sym.symbols('x y')"
   ]
  },
  {
   "cell_type": "code",
   "execution_count": 9,
   "id": "8f8b3578-ddeb-4859-9f2f-1b456df2ccc1",
   "metadata": {},
   "outputs": [
    {
     "data": {
      "text/latex": [
       "$\\displaystyle 2 x^{2} y^{3} + x y^{2} + 7 + \\frac{1}{x}$"
      ],
      "text/plain": [
       "2*x**2*y**3 + x*y**2 + 7 + 1/x"
      ]
     },
     "execution_count": 9,
     "metadata": {},
     "output_type": "execute_result"
    }
   ],
   "source": [
    "F1 = (2 * x**2 * y**3 + 1/x + y**2 * x) + 7\n",
    "F1"
   ]
  },
  {
   "cell_type": "code",
   "execution_count": 10,
   "id": "3e6ffa59-f105-41e1-a692-6fa0cbff1b7e",
   "metadata": {},
   "outputs": [
    {
     "data": {
      "text/latex": [
       "$\\displaystyle x^{2} y + 6 y - \\sin{\\left(x y \\right)} + \\cos{\\left(x^{2} \\right)}$"
      ],
      "text/plain": [
       "x**2*y + 6*y - sin(x*y) + cos(x**2)"
      ]
     },
     "execution_count": 10,
     "metadata": {},
     "output_type": "execute_result"
    }
   ],
   "source": [
    "F2 = x**2 * y - sym.sin(x * y) + sym.cos(x**2) + 6*y\n",
    "F2"
   ]
  },
  {
   "cell_type": "code",
   "execution_count": 18,
   "id": "b8c256ce-16c2-4ab6-9bbe-e7a6aa2634d5",
   "metadata": {},
   "outputs": [
    {
     "data": {
      "text/latex": [
       "$\\displaystyle 4 x y^{3} + y^{2} - \\frac{1}{x^{2}}$"
      ],
      "text/plain": [
       "4*x*y**3 + y**2 - 1/x**2"
      ]
     },
     "execution_count": 18,
     "metadata": {},
     "output_type": "execute_result"
    }
   ],
   "source": [
    "sym.diff(F1, x)"
   ]
  },
  {
   "cell_type": "code",
   "execution_count": 22,
   "id": "c5e4994b-119b-4c4f-bbf0-834afc13c2be",
   "metadata": {},
   "outputs": [
    {
     "data": {
      "text/latex": [
       "$\\displaystyle 6 x^{2} y^{2} + 2 x y$"
      ],
      "text/plain": [
       "6*x**2*y**2 + 2*x*y"
      ]
     },
     "execution_count": 22,
     "metadata": {},
     "output_type": "execute_result"
    }
   ],
   "source": [
    "sym.diff(F1, y)"
   ]
  },
  {
   "cell_type": "code",
   "execution_count": 24,
   "id": "f7fe4c75-4b66-4e14-8816-df02debb2f25",
   "metadata": {},
   "outputs": [
    {
     "data": {
      "text/latex": [
       "$\\displaystyle 2 x y - 2 x \\sin{\\left(x^{2} \\right)} - y \\cos{\\left(x y \\right)}$"
      ],
      "text/plain": [
       "2*x*y - 2*x*sin(x**2) - y*cos(x*y)"
      ]
     },
     "execution_count": 24,
     "metadata": {},
     "output_type": "execute_result"
    }
   ],
   "source": [
    "sym.diff(F2, x)"
   ]
  },
  {
   "cell_type": "code",
   "execution_count": 25,
   "id": "426833e2-aefd-46fc-9cfe-dc61a30a4a5c",
   "metadata": {},
   "outputs": [
    {
     "data": {
      "text/latex": [
       "$\\displaystyle 2 x y - 2 x \\sin{\\left(x^{2} \\right)} - y \\cos{\\left(x y \\right)}$"
      ],
      "text/plain": [
       "2*x*y - 2*x*sin(x**2) - y*cos(x*y)"
      ]
     },
     "execution_count": 25,
     "metadata": {},
     "output_type": "execute_result"
    }
   ],
   "source": [
    "sym.diff(F2, x)"
   ]
  },
  {
   "cell_type": "markdown",
   "id": "ace4e27d-efb7-44f3-98a8-6139fed54f26",
   "metadata": {},
   "source": [
    "## Уровень 1:\n",
    "### Задание 2\n",
    "Вычислите градиент функции:  \n",
    "$f(x,y)=2x^2y^3 + 1/x + y^2x + 7$  \n",
    "в точке $(1,2)$"
   ]
  },
  {
   "cell_type": "code",
   "execution_count": null,
   "id": "4a67bc2b-fb98-4f0b-a90d-497734b9a62e",
   "metadata": {},
   "outputs": [],
   "source": [
    "def func(formula):\n",
    "    return formula.evalf(subs={'x': 1, 'y': 2})"
   ]
  },
  {
   "cell_type": "code",
   "execution_count": 27,
   "id": "b7ffc845-9ecd-4173-8fcd-ea54b1b1407d",
   "metadata": {},
   "outputs": [
    {
     "data": {
      "text/latex": [
       "$\\displaystyle 2 x^{2} y^{3} + x y^{2} + 7 + \\frac{1}{x}$"
      ],
      "text/plain": [
       "2*x**2*y**3 + x*y**2 + 7 + 1/x"
      ]
     },
     "execution_count": 37,
     "metadata": {},
     "output_type": "execute_result"
    }
   ],
   "source": [
    "F3 = 2 * x**2 * y**3 + 1/x + y**2 * x +7\n",
    "F3"
   ]
  },
  {
   "cell_type": "code",
   "execution_count": 40,
   "id": "604874ac-6470-4982-a997-32d4edc3484c",
   "metadata": {},
   "outputs": [],
   "source": [
    "grad_F3 = np.array([[func(sym.diff(F3, x))], [func(sym.diff(F3, y))]])"
   ]
  },
  {
   "cell_type": "code",
   "execution_count": 41,
   "id": "6ef1b5f6-da69-429b-a868-6fb2444f826f",
   "metadata": {},
   "outputs": [
    {
     "name": "stdout",
     "output_type": "stream",
     "text": [
      "[[35.0000000000000]\n",
      " [28.0000000000000]]\n"
     ]
    }
   ],
   "source": [
    "print(grad_F3)"
   ]
  },
  {
   "cell_type": "markdown",
   "id": "ba5f3ce0-505e-4161-b4dc-34386b4f8fdc",
   "metadata": {},
   "source": [
    "### Задание 3\n",
    "Постройте трехмерный график функции  \n",
    "$f(x)=x_2^2-x_1^2 x_2 + 2 x_1 x_2$"
   ]
  },
  {
   "cell_type": "code",
   "execution_count": 42,
   "id": "0d899112-00b2-4369-ab79-ede5bca89646",
   "metadata": {},
   "outputs": [],
   "source": [
    "from mpl_toolkits.mplot3d import Axes3D\n",
    "import matplotlib.pyplot as plt\n",
    "from matplotlib import cm\n",
    "from matplotlib.ticker import LinearLocator, FormatStrFormatter"
   ]
  },
  {
   "cell_type": "code",
   "execution_count": 43,
   "id": "030ad65c-54de-4eec-bcc8-77d473560a56",
   "metadata": {},
   "outputs": [],
   "source": [
    "x1, x2 =sym.symbols('x1 x2')"
   ]
  },
  {
   "cell_type": "code",
   "execution_count": 46,
   "id": "7de107a4-2b38-4b38-9e22-33cc3ba384aa",
   "metadata": {},
   "outputs": [
    {
     "data": {
      "text/latex": [
       "$\\displaystyle - x_{1}^{2} x_{2} + 2 x_{1} x_{2} + x_{2}^{2}$"
      ],
      "text/plain": [
       "-x1**2*x2 + 2*x1*x2 + x2**2"
      ]
     },
     "execution_count": 46,
     "metadata": {},
     "output_type": "execute_result"
    }
   ],
   "source": [
    "F4 = x2**2 - x1**2 * x2 + 2 * x1 * x2\n",
    "F4"
   ]
  },
  {
   "cell_type": "code",
   "execution_count": 53,
   "id": "e0cf7e49-4566-471f-ae35-7f7bf832d25f",
   "metadata": {},
   "outputs": [],
   "source": [
    "X_nums = np.arange(-5, 5, 0.225)\n",
    "Y_nums = np.arange(-5, 5, 0.225)\n",
    "X_nums, Y_nums = np.meshgrid(X_nums, Y_nums)"
   ]
  },
  {
   "cell_type": "code",
   "execution_count": 109,
   "id": "2153ca72-7e12-4b11-86ed-fe04f4292d55",
   "metadata": {},
   "outputs": [],
   "source": [
    "Z = np.array([])"
   ]
  },
  {
   "cell_type": "code",
   "execution_count": 110,
   "id": "bbdfa468-2720-46d0-89a8-88cd9e3ee2bf",
   "metadata": {},
   "outputs": [],
   "source": [
    "for i in range(len(X_nums)):\n",
    "    l = np.array([])\n",
    "    for j in range(len(X_nums[i])):\n",
    "        Z = np.append(Z, [F4.evalf(subs={'x1': X_nums[i][j], 'x2':Y_nums[i][j]})])"
   ]
  },
  {
   "cell_type": "code",
   "execution_count": 112,
   "id": "7700bedd-5920-445b-b3f9-2aaf5c423ff8",
   "metadata": {},
   "outputs": [],
   "source": [
    "Z = Z.reshape((len(X_nums), len(X_nums[0])))"
   ]
  },
  {
   "cell_type": "code",
   "execution_count": 119,
   "id": "84283a1c-aa32-489c-bdea-b3ebc6c4986c",
   "metadata": {},
   "outputs": [
    {
     "name": "stderr",
     "output_type": "stream",
     "text": [
      "C:\\Users\\kozlov\\AppData\\Local\\Temp\\ipykernel_21536\\4005953522.py:2: MatplotlibDeprecationWarning: Calling gca() with keyword arguments was deprecated in Matplotlib 3.4. Starting two minor releases later, gca() will take no keyword arguments. The gca() function should only be used to get the current axes, or if no axes exist, create new axes with default keyword arguments. To create a new axes with non-default arguments, use plt.axes() or plt.subplot().\n",
      "  ax = fig.gca(projection='3d')\n"
     ]
    },
    {
     "data": {
      "image/png": "[encoded data removed]",
      "text/plain": [
       "<Figure size 432x288 with 2 Axes>"
      ]
     },
     "metadata": {
      "needs_background": "light"
     },
     "output_type": "display_data"
    }
   ],
   "source": [
    "fig = plt.figure()\n",
    "ax = fig.gca(projection='3d')\n",
    "surf = ax.plot_surface(X_nums, Y_nums, Z, cmap=cm.coolwarm, linewidth=0, antialiased=False)\n",
    "\n",
    "# ax.set_zlim(-1, 1.0)\n",
    "ax.zaxis.set_major_locator(LinearLocator(10))\n",
    "ax.zaxis.set_major_formatter(FormatStrFormatter('%.02f'))\n",
    "\n",
    "fig.colorbar(surf, shrink=0.5, aspect=5)\n",
    "\n",
    "ax.azim = 10\n",
    "ax.dist = 10\n",
    "ax.elev = 30\n",
    "plt.show()"
   ]
  }
 ],
 "metadata": {
  "kernelspec": {
   "display_name": "Python 3 (ipykernel)",
   "language": "python",
   "name": "python3"
  },
  "language_info": {
   "codemirror_mode": {
    "name": "ipython",
    "version": 3
   },
   "file_extension": ".py",
   "mimetype": "text/x-python",
   "name": "python",
   "nbconvert_exporter": "python",
   "pygments_lexer": "ipython3",
   "version": "3.9.12"
  }
 },
 "nbformat": 4,
 "nbformat_minor": 5
}
