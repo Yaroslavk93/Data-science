{
 "cells": [
  {
   "cell_type": "markdown",
   "id": "7bb20a9c-ae8f-4061-9b82-7ae6177cf4bb",
   "metadata": {
    "tags": []
   },
   "source": [
    "# Домашнее задание \"Линейная алгебра. Матрицы\".\n",
    "## Уровень 0:\n",
    "### Задание 1\n",
    "Создайте матрицу 3 на 3, заполненную числами от 1 до 9\n",
    "- Прибавьте к ней матрицу с единицами на диагонале\n",
    "- Умножьте полученную матрицу на вектор (1, 2, 3)\n",
    "- Вычислить транспонированную матрицу $A^T$ от полученной в результате прибавления матрицы\n",
    "- Посчитайте обратную матрицу к полученной в результате прибавления матрице"
   ]
  },
  {
   "cell_type": "code",
   "execution_count": 31,
   "id": "3c59c7ae-5043-4f4f-9f18-487039f194e3",
   "metadata": {},
   "outputs": [],
   "source": [
    "import numpy as np"
   ]
  },
  {
   "cell_type": "code",
   "execution_count": 32,
   "id": "a3ff3451-d4e0-4ca2-a141-83fbf21e8f9c",
   "metadata": {},
   "outputs": [
    {
     "data": {
      "text/plain": [
       "array([[1, 2, 3],\n",
       "       [4, 5, 6],\n",
       "       [7, 8, 9]])"
      ]
     },
     "execution_count": 32,
     "metadata": {},
     "output_type": "execute_result"
    }
   ],
   "source": [
    "A1 = np.array([[1, 2, 3], [4, 5, 6], [7, 8, 9]]) #Телефонная матрица\n",
    "A1"
   ]
  },
  {
   "cell_type": "code",
   "execution_count": 33,
   "id": "aef3601b-f02f-41ee-bf30-a2777bbaa0f9",
   "metadata": {},
   "outputs": [
    {
     "data": {
      "text/plain": [
       "array([[ 2.,  2.,  3.],\n",
       "       [ 4.,  6.,  6.],\n",
       "       [ 7.,  8., 10.]])"
      ]
     },
     "execution_count": 33,
     "metadata": {},
     "output_type": "execute_result"
    }
   ],
   "source": [
    "A2 = A1 + np.eye(3) #Прибавляем матрицу с единицами по диагонали\n",
    "A2"
   ]
  },
  {
   "cell_type": "code",
   "execution_count": 34,
   "id": "d8efb958-c0bb-4269-bb00-05af01846f69",
   "metadata": {},
   "outputs": [
    {
     "data": {
      "text/plain": [
       "array([15., 34., 53.])"
      ]
     },
     "execution_count": 34,
     "metadata": {},
     "output_type": "execute_result"
    }
   ],
   "source": [
    "A3 = A2.dot(np.array([1, 2, 3])) #Умножаем на вектор\n",
    "A3"
   ]
  },
  {
   "cell_type": "code",
   "execution_count": 35,
   "id": "b01523c9-e7bf-4c09-ba94-7424afa03073",
   "metadata": {},
   "outputs": [
    {
     "data": {
      "text/plain": [
       "array([[ 2.,  4.,  7.],\n",
       "       [ 2.,  6.,  8.],\n",
       "       [ 3.,  6., 10.]])"
      ]
     },
     "execution_count": 35,
     "metadata": {},
     "output_type": "execute_result"
    }
   ],
   "source": [
    "np.transpose(A2) #Транспонированная матрица"
   ]
  },
  {
   "cell_type": "code",
   "execution_count": 36,
   "id": "8d4109d2-1bd6-4248-87ff-e35c3b1fc54a",
   "metadata": {},
   "outputs": [
    {
     "data": {
      "text/plain": [
       "array([[-6.00000000e+00, -2.00000000e+00,  3.00000000e+00],\n",
       "       [-1.00000000e+00,  5.00000000e-01,  2.22044605e-17],\n",
       "       [ 5.00000000e+00,  1.00000000e+00, -2.00000000e+00]])"
      ]
     },
     "execution_count": 36,
     "metadata": {},
     "output_type": "execute_result"
    }
   ],
   "source": [
    "A4 = np.linalg.inv(A2) #Обратная матрица\n",
    "A4"
   ]
  },
  {
   "cell_type": "markdown",
   "id": "676382d2-94d4-4064-9185-2fc5c7e81b30",
   "metadata": {},
   "source": [
    "Проверяем - является ли матрица A4 обратной матрицы A2"
   ]
  },
  {
   "cell_type": "code",
   "execution_count": 37,
   "id": "8d8902bb-67af-4de6-bd04-9c8e91c34841",
   "metadata": {},
   "outputs": [
    {
     "data": {
      "text/plain": [
       "3"
      ]
     },
     "execution_count": 37,
     "metadata": {},
     "output_type": "execute_result"
    }
   ],
   "source": [
    "np.linalg.matrix_rank(A2)"
   ]
  },
  {
   "cell_type": "code",
   "execution_count": 38,
   "id": "33670763-a328-4a87-907e-eb0baff0edaa",
   "metadata": {},
   "outputs": [
    {
     "data": {
      "text/plain": [
       "3"
      ]
     },
     "execution_count": 38,
     "metadata": {},
     "output_type": "execute_result"
    }
   ],
   "source": [
    "np.linalg.matrix_rank(A4)"
   ]
  },
  {
   "cell_type": "markdown",
   "id": "f52e713c-61e2-4f70-9702-9be80107d35e",
   "metadata": {},
   "source": [
    "## Уровень 1:\n",
    "### Задание 2\n",
    "Найдите собственные значения и собственные вектора матрицы:"
   ]
  },
  {
   "cell_type": "code",
   "execution_count": 40,
   "id": "536b8a83-8c7a-4db4-b93f-b4d8ac0b4381",
   "metadata": {},
   "outputs": [
    {
     "name": "stdout",
     "output_type": "stream",
     "text": [
      "[[2 2]\n",
      " [1 3]]\n"
     ]
    }
   ],
   "source": [
    "m = np.array([[2, 2],\n",
    "              [1, 3]])\n",
    "print(m)"
   ]
  },
  {
   "cell_type": "code",
   "execution_count": 44,
   "id": "46c80a2e-abfa-44ba-b89d-4017c3a6f3e1",
   "metadata": {},
   "outputs": [],
   "source": [
    "values, vectors = np.linalg.eig(m)"
   ]
  },
  {
   "cell_type": "code",
   "execution_count": 48,
   "id": "3b0dcc72-e6e1-447a-92af-11663c5906c3",
   "metadata": {},
   "outputs": [
    {
     "data": {
      "text/plain": [
       "array([1., 4.])"
      ]
     },
     "execution_count": 48,
     "metadata": {},
     "output_type": "execute_result"
    }
   ],
   "source": [
    "values #Собственные значения матрицы"
   ]
  },
  {
   "cell_type": "code",
   "execution_count": 55,
   "id": "43ff1198-38a3-4ecd-8f2a-8f2566346ab3",
   "metadata": {},
   "outputs": [
    {
     "data": {
      "text/plain": [
       "array([[-0.89442719,  0.4472136 ],\n",
       "       [-0.70710678, -0.70710678]])"
      ]
     },
     "execution_count": 55,
     "metadata": {},
     "output_type": "execute_result"
    }
   ],
   "source": [
    "result = np.transpose(vectors) #Собственные векторы матрицы\n",
    "result"
   ]
  },
  {
   "cell_type": "markdown",
   "id": "4c4637ac-0855-4cba-ae7a-19070bf9eebe",
   "metadata": {},
   "source": [
    "Преобразуем вектора для удобства вычислений"
   ]
  },
  {
   "cell_type": "code",
   "execution_count": 56,
   "id": "587dc6f4-6789-46a6-9ae6-7eea19b6b7f7",
   "metadata": {},
   "outputs": [
    {
     "data": {
      "text/plain": [
       "array([-1.99999998,  0.99999999])"
      ]
     },
     "execution_count": 56,
     "metadata": {},
     "output_type": "execute_result"
    }
   ],
   "source": [
    "result[0] / 0.4472136 "
   ]
  },
  {
   "cell_type": "code",
   "execution_count": 57,
   "id": "db99d848-b6df-4f51-8040-3a1e922a19e9",
   "metadata": {},
   "outputs": [
    {
     "data": {
      "text/plain": [
       "array([1., 1.])"
      ]
     },
     "execution_count": 57,
     "metadata": {},
     "output_type": "execute_result"
    }
   ],
   "source": [
    "result[1] / -0.70710678"
   ]
  },
  {
   "cell_type": "markdown",
   "id": "f1ef27c1-d04f-401d-8c2d-e61396255db0",
   "metadata": {},
   "source": [
    "### Задание 3\n",
    "Придумайте матрицу, у которой определитель = 1, и все элементы не равны 0.\n",
    "\n",
    "P.S. Матрица должна быть ненулевой и размерностью не менее 2!"
   ]
  },
  {
   "cell_type": "code",
   "execution_count": 66,
   "id": "451752f9-d09a-4a0b-be30-8d787c705ac9",
   "metadata": {},
   "outputs": [
    {
     "name": "stdout",
     "output_type": "stream",
     "text": [
      "искомая матрица: \n",
      " [[ 0  4  5]\n",
      " [ 7 -6 -6]\n",
      " [-1  1  1]]\n"
     ]
    }
   ],
   "source": [
    "det = 0\n",
    "\n",
    "while det != 1:\n",
    "    a = np.random.randint(-10,10,(3,3))\n",
    "    det=np.linalg.det(a)\n",
    "    \n",
    "print('искомая матрица: \\n',a)"
   ]
  }
 ],
 "metadata": {
  "kernelspec": {
   "display_name": "Python 3 (ipykernel)",
   "language": "python",
   "name": "python3"
  },
  "language_info": {
   "codemirror_mode": {
    "name": "ipython",
    "version": 3
   },
   "file_extension": ".py",
   "mimetype": "text/x-python",
   "name": "python",
   "nbconvert_exporter": "python",
   "pygments_lexer": "ipython3",
   "version": "3.9.12"
  }
 },
 "nbformat": 4,
 "nbformat_minor": 5
}
