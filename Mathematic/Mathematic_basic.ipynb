{
 "cells": [
  {
   "cell_type": "markdown",
   "id": "a5c1fd74-10fb-4ce1-a35e-31547aabd7cd",
   "metadata": {
    "jp-MarkdownHeadingCollapsed": true,
    "tags": []
   },
   "source": [
    "# Домашнее задание \"Основные математические понятия\"."
   ]
  },
  {
   "cell_type": "markdown",
   "id": "69725530-2529-43c8-9d26-e49b7d808265",
   "metadata": {},
   "source": [
    "## Уровень 0:"
   ]
  },
  {
   "cell_type": "markdown",
   "id": "4f8cbcc6-bde4-43e3-aff9-8695aed21a85",
   "metadata": {},
   "source": [
    "Представим фильмы в виде бинарных векторов (numpy array) используя следующие признаки:\n",
    "\n",
    "[Комедия, Боевик, Исторический, Бред Питт, Бенедикт Камбербэтч, Квентин Тарантино]\n",
    "\n",
    "<a href=\"https://www.kinopoisk.ru/film/635772/\">**Игра в имитацию**</a>\n",
    "\n",
    "<a href=\"https://www.kinopoisk.ru/film/740644/\">**Ярость**</a>\n",
    "\n",
    "<a href=\"https://www.kinopoisk.ru/film/606646/\">**12 лет рабства**</a>\n",
    "\n",
    "<a href=\"https://www.kinopoisk.ru/film/1047883/ \">**Однажды в Голливуде**</a>"
   ]
  },
  {
   "cell_type": "code",
   "execution_count": 5,
   "id": "e3d60208-502b-4659-b557-db3dfe111360",
   "metadata": {},
   "outputs": [],
   "source": [
    "import numpy as np\n",
    "import matplotlib.pyplot as plt"
   ]
  },
  {
   "cell_type": "code",
   "execution_count": 4,
   "id": "6b8fc531-2751-472f-ade3-dd76633782f4",
   "metadata": {},
   "outputs": [],
   "source": [
    "film_1 = np.array([0,0,0,0,1,0]) # Игра в имитацию\n",
    "\n",
    "film_2 = np.array([0,1,0,1,0,0]) # Ярость\n",
    "\n",
    "film_3 = np.array([0,0,1,1,1,0]) # 12 лет рабства\n",
    "\n",
    "film_4 = np.array([1,0,0,1,0,1]) # Однажды в Голливуде"
   ]
  },
  {
   "cell_type": "markdown",
   "id": "1f8ee653-64ff-48c4-b4a6-45bd7af994c1",
   "metadata": {},
   "source": [
    "## Задание 1\n",
    "Найти угол между векторами-фильмами \"Ярость\" и \"12 лет рабства\". Результатом будет являться косинусная мера, которую можно использовать для определения похожести векторов."
   ]
  },
  {
   "cell_type": "code",
   "execution_count": 11,
   "id": "8952b396-f0ae-4af4-9bbd-a9e199992624",
   "metadata": {},
   "outputs": [],
   "source": [
    "skal = np.dot(film_2, film_3) #Скалярное произведение\n",
    "e_f2 = np.linalg.norm(film_2) #Евклидова норма\n",
    "e_f3 = np.linalg.norm(film_3)"
   ]
  },
  {
   "cell_type": "code",
   "execution_count": 15,
   "id": "620d0d9b-31ec-4fd3-8ba0-c860151fd296",
   "metadata": {},
   "outputs": [
    {
     "name": "stdout",
     "output_type": "stream",
     "text": [
      "Угол м/у векторами фильмов \"Ярость\" и \"12 лет рабства\" равен 65.9 градус(a/ов)\n"
     ]
    }
   ],
   "source": [
    "angle = round(np.rad2deg(np.arccos(skal / (e_f2 * e_f3))), 1)\n",
    "print(f'Угол м/у векторами фильмов \"Ярость\" и \"12 лет рабства\" равен {angle} градус(a/ов)')"
   ]
  },
  {
   "cell_type": "markdown",
   "id": "31bbb29e-901a-4716-bacf-d9c204f0c5c8",
   "metadata": {},
   "source": [
    "## Уровень 1:\n",
    "# Задание 2\n",
    "Вычислить с помощью Python значение первой производной для функции $8x(x+3)^2$ в точке $x=1$"
   ]
  },
  {
   "cell_type": "code",
   "execution_count": 16,
   "id": "a7c2d431-871f-4b39-9f9d-e62879b0d1da",
   "metadata": {},
   "outputs": [],
   "source": [
    "import sympy as sym"
   ]
  },
  {
   "cell_type": "code",
   "execution_count": 17,
   "id": "c260851a-a6ba-4d66-b2c0-4bd228c6e16f",
   "metadata": {},
   "outputs": [],
   "source": [
    "x = sym.Symbol('x')"
   ]
  },
  {
   "cell_type": "code",
   "execution_count": 19,
   "id": "da3d326a-ca71-4a18-94a0-46bee44a8b94",
   "metadata": {},
   "outputs": [
    {
     "data": {
      "text/latex": [
       "$\\displaystyle 8 x \\left(x + 3\\right)^{2}$"
      ],
      "text/plain": [
       "8*x*(x + 3)**2"
      ]
     },
     "execution_count": 19,
     "metadata": {},
     "output_type": "execute_result"
    }
   ],
   "source": [
    "F = 8 * x * (x + 3)**2\n",
    "F"
   ]
  },
  {
   "cell_type": "code",
   "execution_count": 25,
   "id": "9cba53b7-266a-44bc-9eba-458ac5614596",
   "metadata": {},
   "outputs": [
    {
     "data": {
      "text/latex": [
       "$\\displaystyle 8 x \\left(2 x + 6\\right) + 8 \\left(x + 3\\right)^{2}$"
      ],
      "text/plain": [
       "8*x*(2*x + 6) + 8*(x + 3)**2"
      ]
     },
     "execution_count": 25,
     "metadata": {},
     "output_type": "execute_result"
    }
   ],
   "source": [
    "res = sym.diff(F, x)\n",
    "res"
   ]
  },
  {
   "cell_type": "code",
   "execution_count": 24,
   "id": "50a2892a-9e81-472d-8dc1-b186c3db6807",
   "metadata": {},
   "outputs": [
    {
     "data": {
      "text/latex": [
       "$\\displaystyle 192$"
      ],
      "text/plain": [
       "192"
      ]
     },
     "execution_count": 24,
     "metadata": {},
     "output_type": "execute_result"
    }
   ],
   "source": [
    "res.subs(x, 1)"
   ]
  },
  {
   "cell_type": "markdown",
   "id": "ae89999a-406b-43ef-bcdc-014e3a4f6866",
   "metadata": {},
   "source": [
    "## Задание 3\n",
    "Объединить векторы фильмов в матрицу, где каждый вектор является строкой матрицы. Умножьте вектор [1,2,3,4] на полученную матрицу"
   ]
  },
  {
   "cell_type": "code",
   "execution_count": 28,
   "id": "c7d69d97-d97e-4a5d-8fec-7c6280b0774a",
   "metadata": {},
   "outputs": [],
   "source": [
    "full_films = np.vstack([film_1, film_2, film_3, film_4])"
   ]
  },
  {
   "cell_type": "code",
   "execution_count": 29,
   "id": "87e7da91-cd49-426b-80ab-9c7e7693043b",
   "metadata": {},
   "outputs": [
    {
     "data": {
      "text/plain": [
       "array([[0, 0, 0, 0, 1, 0],\n",
       "       [0, 1, 0, 1, 0, 0],\n",
       "       [0, 0, 1, 1, 1, 0],\n",
       "       [1, 0, 0, 1, 0, 1]])"
      ]
     },
     "execution_count": 29,
     "metadata": {},
     "output_type": "execute_result"
    }
   ],
   "source": [
    "full_films"
   ]
  },
  {
   "cell_type": "code",
   "execution_count": 32,
   "id": "c8131935-ca54-4d4d-97fa-c783f26c98c8",
   "metadata": {},
   "outputs": [],
   "source": [
    "result = np.array([1, 2, 3, 4]).dot(full_films)"
   ]
  },
  {
   "cell_type": "code",
   "execution_count": 33,
   "id": "e00365b4-85ad-475f-97fb-145a72444602",
   "metadata": {},
   "outputs": [
    {
     "data": {
      "text/plain": [
       "array([4, 2, 3, 9, 4, 4])"
      ]
     },
     "execution_count": 33,
     "metadata": {},
     "output_type": "execute_result"
    }
   ],
   "source": [
    "result"
   ]
  }
 ],
 "metadata": {
  "kernelspec": {
   "display_name": "Python 3 (ipykernel)",
   "language": "python",
   "name": "python3"
  },
  "language_info": {
   "codemirror_mode": {
    "name": "ipython",
    "version": 3
   },
   "file_extension": ".py",
   "mimetype": "text/x-python",
   "name": "python",
   "nbconvert_exporter": "python",
   "pygments_lexer": "ipython3",
   "version": "3.9.12"
  }
 },
 "nbformat": 4,
 "nbformat_minor": 5
}
