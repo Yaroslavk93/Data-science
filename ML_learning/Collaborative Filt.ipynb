{
 "cells": [
  {
   "cell_type": "markdown",
   "id": "3a167253-776e-4d17-aa4e-301b3f2b3f80",
   "metadata": {},
   "source": [
    "# Коллаборативная фильтрация"
   ]
  },
  {
   "cell_type": "markdown",
   "id": "d7c5b436-52a7-40ad-aa7d-9f8ba490eb30",
   "metadata": {},
   "source": [
    "1. **Используем датасет MovieLens**"
   ]
  },
  {
   "cell_type": "code",
   "execution_count": 6,
   "id": "064354ac-0683-4f12-81cf-4226412f5152",
   "metadata": {
    "tags": []
   },
   "outputs": [],
   "source": [
    "import pandas as pd\n",
    "\n",
    "# Загрузка данных оценок\n",
    "ratings_df = pd.read_csv('C:/Users/Yaros/Downloads/ml-latest/ml-latest/ratings.csv')"
   ]
  },
  {
   "cell_type": "code",
   "execution_count": 7,
   "id": "993d5df7-1e44-422b-bf8e-ca74e75ee671",
   "metadata": {
    "tags": []
   },
   "outputs": [],
   "source": [
    "from surprise import Dataset, Reader\n",
    "\n",
    "# Определение формата данных\n",
    "reader = Reader(rating_scale=(0.5, 5.0))\n",
    "\n",
    "# Загрузка данных в Surprise\n",
    "data = Dataset.load_from_df(ratings_df[['userId', 'movieId', 'rating']], reader)"
   ]
  },
  {
   "cell_type": "markdown",
   "id": "c3b1e3cf-edcc-4db6-b791-a333d21b5fdf",
   "metadata": {},
   "source": [
    "2. **Выбор и обучение модели**"
   ]
  },
  {
   "cell_type": "markdown",
   "id": "7e8309d9-9657-4d1c-833a-98508dafe5c7",
   "metadata": {},
   "source": [
    "Для начала, можно использовать алгоритм SVD, который часто показывает хорошие результаты на задачах рекомендаций. Также проведем простой поиск по сетке для оптимизации гиперпараметров модели SVD, чтобы попытаться достичь RMSE на уровне 0,87 или ниже."
   ]
  },
  {
   "cell_type": "code",
   "execution_count": 8,
   "id": "c9e37d74-567c-48e8-bc71-67decacdbdcc",
   "metadata": {
    "tags": []
   },
   "outputs": [
    {
     "name": "stdout",
     "output_type": "stream",
     "text": [
      "{'n_epochs': 20, 'lr_all': 0.002, 'reg_all': 0.4}\n",
      "RMSE: 0.8756\n"
     ]
    }
   ],
   "source": [
    "from surprise.model_selection import cross_validate, train_test_split\n",
    "from surprise import SVD, accuracy\n",
    "from surprise.model_selection import GridSearchCV\n",
    "\n",
    "# Разделение данных на обучающую и тестовую выборки\n",
    "trainset, testset = train_test_split(data, test_size=0.25)\n",
    "\n",
    "# Обучение модели SVD\n",
    "model = SVD()\n",
    "\n",
    "# Поиск по сетке для настройки гиперпараметров SVD\n",
    "param_grid = {\n",
    "    'n_epochs': [5, 10, 20], \n",
    "    'lr_all': [0.002, 0.005],\n",
    "    'reg_all': [0.4, 0.6]\n",
    "}\n",
    "gs = GridSearchCV(SVD, param_grid, measures=['rmse'], cv=3)\n",
    "gs.fit(data)\n",
    "\n",
    "# Лучшие параметры\n",
    "print(gs.best_params['rmse'])\n",
    "\n",
    "# Обучение модели с лучшими параметрами на полном тренировочном наборе\n",
    "best_model = gs.best_estimator['rmse']\n",
    "trainset = data.build_full_trainset()\n",
    "best_model.fit(trainset)\n",
    "\n",
    "# Предсказания на тестовой выборке\n",
    "predictions = best_model.test(testset)\n",
    "\n",
    "# Вычисление RMSE\n",
    "rmse = accuracy.rmse(predictions)"
   ]
  },
  {
   "cell_type": "code",
   "execution_count": 9,
   "id": "2b6c7edf-9712-4f82-9605-f7cb2f4e4dcb",
   "metadata": {
    "tags": []
   },
   "outputs": [
    {
     "name": "stdout",
     "output_type": "stream",
     "text": [
      "0.875633752533992\n"
     ]
    }
   ],
   "source": [
    "print(rmse)"
   ]
  },
  {
   "cell_type": "markdown",
   "id": "3291c865-dd4e-47ff-973c-cc914e0215cd",
   "metadata": {},
   "source": [
    "Модель SVD (Singular Value Decomposition) была выбрана из-за её популярности и эффективности в задачах коллаборативной фильтрации. Этот алгоритм часто демонстрирует высокую точность предсказаний в системах рекомендаций.  \n",
    "  \n",
    "Поиск по сетке для настройки гиперпараметров (GridSearchCV) использовался для оптимизации параметров модели SVD, таких как количество эпох обучения, скорость обучения и параметры регуляризации, с целью достижения наилучшего значения RMSE."
   ]
  }
 ],
 "metadata": {
  "kernelspec": {
   "display_name": "Python 3 (ipykernel)",
   "language": "python",
   "name": "python3"
  },
  "language_info": {
   "codemirror_mode": {
    "name": "ipython",
    "version": 3
   },
   "file_extension": ".py",
   "mimetype": "text/x-python",
   "name": "python",
   "nbconvert_exporter": "python",
   "pygments_lexer": "ipython3",
   "version": "3.11.5"
  }
 },
 "nbformat": 4,
 "nbformat_minor": 5
}
