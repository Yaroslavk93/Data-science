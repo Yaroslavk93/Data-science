{
 "cells": [
  {
   "cell_type": "markdown",
   "id": "0bf70ed0-c294-4e00-8d00-3c990ef6aa75",
   "metadata": {},
   "source": [
    "# Функции потерь и оптимизация"
   ]
  },
  {
   "cell_type": "markdown",
   "id": "db3cf424-a00b-41f4-b0b1-ebb7f427d1fd",
   "metadata": {},
   "source": [
    "1. Загрузите данные. Используйте [датасет](https://scikit-learn.org/stable/modules/generated/sklearn.datasets.load_iris.html) с ирисами. Его можно загрузить непосредственно из библиотеки Sklearn. В данных оставьте только 2 класса: Iris Versicolor, Iris Virginica."
   ]
  },
  {
   "cell_type": "code",
   "execution_count": 1,
   "id": "051b9b1b-e966-42d6-ab2c-7e48b77d69cd",
   "metadata": {
    "tags": []
   },
   "outputs": [],
   "source": [
    "from sklearn.datasets import load_iris\n",
    "import pandas as pd\n",
    "import numpy as np"
   ]
  },
  {
   "cell_type": "code",
   "execution_count": 2,
   "id": "6b6ebc5b-f39e-4c24-9ad7-0090453da833",
   "metadata": {
    "tags": []
   },
   "outputs": [],
   "source": [
    "# Загрузка датасета Iris\n",
    "iris = load_iris()"
   ]
  },
  {
   "cell_type": "code",
   "execution_count": 3,
   "id": "26cd1ae0-9cee-4a40-9a08-2dbc303caa68",
   "metadata": {
    "tags": []
   },
   "outputs": [],
   "source": [
    "# Загрузка датасета Iris\n",
    "iris = load_iris()\n",
    "X = iris.data\n",
    "y = iris.target\n",
    "feature_names = iris.feature_names"
   ]
  },
  {
   "cell_type": "code",
   "execution_count": 4,
   "id": "c5e207d2-75fe-448f-aa92-54fde2402f8a",
   "metadata": {
    "tags": []
   },
   "outputs": [],
   "source": [
    "# Фильтрация для классов Iris Versicolor (1) и Iris Virginica (2)\n",
    "filter_classes = (y == 1) | (y == 2)\n",
    "X_filtered = X[filter_classes]\n",
    "y_filtered = y[filter_classes]"
   ]
  },
  {
   "cell_type": "code",
   "execution_count": 5,
   "id": "50661492-cce1-489a-8359-45aff42e4d12",
   "metadata": {
    "tags": []
   },
   "outputs": [],
   "source": [
    "# Преобразование y в бинарный формат (0 и 1)\n",
    "y_filtered = y_filtered - 1\n",
    "\n",
    "# Конвертация в DataFrame для удобства\n",
    "iris_df = pd.DataFrame(X_filtered, columns=feature_names)\n",
    "iris_df['class'] = y_filtered"
   ]
  },
  {
   "cell_type": "code",
   "execution_count": 6,
   "id": "8ca84c1f-8236-47a7-b12a-6c8256ff634d",
   "metadata": {
    "tags": []
   },
   "outputs": [
    {
     "data": {
      "text/html": [
       "<div>\n",
       "<style scoped>\n",
       "    .dataframe tbody tr th:only-of-type {\n",
       "        vertical-align: middle;\n",
       "    }\n",
       "\n",
       "    .dataframe tbody tr th {\n",
       "        vertical-align: top;\n",
       "    }\n",
       "\n",
       "    .dataframe thead th {\n",
       "        text-align: right;\n",
       "    }\n",
       "</style>\n",
       "<table border=\"1\" class=\"dataframe\">\n",
       "  <thead>\n",
       "    <tr style=\"text-align: right;\">\n",
       "      <th></th>\n",
       "      <th>sepal length (cm)</th>\n",
       "      <th>sepal width (cm)</th>\n",
       "      <th>petal length (cm)</th>\n",
       "      <th>petal width (cm)</th>\n",
       "      <th>class</th>\n",
       "    </tr>\n",
       "  </thead>\n",
       "  <tbody>\n",
       "    <tr>\n",
       "      <th>0</th>\n",
       "      <td>7.0</td>\n",
       "      <td>3.2</td>\n",
       "      <td>4.7</td>\n",
       "      <td>1.4</td>\n",
       "      <td>0</td>\n",
       "    </tr>\n",
       "    <tr>\n",
       "      <th>1</th>\n",
       "      <td>6.4</td>\n",
       "      <td>3.2</td>\n",
       "      <td>4.5</td>\n",
       "      <td>1.5</td>\n",
       "      <td>0</td>\n",
       "    </tr>\n",
       "    <tr>\n",
       "      <th>2</th>\n",
       "      <td>6.9</td>\n",
       "      <td>3.1</td>\n",
       "      <td>4.9</td>\n",
       "      <td>1.5</td>\n",
       "      <td>0</td>\n",
       "    </tr>\n",
       "    <tr>\n",
       "      <th>3</th>\n",
       "      <td>5.5</td>\n",
       "      <td>2.3</td>\n",
       "      <td>4.0</td>\n",
       "      <td>1.3</td>\n",
       "      <td>0</td>\n",
       "    </tr>\n",
       "    <tr>\n",
       "      <th>4</th>\n",
       "      <td>6.5</td>\n",
       "      <td>2.8</td>\n",
       "      <td>4.6</td>\n",
       "      <td>1.5</td>\n",
       "      <td>0</td>\n",
       "    </tr>\n",
       "  </tbody>\n",
       "</table>\n",
       "</div>"
      ],
      "text/plain": [
       "   sepal length (cm)  sepal width (cm)  petal length (cm)  petal width (cm)  \\\n",
       "0                7.0               3.2                4.7               1.4   \n",
       "1                6.4               3.2                4.5               1.5   \n",
       "2                6.9               3.1                4.9               1.5   \n",
       "3                5.5               2.3                4.0               1.3   \n",
       "4                6.5               2.8                4.6               1.5   \n",
       "\n",
       "   class  \n",
       "0      0  \n",
       "1      0  \n",
       "2      0  \n",
       "3      0  \n",
       "4      0  "
      ]
     },
     "execution_count": 6,
     "metadata": {},
     "output_type": "execute_result"
    }
   ],
   "source": [
    "iris_df.head()  # Вывод первых строк данных для проверки"
   ]
  },
  {
   "cell_type": "markdown",
   "id": "8d7ea4b5-e1d3-4dd7-a73d-bec276c2de2f",
   "metadata": {
    "tags": []
   },
   "source": [
    "2. Самостоятельно реализуйте логистическую регрессию, без использования метода LogisticRegression из библиотеки. Можете использовать библиотеки pandas, numpy, math для реализации. Оформите в виде функции. *Оформите в виде класса с методами."
   ]
  },
  {
   "cell_type": "markdown",
   "id": "061bf981-0c43-4b4b-8245-8022ac01a410",
   "metadata": {},
   "source": [
    "3. Реализуйте метод градиентного спуска. Обучите логистическую регрессию этим методом. Выберете и посчитайте метрику качества. Метрика должна быть одинакова для всех пунктов домашнего задания. Для упрощения сравнения выберете только одну метрику."
   ]
  },
  {
   "cell_type": "markdown",
   "id": "1c195d86-fdc3-4aec-b0f4-1cd7c62f42a2",
   "metadata": {},
   "source": [
    "**Задания 2 и 3 совместил**"
   ]
  },
  {
   "cell_type": "code",
   "execution_count": 7,
   "id": "082fafc2-1146-4c2a-8e60-00cdfef48ddb",
   "metadata": {
    "tags": []
   },
   "outputs": [],
   "source": [
    "class LogisticRegression:\n",
    "    def __init__(self, learning_rate=0.01, num_iterations=1000):\n",
    "        self.learning_rate = learning_rate\n",
    "        self.num_iterations = num_iterations\n",
    "        self.weights = None\n",
    "        self.bias = None\n",
    "\n",
    "    def _sigmoid(self, z):\n",
    "        return 1 / (1 + np.exp(-z))\n",
    "\n",
    "    def fit(self, X, y):\n",
    "        n_samples, n_features = X.shape\n",
    "        self.weights = np.zeros(n_features)\n",
    "        self.bias = 0\n",
    "\n",
    "        # Градиентный спуск\n",
    "        for _ in range(self.num_iterations):\n",
    "            model = np.dot(X, self.weights) + self.bias\n",
    "            predictions = self._sigmoid(model)\n",
    "\n",
    "            # Вычисление градиентов\n",
    "            dw = (1 / n_samples) * np.dot(X.T, (predictions - y))\n",
    "            db = (1 / n_samples) * np.sum(predictions - y)\n",
    "\n",
    "            # Обновление весов\n",
    "            self.weights -= self.learning_rate * dw\n",
    "            self.bias -= self.learning_rate * db\n",
    "\n",
    "    def predict(self, X):\n",
    "        model = np.dot(X, self.weights) + self.bias\n",
    "        predictions = self._sigmoid(model)\n",
    "        predicted_classes = [1 if i > 0.5 else 0 for i in predictions]\n",
    "        return np.array(predicted_classes)"
   ]
  },
  {
   "cell_type": "markdown",
   "id": "c7884435-0763-4f33-8ff4-417fc4f589a6",
   "metadata": {},
   "source": [
    "4. Повторите п. 3 для метода скользящего среднего (Root Mean Square Propagation, RMSProp)."
   ]
  },
  {
   "cell_type": "code",
   "execution_count": 8,
   "id": "4efdc12f-008d-4561-b899-e044ac40b2a8",
   "metadata": {
    "tags": []
   },
   "outputs": [],
   "source": [
    "class LogisticRegressionRMSProp(LogisticRegression):\n",
    "    def __init__(self, learning_rate=0.01, num_iterations=1000, beta=0.9, epsilon=1e-8):\n",
    "        super().__init__(learning_rate, num_iterations)\n",
    "        self.beta = beta\n",
    "        self.epsilon = epsilon\n",
    "\n",
    "    def fit(self, X, y):\n",
    "        n_samples, n_features = X.shape\n",
    "        self.weights = np.zeros(n_features)\n",
    "        self.bias = 0\n",
    "\n",
    "        v_dw = np.zeros(n_features)\n",
    "        v_db = 0\n",
    "\n",
    "        # Градиентный спуск с RMSProp\n",
    "        for _ in range(self.num_iterations):\n",
    "            model = np.dot(X, self.weights) + self.bias\n",
    "            predictions = self._sigmoid(model)\n",
    "\n",
    "            # Вычисление градиентов\n",
    "            dw = (1 / n_samples) * np.dot(X.T, (predictions - y))\n",
    "            db = (1 / n_samples) * np.sum(predictions - y)\n",
    "\n",
    "            # Вычисление скользящего среднего\n",
    "            v_dw = self.beta * v_dw + (1 - self.beta) * dw**2\n",
    "            v_db = self.beta * v_db + (1 - self.beta) * db**2\n",
    "\n",
    "            # Обновление весов\n",
    "            self.weights -= (self.learning_rate / (np.sqrt(v_dw) + self.epsilon)) * dw\n",
    "            self.bias -= (self.learning_rate / (np.sqrt(v_db) + self.epsilon)) * db"
   ]
  },
  {
   "cell_type": "markdown",
   "id": "64c59683-321a-4d27-a93f-116a13c77f51",
   "metadata": {},
   "source": [
    "5. Повторите п. 3 для ускоренного по Нестерову метода адаптивной оценки моментов (Nesterov–accelerated Adaptive Moment Estimation, Nadam)."
   ]
  },
  {
   "cell_type": "code",
   "execution_count": 9,
   "id": "f5249949-3b78-4765-9bcd-0ae1c31b6709",
   "metadata": {
    "tags": []
   },
   "outputs": [],
   "source": [
    "class LogisticRegressionNadam(LogisticRegression):\n",
    "    def __init__(self, learning_rate=0.01, num_iterations=1000, beta1=0.9, beta2=0.999, epsilon=1e-8):\n",
    "        super().__init__(learning_rate, num_iterations)\n",
    "        self.beta1 = beta1\n",
    "        self.beta2 = beta2\n",
    "        self.epsilon = epsilon\n",
    "\n",
    "    def fit(self, X, y):\n",
    "        n_samples, n_features = X.shape\n",
    "        self.weights = np.zeros(n_features)\n",
    "        self.bias = 0\n",
    "\n",
    "        m_dw, v_dw = np.zeros(n_features), np.zeros(n_features)\n",
    "        m_db, v_db = 0, 0\n",
    "        m_dw_corr, v_dw_corr = np.zeros(n_features), np.zeros(n_features)\n",
    "        m_db_corr, v_db_corr = 0, 0\n",
    "\n",
    "        # Градиентный спуск с Nadam\n",
    "        for i in range(1, self.num_iterations + 1):\n",
    "            model = np.dot(X, self.weights) + self.bias\n",
    "            predictions = self._sigmoid(model)\n",
    "\n",
    "            # Вычисление градиентов\n",
    "            dw = (1 / n_samples) * np.dot(X.T, (predictions - y))\n",
    "            db = (1 / n_samples) * np.sum(predictions - y)\n",
    "\n",
    "            # Обновление первого и второго моментов\n",
    "            m_dw = self.beta1 * m_dw + (1 - self.beta1) * dw\n",
    "            m_db = self.beta1 * m_db + (1 - self.beta1) * db\n",
    "            v_dw = self.beta2 * v_dw + (1 - self.beta2) * (dw ** 2)\n",
    "            v_db = self.beta2 * v_db + (1 - self.beta2) * (db ** 2)\n",
    "\n",
    "            # Коррекция смещения\n",
    "            m_dw_corr = m_dw / (1 - self.beta1 ** i)\n",
    "            m_db_corr = m_db / (1 - self.beta1 ** i)\n",
    "            v_dw_corr = v_dw / (1 - self.beta2 ** i)\n",
    "            v_db_corr = v_db / (1 - self.beta2 ** i)\n",
    "\n",
    "            # Нестерово ускорение\n",
    "            nesterov_dw = m_dw_corr * self.beta1 + (1 - self.beta1) * dw\n",
    "            nesterov_db = m_db_corr * self.beta1 + (1 - self.beta1) * db\n",
    "\n",
    "            # Обновление весов\n",
    "            self.weights -= (self.learning_rate / (np.sqrt(v_dw_corr) + self.epsilon)) * nesterov_dw\n",
    "            self.bias -= (self.learning_rate / (np.sqrt(v_db_corr) + self.epsilon)) * nesterov_db"
   ]
  },
  {
   "cell_type": "markdown",
   "id": "145a885a-ae51-471b-bdbd-11d4a704e2d0",
   "metadata": {},
   "source": [
    "6. Сравните значение метрик для реализованных методов оптимизации. Можно оформить в виде таблицы вида |метод|метрика|время работы| (время работы опционально). Напишите вывод."
   ]
  },
  {
   "cell_type": "code",
   "execution_count": 10,
   "id": "3895dff3-53f9-45e0-8b31-aaccade10834",
   "metadata": {
    "tags": []
   },
   "outputs": [
    {
     "name": "stdout",
     "output_type": "stream",
     "text": [
      "          Optimizer  Accuracy      Time\n",
      "0  gradient_descent      0.85  0.009002\n",
      "1           rmsprop      0.85  0.012997\n",
      "2             nadam      0.85  0.018001\n"
     ]
    }
   ],
   "source": [
    "import time\n",
    "from sklearn.model_selection import train_test_split\n",
    "from sklearn.metrics import accuracy_score\n",
    "# ... (Код для класса LogisticRegression и функций оптимизации)\n",
    "\n",
    "# Инициализация данных\n",
    "X, y = iris_df[feature_names].values, iris_df['class'].values\n",
    "X_train, X_test, y_train, y_test = train_test_split(X, y, test_size=0.2, random_state=42)\n",
    "\n",
    "# Инициализация и обучение модели с разными оптимизаторами\n",
    "methods = {\n",
    "    'gradient_descent': LogisticRegression(), \n",
    "    'rmsprop': LogisticRegressionRMSProp(), \n",
    "    'nadam': LogisticRegressionNadam()\n",
    "}\n",
    "results = []\n",
    "\n",
    "for key, model in methods.items():\n",
    "    start_time = time.time()\n",
    "    model.fit(X_train, y_train)\n",
    "    end_time = time.time()\n",
    "    \n",
    "    predictions = model.predict(X_test)\n",
    "    accuracy = accuracy_score(y_test, predictions)\n",
    "    results.append([key, accuracy, end_time - start_time])\n",
    "\n",
    "# Вывод результатов\n",
    "results_df = pd.DataFrame(results, columns=['Optimizer', 'Accuracy', 'Time'])\n",
    "print(results_df)\n"
   ]
  },
  {
   "cell_type": "code",
   "execution_count": 11,
   "id": "5f37d5bd-7966-4657-9576-f3857afa5bc8",
   "metadata": {
    "tags": []
   },
   "outputs": [
    {
     "data": {
      "image/png": "[encoded data removed]",
      "text/plain": [
       "<Figure size 640x480 with 1 Axes>"
      ]
     },
     "metadata": {},
     "output_type": "display_data"
    }
   ],
   "source": [
    "import matplotlib.pyplot as plt\n",
    "\n",
    "# Создание столбчатой диаграммы времени выполнения\n",
    "plt.bar(results_df['Optimizer'], results_df['Time'])\n",
    "plt.xlabel('Optimizer')\n",
    "plt.ylabel('Time (seconds)')\n",
    "plt.title('Comparison of Optimization Methods by Time')\n",
    "plt.show()\n"
   ]
  },
  {
   "cell_type": "markdown",
   "id": "ec6486d4-aa0b-4d38-9923-158c281cb3ac",
   "metadata": {},
   "source": [
    "Выводы:  \n",
    "  \n",
    "*1) Все три метода оптимизации (градиентный спуск, RMSProp и Nadam) достигли одинаковой точности в 0.85. Это означает, что с точки зрения качества предсказаний, все методы работают сопоставимо на данном наборе данных.*  \n",
    "*2) Существуют различия во времени выполнения для разных методов. Градиентный спуск оказался самым быстрым, затем следует RMSProp, и Nadam занял больше всего времени. Это может быть связано с дополнительными вычислениями, требуемыми более сложными методами оптимизации, такими как Nadam.*  \n",
    "*3) Несмотря на то, что более продвинутые методы оптимизации, такие как Nadam и RMSProp, часто предполагают более быструю сходимость для сложных задач, в данном случае они не показали значительного преимущества перед стандартным градиентным спуском. Это может быть связано с относительной простотой модели (логистическая регрессия) и/или спецификой набора данных.*"
   ]
  }
 ],
 "metadata": {
  "kernelspec": {
   "display_name": "Python 3 (ipykernel)",
   "language": "python",
   "name": "python3"
  },
  "language_info": {
   "codemirror_mode": {
    "name": "ipython",
    "version": 3
   },
   "file_extension": ".py",
   "mimetype": "text/x-python",
   "name": "python",
   "nbconvert_exporter": "python",
   "pygments_lexer": "ipython3",
   "version": "3.11.5"
  }
 },
 "nbformat": 4,
 "nbformat_minor": 5
}
