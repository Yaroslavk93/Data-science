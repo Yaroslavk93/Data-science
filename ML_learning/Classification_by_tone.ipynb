{
 "cells": [
  {
   "cell_type": "markdown",
   "id": "8e3d4244-07c5-4944-9a2c-419643bfd419",
   "metadata": {},
   "source": [
    "# Классификация по тональности"
   ]
  },
  {
   "cell_type": "markdown",
   "id": "5f127672-c505-42c4-ae5b-1f3716feabca",
   "metadata": {},
   "source": [
    "В этом домашнем задании вам предстоит классифицировать по тональности отзывы на банки с сайта banki.ru.  \n",
    "  \n",
    "Данные содержат непосредственно тексты отзывов, некоторую дополнительную информацию, а также оценку по шкале от 1 до 5.  \n",
    "   \n",
    "Тексты хранятся в json-ах в массиве responses.  "
   ]
  },
  {
   "cell_type": "markdown",
   "id": "cfe6e428-5881-48cb-9be6-90942958c113",
   "metadata": {},
   "source": [
    "### Часть 1. Анализ текстов "
   ]
  },
  {
   "cell_type": "code",
   "execution_count": 4,
   "id": "0c281edf-c2cb-4ff2-9d88-78f4a2eb432d",
   "metadata": {},
   "outputs": [
    {
     "name": "stderr",
     "output_type": "stream",
     "text": [
      "[nltk_data] Downloading package stopwords to\n",
      "[nltk_data]     C:\\Users\\Yaros\\AppData\\Roaming\\nltk_data...\n",
      "[nltk_data]   Package stopwords is already up-to-date!\n"
     ]
    },
    {
     "data": {
      "text/plain": [
       "True"
      ]
     },
     "execution_count": 4,
     "metadata": {},
     "output_type": "execute_result"
    }
   ],
   "source": [
    "import pandas as pd\n",
    "import json\n",
    "import matplotlib.pyplot as plt\n",
    "import seaborn as sns\n",
    "from sklearn.feature_extraction.text import TfidfVectorizer\n",
    "from sklearn.model_selection import train_test_split\n",
    "from sklearn.linear_model import LogisticRegression\n",
    "from sklearn.decomposition import TruncatedSVD\n",
    "from sklearn.decomposition import LatentDirichletAllocation as LDA\n",
    "from sklearn.metrics import accuracy_score, f1_score\n",
    "from collections import Counter\n",
    "import pymorphy2\n",
    "from nltk.corpus import stopwords\n",
    "import nltk\n",
    "nltk.download('stopwords')"
   ]
  },
  {
   "cell_type": "markdown",
   "id": "042be521-b9c3-444b-981e-ba6ddf757954",
   "metadata": {},
   "source": [
    "Загрузка данных"
   ]
  },
  {
   "cell_type": "code",
   "execution_count": 5,
   "id": "d755f78b-1c7d-4f10-9f07-92eb7d5cb918",
   "metadata": {},
   "outputs": [
    {
     "name": "stdout",
     "output_type": "stream",
     "text": [
      "                 city  rating_not_checked  \\\n",
      "0          г. Воронеж                True   \n",
      "1           г. Казань                True   \n",
      "2  г. Санкт-Петербург                True   \n",
      "3           г. Москва                True   \n",
      "4        г. Волгоград                True   \n",
      "\n",
      "                                 title  num_comments     bank_license  \\\n",
      "0                        Ипотека на 5+             0  лицензия № 1623   \n",
      "1                       ЗВОНКИ СОСЕДЯМ             0  лицензия № 2289   \n",
      "2                Ложная информация!!!!             0  лицензия № 2307   \n",
      "3  Банкомат не зачислил деньги на счет             1  лицензия № 2557   \n",
      "4   Невозможно закрыть карту 2(два)!!!             0  лицензия № 3354   \n",
      "\n",
      "              author         bank_name             datetime  \\\n",
      "0         e.novikova            ВТБ 24  2015-06-08 11:06:56   \n",
      "1  KZN\\Vorontsova_NA  Русский Стандарт  2015-06-06 18:17:52   \n",
      "2          Evgenia15              Союз  2015-06-07 19:08:33   \n",
      "3        dolgov.work          Ситибанк  2015-06-07 19:22:00   \n",
      "4            copLine  Ренессанс Кредит  2015-06-08 14:54:55   \n",
      "\n",
      "                                                text  rating_grade  \n",
      "0  Здравствуйте!  Хотелось бы выразить благодарно...           5.0  \n",
      "1  Уважаемые представители департамента по работе...           2.0  \n",
      "2  Здравствуйте. Столкнулась с такой ситуацией. в...           2.0  \n",
      "3  1 июня 2015 в Москве в отделении по адресу Смо...           1.0  \n",
      "4  История очень долгая! Пришел я в банк (это раз...           1.0  \n"
     ]
    }
   ],
   "source": [
    "# Загрузка данных из JSON-файла построчно\n",
    "data = []\n",
    "with open('C:/Users/Yaros/Downloads/banki_responses.json/banki_responses.json', 'r', encoding='utf-8') as f:\n",
    "    for line in f:\n",
    "        # Преобразуем каждую строку в JSON и добавляем в список\n",
    "        data.append(json.loads(line))\n",
    "\n",
    "# Преобразуем в DataFrame\n",
    "df = pd.DataFrame(data)\n",
    "print(df.head())"
   ]
  },
  {
   "cell_type": "markdown",
   "id": "9daf5810-bcbc-48a4-8317-34fedde0c13d",
   "metadata": {},
   "source": [
    "**Шаг 1. Подсчёт количества отзывов в разных городах и на разные банки**"
   ]
  },
  {
   "cell_type": "code",
   "execution_count": 7,
   "id": "d4fee29b-afd3-42dc-bcf8-5cfe5f0932d2",
   "metadata": {},
   "outputs": [
    {
     "name": "stdout",
     "output_type": "stream",
     "text": [
      "Количество отзывов по городам:\n",
      " city\n",
      "г. Москва                                73715\n",
      "г. Санкт-Петербург                       18614\n",
      "г. Екатеринбург                           3211\n",
      "г. Новосибирск                            3081\n",
      "г. Нижний Новгород                        2596\n",
      "                                         ...  \n",
      "г. Москва/Хабаровск                          1\n",
      "г. ст.советская                              1\n",
      "г. Сочи, Краснодар, Туапсе                   1\n",
      "г. Североуральск Свердловской области        1\n",
      "г. Краснодарский край, ст.Павловская         1\n",
      "Name: count, Length: 7151, dtype: int64\n",
      "\n",
      "Количество отзывов по банкам:\n",
      " bank_name\n",
      "Сбербанк России            30977\n",
      "Альфа-Банк                 13651\n",
      "Русский Стандарт           10952\n",
      "ВТБ 24                     10556\n",
      "Хоум Кредит Банк           10130\n",
      "                           ...  \n",
      "Ипотека-Инвест                 1\n",
      "Держава                        1\n",
      "Банк на Красных Воротах        1\n",
      "Ураллига                       1\n",
      "Каспий                         1\n",
      "Name: count, Length: 733, dtype: int64\n"
     ]
    }
   ],
   "source": [
    "# Подсчет количества отзывов по городам\n",
    "city_counts = df['city'].value_counts()\n",
    "print(\"Количество отзывов по городам:\\n\", city_counts)\n",
    "\n",
    "# Подсчет количества отзывов по банкам\n",
    "bank_counts = df['bank_name'].value_counts()\n",
    "print(\"\\nКоличество отзывов по банкам:\\n\", bank_counts)"
   ]
  },
  {
   "cell_type": "markdown",
   "id": "77a88d96-bd0d-408b-9564-35a639bb61e7",
   "metadata": {},
   "source": [
    "**Шаг 2. Построение гистограмм длин отзывов в символах и в словах**"
   ]
  },
  {
   "cell_type": "code",
   "execution_count": 8,
   "id": "864478fc-22e0-4e12-92d2-34f794c1d68e",
   "metadata": {},
   "outputs": [
    {
     "data": {
      "image/png": "[encoded data removed]",
      "text/plain": [
       "<Figure size 1000x500 with 1 Axes>"
      ]
     },
     "metadata": {},
     "output_type": "display_data"
    },
    {
     "data": {
      "image/png": "[encoded data removed]",
      "text/plain": [
       "<Figure size 1000x500 with 1 Axes>"
      ]
     },
     "metadata": {},
     "output_type": "display_data"
    }
   ],
   "source": [
    "# Добавляем новые столбцы для длины текста в символах и в словах\n",
    "df['text_length_chars'] = df['text'].apply(len)\n",
    "df['text_length_words'] = df['text'].apply(lambda x: len(x.split()))\n",
    "\n",
    "# Гистограмма длины отзывов в символах\n",
    "plt.figure(figsize=(10, 5))\n",
    "sns.histplot(df['text_length_chars'], bins=50)\n",
    "plt.title(\"Гистограмма длины отзывов в символах\")\n",
    "plt.xlabel(\"Длина отзыва (символы)\")\n",
    "plt.show()\n",
    "\n",
    "# Гистограмма длины отзывов в словах\n",
    "plt.figure(figsize=(10, 5))\n",
    "sns.histplot(df['text_length_words'], bins=50)\n",
    "plt.title(\"Гистограмма длины отзывов в словах\")\n",
    "plt.xlabel(\"Длина отзыва (слова)\")\n",
    "plt.show()"
   ]
  },
  {
   "cell_type": "markdown",
   "id": "10ad3dfe-51c5-4578-9105-afb3c6a3e1b7",
   "metadata": {},
   "source": [
    "**Шаг 3. Частотный анализ слов**"
   ]
  },
  {
   "cell_type": "code",
   "execution_count": 7,
   "id": "5ce5c288-e64b-48f9-b98f-0563462b315b",
   "metadata": {},
   "outputs": [],
   "source": [
    "# Морфологический анализатор и стоп-слова\n",
    "morph = pymorphy2.MorphAnalyzer()\n",
    "stop_words = set(stopwords.words(\"russian\"))"
   ]
  },
  {
   "cell_type": "markdown",
   "id": "4d1f20f4-0a6a-49ef-8f9a-c25025a60f56",
   "metadata": {},
   "source": [
    "- Найдите 10 самых частых слов"
   ]
  },
  {
   "cell_type": "code",
   "execution_count": 10,
   "id": "3c9574b0-9333-4a46-b633-e418aa483c57",
   "metadata": {},
   "outputs": [
    {
     "name": "stdout",
     "output_type": "stream",
     "text": [
      "10 самых частых слов:\n",
      " [('в', 1411936), ('и', 1194688), ('не', 986174), ('на', 770877), ('что', 710076), ('с', 521032), ('я', 518467), ('по', 408227), ('-', 355839), ('мне', 335524)]\n"
     ]
    }
   ],
   "source": [
    "# Получаем все слова из текстов\n",
    "all_words = ' '.join(df['text']).split()\n",
    "all_words_freq = Counter(all_words).most_common(10)\n",
    "print(\"10 самых частых слов:\\n\", all_words_freq)"
   ]
  },
  {
   "cell_type": "markdown",
   "id": "15a117d4-a5a6-4ee1-9ea8-8763167289c4",
   "metadata": {},
   "source": [
    "- Найдите 10 самых частых слов без стоп-слов"
   ]
  },
  {
   "cell_type": "code",
   "execution_count": 11,
   "id": "8ab469f9-d189-4091-8f93-8ad44738b1c7",
   "metadata": {},
   "outputs": [
    {
     "name": "stdout",
     "output_type": "stream",
     "text": [
      "10 самых частых слов без стоп-слов:\n",
      " [('-', 355839), ('это', 183364), ('банка', 178837), ('банк', 139709), ('деньги', 107852), ('карту', 76786), ('карты', 75562), ('очень', 66704), ('кредит', 63557), ('время', 58272)]\n"
     ]
    }
   ],
   "source": [
    "# Фильтруем слова, удаляя стоп-слова\n",
    "words_no_stop = [word for word in all_words if word.lower() not in stop_words]\n",
    "words_no_stop_freq = Counter(words_no_stop).most_common(10)\n",
    "print(\"10 самых частых слов без стоп-слов:\\n\", words_no_stop_freq)"
   ]
  },
  {
   "cell_type": "markdown",
   "id": "c27d1497-abdf-4397-95b9-4b47e5f30ca1",
   "metadata": {},
   "source": [
    "- Найдите 10 самых частых лемм"
   ]
  },
  {
   "cell_type": "code",
   "execution_count": 12,
   "id": "d8979c2b-00ca-4a24-a314-a33320b2a8e3",
   "metadata": {},
   "outputs": [
    {
     "name": "stdout",
     "output_type": "stream",
     "text": [
      "10 самых частых лемм:\n",
      " [('банк', 504458), ('-', 355839), ('карта', 264980), ('это', 231731), ('мой', 197860), ('который', 175430), ('деньга', 156102), ('сотрудник', 135012), ('отделение', 127954), ('кредит', 125929)]\n"
     ]
    }
   ],
   "source": [
    "# Лемматизация слов без стоп-слов\n",
    "lemmas = [morph.parse(word)[0].normal_form for word in words_no_stop]\n",
    "lemmas_freq = Counter(lemmas).most_common(10)\n",
    "print(\"10 самых частых лемм:\\n\", lemmas_freq)"
   ]
  },
  {
   "cell_type": "markdown",
   "id": "a70eb500-88cd-427f-ac77-3f388dd42a3f",
   "metadata": {},
   "source": [
    "- Найдите 10 самых частых существительных"
   ]
  },
  {
   "cell_type": "code",
   "execution_count": 13,
   "id": "e9587baf-2e67-4123-bd8b-3071e3dd0682",
   "metadata": {},
   "outputs": [
    {
     "name": "stdout",
     "output_type": "stream",
     "text": [
      "10 самых частых существительных:\n",
      " [('банк', 504458), ('карта', 264980), ('деньга', 156102), ('сотрудник', 135012), ('отделение', 127954), ('кредит', 125929), ('счёт', 115456), ('день', 113020), ('сумма', 107289), ('клиент', 102737)]\n"
     ]
    }
   ],
   "source": [
    "# Оставляем только существительные\n",
    "nouns = [lemma for lemma in lemmas if morph.parse(lemma)[0].tag.POS == 'NOUN']\n",
    "nouns_freq = Counter(nouns).most_common(10)\n",
    "print(\"10 самых частых существительных:\\n\", nouns_freq)"
   ]
  },
  {
   "cell_type": "markdown",
   "id": "2dc72d44-4092-4644-a1a2-15a4dcd5668a",
   "metadata": {},
   "source": [
    "**Шаг 4. Построение кривых Ципфа и Хипса**"
   ]
  },
  {
   "cell_type": "code",
   "execution_count": 14,
   "id": "59a13d9c-6618-4eae-959a-002ab7f2ec4f",
   "metadata": {},
   "outputs": [
    {
     "data": {
      "image/png": "[encoded data removed]",
      "text/plain": [
       "<Figure size 1000x500 with 1 Axes>"
      ]
     },
     "metadata": {},
     "output_type": "display_data"
    }
   ],
   "source": [
    "# Сортируем слова по частоте и создаем график зависимости частоты от ранга\n",
    "word_counts = sorted(words_no_stop_freq, key=lambda x: x[1], reverse=True)\n",
    "ranks = range(1, len(word_counts) + 1)\n",
    "frequencies = [freq for word, freq in word_counts]\n",
    "plt.figure(figsize=(10, 5))\n",
    "plt.plot(ranks, frequencies)\n",
    "plt.title(\"Кривая Ципфа\")\n",
    "plt.xlabel(\"Ранг\")\n",
    "plt.ylabel(\"Частота\")\n",
    "plt.show()"
   ]
  },
  {
   "cell_type": "code",
   "execution_count": 15,
   "id": "c77ac181-0419-4269-82b9-2efda1336b13",
   "metadata": {},
   "outputs": [
    {
     "data": {
      "image/png": "[encoded data removed]",
      "text/plain": [
       "<Figure size 1000x500 with 1 Axes>"
      ]
     },
     "metadata": {},
     "output_type": "display_data"
    }
   ],
   "source": [
    "unique_words = set()\n",
    "unique_count = []\n",
    "total_words = 0\n",
    "\n",
    "for word in all_words:\n",
    "    if word not in unique_words:\n",
    "        unique_words.add(word)\n",
    "    total_words += 1\n",
    "    unique_count.append(len(unique_words))\n",
    "\n",
    "plt.figure(figsize=(10, 5))\n",
    "plt.plot(range(total_words), unique_count)\n",
    "plt.title(\"Кривая Хипса\")\n",
    "plt.xlabel(\"Общее количество слов\")\n",
    "plt.ylabel(\"Количество уникальных слов\")\n",
    "plt.show()"
   ]
  },
  {
   "cell_type": "markdown",
   "id": "08ca767c-0834-4f11-97aa-fdf0da603422",
   "metadata": {},
   "source": [
    "**Шаг 5. Сравнение частоты слов \"сотрудник\" и \"клиент\" и подсчет \"мошенничество\" и \"доверие\"**"
   ]
  },
  {
   "cell_type": "code",
   "execution_count": 16,
   "id": "a57b31ee-7738-44da-b231-c604c936d88c",
   "metadata": {},
   "outputs": [
    {
     "name": "stdout",
     "output_type": "stream",
     "text": [
      "Слово 'сотрудник' встречается 78656 раз.\n",
      "Слово 'клиент' встречается 90592 раз.\n",
      "Слово 'мошенничество' встречается 1572 раз.\n",
      "Слово 'доверие' встречается 1810 раз.\n"
     ]
    }
   ],
   "source": [
    "# Подсчет частоты указанных слов\n",
    "employee_count = df['text'].str.contains(\"сотрудник\", case=False).sum()\n",
    "client_count = df['text'].str.contains(\"клиент\", case=False).sum()\n",
    "fraud_count = df['text'].str.contains(\"мошенничество\", case=False).sum()\n",
    "trust_count = df['text'].str.contains(\"доверие\", case=False).sum()\n",
    "\n",
    "print(f\"Слово 'сотрудник' встречается {employee_count} раз.\")\n",
    "print(f\"Слово 'клиент' встречается {client_count} раз.\")\n",
    "print(f\"Слово 'мошенничество' встречается {fraud_count} раз.\")\n",
    "print(f\"Слово 'доверие' встречается {trust_count} раз.\")"
   ]
  },
  {
   "cell_type": "markdown",
   "id": "d2c76916-6528-48de-9723-264b3a4c9979",
   "metadata": {},
   "source": [
    "**Шаг 6. Определение ключевых слов и биграмм для положительных и отрицательных отзывов (TF-IDF)**"
   ]
  },
  {
   "cell_type": "code",
   "execution_count": 17,
   "id": "d54d4d81-edc6-427a-b0e6-d8024b22de5e",
   "metadata": {},
   "outputs": [
    {
     "name": "stdout",
     "output_type": "stream",
     "text": [
      "Ключевые слова для положительных отзывов: [['банк' 'очень' 'мне' 'за' 'все' 'банка' 'по' 'что' 'на' 'не']]\n",
      "Ключевые слова для отрицательных отзывов: [['то' 'как' 'за' 'банк' 'банка' 'мне' 'по' 'что' 'на' 'не']]\n"
     ]
    }
   ],
   "source": [
    "from sklearn.feature_extraction.text import TfidfVectorizer\n",
    "\n",
    "# Выделение положительных и отрицательных отзывов\n",
    "positive_reviews = df[df['rating_grade'] == 5]['text']\n",
    "negative_reviews = df[df['rating_grade'] == 1]['text']\n",
    "\n",
    "# Настройка TF-IDF с биграммами\n",
    "vectorizer = TfidfVectorizer(ngram_range=(1, 2), max_features=1000)\n",
    "\n",
    "# TF-IDF для положительных отзывов\n",
    "positive_tfidf = vectorizer.fit_transform(positive_reviews)\n",
    "positive_top_words = vectorizer.get_feature_names_out()[positive_tfidf.sum(axis=0).argsort()[0, -10:]]\n",
    "\n",
    "# TF-IDF для отрицательных отзывов\n",
    "negative_tfidf = vectorizer.fit_transform(negative_reviews)\n",
    "negative_top_words = vectorizer.get_feature_names_out()[negative_tfidf.sum(axis=0).argsort()[0, -10:]]\n",
    "\n",
    "print(\"Ключевые слова для положительных отзывов:\", positive_top_words)\n",
    "print(\"Ключевые слова для отрицательных отзывов:\", negative_top_words)"
   ]
  },
  {
   "cell_type": "markdown",
   "id": "89d4c5cd-d894-433b-bbc6-e3cec4f45869",
   "metadata": {},
   "source": [
    "### Часть 2. Тематическое моделирование"
   ]
  },
  {
   "cell_type": "code",
   "execution_count": 1,
   "id": "a276984e-bc1b-46e7-91e0-85f998a69824",
   "metadata": {},
   "outputs": [],
   "source": [
    "import gensim\n",
    "from gensim import corpora\n",
    "from gensim.models import LdaModel\n",
    "import re\n"
   ]
  },
  {
   "cell_type": "markdown",
   "id": "f746b4e5-5d09-4fc7-870e-f1d21936ee16",
   "metadata": {},
   "source": [
    "**Предобработка текста**  \n",
    "Для корректного тематического моделирования требуется обработка текста — удаление стоп-слов, лемматизация и создание токенов."
   ]
  },
  {
   "cell_type": "code",
   "execution_count": 8,
   "id": "b507b49c-f931-401a-a64f-15bc996ec395",
   "metadata": {},
   "outputs": [],
   "source": [
    "# Подготовка данных для моделирования\n",
    "def preprocess_text(text):\n",
    "    # Удаление спецсимволов и преобразование в нижний регистр\n",
    "    text = re.sub(r'\\W+', ' ', text).lower()\n",
    "    # Токенизация и фильтрация стоп-слов\n",
    "    words = [word for word in text.split() if word not in stop_words]\n",
    "    # Лемматизация\n",
    "    words = [morph.parse(word)[0].normal_form for word in words]\n",
    "    return words\n",
    "\n",
    "# Применение функции предобработки ко всем текстам\n",
    "processed_texts = df['text'].apply(preprocess_text)"
   ]
  },
  {
   "cell_type": "markdown",
   "id": "80e7b717-79b7-4209-9b3d-32e617cbc8ac",
   "metadata": {},
   "source": [
    "**Создание словаря и корпуса для gensim**"
   ]
  },
  {
   "cell_type": "code",
   "execution_count": 9,
   "id": "eddb1cfa-bc63-4a00-9cbe-ba85c600fbd4",
   "metadata": {},
   "outputs": [],
   "source": [
    "# Создаем словарь и корпус\n",
    "dictionary = corpora.Dictionary(processed_texts)\n",
    "corpus = [dictionary.doc2bow(text) for text in processed_texts]"
   ]
  },
  {
   "cell_type": "markdown",
   "id": "97b798dd-6d7d-414b-91f0-d14474d5cd4c",
   "metadata": {},
   "source": [
    "**Построение нескольких LDA моделей с разным числом тем**  \n",
    "Попробуем создать модели с различным числом тем, например, от 5 до 15 тем."
   ]
  },
  {
   "cell_type": "code",
   "execution_count": 10,
   "id": "9c4666be-e7fb-4c05-a9a3-ee81b4e91dea",
   "metadata": {},
   "outputs": [
    {
     "name": "stdout",
     "output_type": "stream",
     "text": [
      "\n",
      "Топики для модели с 5 темами:\n",
      "Тема 1: 0.032*\"банк\" + 0.015*\"документ\" + 0.014*\"договор\" + 0.010*\"мой\" + 0.009*\"г\" + 0.009*\"счёт\" + 0.007*\"сотрудник\" + 0.007*\"заявление\" + 0.007*\"ответ\" + 0.007*\"получить\"\n",
      "Тема 2: 0.028*\"банк\" + 0.012*\"это\" + 0.010*\"клиент\" + 0.009*\"отделение\" + 0.007*\"очень\" + 0.007*\"вклад\" + 0.007*\"работать\" + 0.006*\"время\" + 0.006*\"который\" + 0.006*\"офис\"\n",
      "Тема 3: 0.038*\"кредит\" + 0.033*\"банк\" + 0.019*\"сумма\" + 0.016*\"кредитный\" + 0.014*\"платёж\" + 0.011*\"год\" + 0.011*\"месяц\" + 0.010*\"рубль\" + 0.010*\"это\" + 0.009*\"день\"\n",
      "Тема 4: 0.030*\"банк\" + 0.019*\"звонить\" + 0.015*\"телефон\" + 0.013*\"мой\" + 0.012*\"звонок\" + 0.011*\"это\" + 0.010*\"сотрудник\" + 0.010*\"позвонить\" + 0.009*\"номер\" + 0.009*\"ваш\"\n",
      "Тема 5: 0.053*\"карта\" + 0.021*\"деньга\" + 0.018*\"банк\" + 0.017*\"счёт\" + 0.016*\"банкомат\" + 0.011*\"день\" + 0.009*\"заявление\" + 0.008*\"отделение\" + 0.008*\"мой\" + 0.007*\"это\"\n",
      "\n",
      "Топики для модели с 10 темами:\n",
      "Тема 1: 0.037*\"банк\" + 0.022*\"договор\" + 0.019*\"документ\" + 0.012*\"счёт\" + 0.010*\"мой\" + 0.009*\"который\" + 0.008*\"клиент\" + 0.007*\"получить\" + 0.005*\"условие\" + 0.005*\"сотрудник\"\n",
      "Тема 2: 0.018*\"это\" + 0.014*\"банк\" + 0.012*\"сказать\" + 0.010*\"говорить\" + 0.010*\"день\" + 0.008*\"девушка\" + 0.007*\"звонить\" + 0.007*\"деньга\" + 0.007*\"такой\" + 0.006*\"позвонить\"\n",
      "Тема 3: 0.061*\"кредит\" + 0.038*\"банк\" + 0.023*\"сумма\" + 0.019*\"платёж\" + 0.017*\"кредитный\" + 0.014*\"год\" + 0.013*\"месяц\" + 0.011*\"процент\" + 0.010*\"рубль\" + 0.009*\"погашение\"\n",
      "Тема 4: 0.046*\"банк\" + 0.019*\"телефон\" + 0.017*\"мой\" + 0.016*\"звонок\" + 0.016*\"ваш\" + 0.015*\"сотрудник\" + 0.015*\"номер\" + 0.014*\"звонить\" + 0.010*\"клиент\" + 0.010*\"который\"\n",
      "Тема 5: 0.027*\"заявление\" + 0.024*\"день\" + 0.022*\"банк\" + 0.019*\"отделение\" + 0.016*\"мой\" + 0.015*\"ответ\" + 0.013*\"позвонить\" + 0.011*\"сотрудник\" + 0.011*\"вопрос\" + 0.011*\"написать\"\n",
      "Тема 6: 0.054*\"банк\" + 0.021*\"вклад\" + 0.016*\"клиент\" + 0.016*\"очень\" + 0.009*\"это\" + 0.009*\"сотрудник\" + 0.008*\"работа\" + 0.008*\"обслуживание\" + 0.008*\"год\" + 0.007*\"вопрос\"\n",
      "Тема 7: 0.038*\"отделение\" + 0.030*\"очередь\" + 0.018*\"работать\" + 0.017*\"касса\" + 0.016*\"минута\" + 0.015*\"офис\" + 0.013*\"клиент\" + 0.011*\"операционист\" + 0.010*\"время\" + 0.010*\"человек\"\n",
      "Тема 8: 0.028*\"12\" + 0.028*\"00\" + 0.027*\"11\" + 0.025*\"г\" + 0.025*\"админ\" + 0.024*\"10\" + 0.016*\"09\" + 0.016*\"08\" + 0.016*\"01\" + 0.015*\"07\"\n",
      "Тема 9: 0.100*\"карта\" + 0.029*\"банк\" + 0.012*\"кредитный\" + 0.010*\"интернет\" + 0.009*\"услуга\" + 0.009*\"это\" + 0.009*\"лимит\" + 0.008*\"счёт\" + 0.008*\"пользоваться\" + 0.007*\"год\"\n",
      "Тема 10: 0.058*\"деньга\" + 0.038*\"банкомат\" + 0.038*\"счёт\" + 0.026*\"банк\" + 0.019*\"сумма\" + 0.013*\"карта\" + 0.013*\"перевод\" + 0.012*\"рубль\" + 0.012*\"операция\" + 0.011*\"средство\"\n",
      "\n",
      "Топики для модели с 15 темами:\n",
      "Тема 1: 0.042*\"банк\" + 0.019*\"договор\" + 0.014*\"мой\" + 0.014*\"документ\" + 0.011*\"клиент\" + 0.011*\"который\" + 0.009*\"сотрудник\" + 0.008*\"заявление\" + 0.007*\"получить\" + 0.007*\"дать\"\n",
      "Тема 2: 0.027*\"это\" + 0.025*\"банк\" + 0.010*\"такой\" + 0.010*\"свой\" + 0.009*\"клиент\" + 0.009*\"просто\" + 0.008*\"говорить\" + 0.008*\"который\" + 0.008*\"деньга\" + 0.007*\"знать\"\n",
      "Тема 3: 0.069*\"кредит\" + 0.035*\"банк\" + 0.024*\"сумма\" + 0.018*\"платёж\" + 0.018*\"кредитный\" + 0.012*\"месяц\" + 0.011*\"договор\" + 0.011*\"процент\" + 0.011*\"год\" + 0.010*\"погашение\"\n",
      "Тема 4: 0.041*\"банк\" + 0.019*\"задолженность\" + 0.018*\"год\" + 0.018*\"мой\" + 0.017*\"долг\" + 0.012*\"суд\" + 0.010*\"ситуация\" + 0.010*\"русский\" + 0.010*\"письмо\" + 0.010*\"стандарт\"\n",
      "Тема 5: 0.033*\"день\" + 0.021*\"банк\" + 0.019*\"сказать\" + 0.019*\"позвонить\" + 0.019*\"заявление\" + 0.014*\"заявка\" + 0.014*\"звонить\" + 0.013*\"ответ\" + 0.013*\"неделя\" + 0.013*\"отделение\"\n",
      "Тема 6: 0.054*\"банк\" + 0.024*\"очень\" + 0.016*\"клиент\" + 0.013*\"сотрудник\" + 0.011*\"работа\" + 0.011*\"обслуживание\" + 0.009*\"вопрос\" + 0.008*\"быстро\" + 0.008*\"спасибо\" + 0.007*\"документ\"\n",
      "Тема 7: 0.137*\"сбербанк\" + 0.046*\"отделение\" + 0.029*\"сбер\" + 0.025*\"платёж\" + 0.018*\"сб\" + 0.016*\"услуга\" + 0.016*\"онлайн\" + 0.015*\"квитанция\" + 0.015*\"россия\" + 0.015*\"оплата\"\n",
      "Тема 8: 0.094*\"вклад\" + 0.046*\"банк\" + 0.025*\"процент\" + 0.023*\"открыть\" + 0.021*\"депозит\" + 0.019*\"деньга\" + 0.017*\"договор\" + 0.012*\"условие\" + 0.012*\"ставка\" + 0.011*\"сумма\"\n",
      "Тема 9: 0.138*\"карта\" + 0.029*\"банк\" + 0.017*\"кредитный\" + 0.012*\"лимит\" + 0.010*\"год\" + 0.009*\"услуга\" + 0.009*\"обслуживание\" + 0.009*\"пользоваться\" + 0.008*\"получить\" + 0.008*\"мой\"\n",
      "Тема 10: 0.085*\"банкомат\" + 0.072*\"деньга\" + 0.023*\"карта\" + 0.017*\"снять\" + 0.016*\"банк\" + 0.014*\"сумма\" + 0.013*\"день\" + 0.012*\"счёт\" + 0.011*\"купюра\" + 0.010*\"рубль\"\n",
      "Тема 11: 0.077*\"счёт\" + 0.037*\"банк\" + 0.032*\"деньга\" + 0.027*\"перевод\" + 0.023*\"комиссия\" + 0.019*\"сумма\" + 0.018*\"операция\" + 0.017*\"платёж\" + 0.015*\"средство\" + 0.012*\"рубль\"\n",
      "Тема 12: 0.039*\"телефон\" + 0.037*\"банк\" + 0.030*\"номер\" + 0.028*\"звонить\" + 0.023*\"звонок\" + 0.017*\"ваш\" + 0.014*\"сотрудник\" + 0.012*\"мой\" + 0.010*\"трубка\" + 0.009*\"клиент\"\n",
      "Тема 13: 0.031*\"г\" + 0.029*\"12\" + 0.027*\"11\" + 0.024*\"00\" + 0.022*\"10\" + 0.018*\"09\" + 0.018*\"08\" + 0.017*\"01\" + 0.016*\"07\" + 0.014*\"02\"\n",
      "Тема 14: 0.022*\"отделение\" + 0.017*\"очередь\" + 0.015*\"минута\" + 0.013*\"офис\" + 0.013*\"работать\" + 0.010*\"время\" + 0.010*\"клиент\" + 0.010*\"девушка\" + 0.009*\"касса\" + 0.009*\"час\"\n",
      "Тема 15: 0.023*\"сайт\" + 0.019*\"банк\" + 0.017*\"интернет\" + 0.015*\"проблема\" + 0.015*\"система\" + 0.013*\"ru\" + 0.012*\"информация\" + 0.012*\"поддержка\" + 0.011*\"служба\" + 0.009*\"ответ\"\n"
     ]
    }
   ],
   "source": [
    "# Список моделей для разного числа тем\n",
    "lda_models = {}\n",
    "for num_topics in [5, 10, 15]:\n",
    "    lda_model = LdaModel(corpus=corpus, id2word=dictionary, num_topics=num_topics, random_state=42, passes=10)\n",
    "    lda_models[num_topics] = lda_model\n",
    "    print(f\"\\nТопики для модели с {num_topics} темами:\")\n",
    "    for idx, topic in lda_model.print_topics(-1):\n",
    "        print(f\"Тема {idx + 1}: {topic}\")"
   ]
  },
  {
   "cell_type": "markdown",
   "id": "415c59b4-65b3-4951-99d8-5db1dd246979",
   "metadata": {},
   "source": [
    "**Поиск тем, в которых упоминаются конкретные банки**  \n",
    "Теперь найдем темы, где упоминаются Сбербанк, ВТБ или другой банк. Для этого сначала добавим фильтрацию по ключевым словам."
   ]
  },
  {
   "cell_type": "code",
   "execution_count": 13,
   "id": "82329d11-ae0f-4690-8545-6e9bccfaefd9",
   "metadata": {},
   "outputs": [
    {
     "name": "stdout",
     "output_type": "stream",
     "text": [
      "Количество упоминаний банков в текстах: {'сбербанк': 30216, 'втб': 9715, 'росбанк': 1933}\n"
     ]
    }
   ],
   "source": [
    "# Подсчет упоминаний целевых банков в текстах\n",
    "bank_counts = {bank: df['text'].str.contains(bank, case=False).sum() for bank in target_banks}\n",
    "print(\"Количество упоминаний банков в текстах:\", bank_counts)"
   ]
  },
  {
   "cell_type": "code",
   "execution_count": 14,
   "id": "f7157ec6-8f5b-4ba4-b5da-46e3dd65b18e",
   "metadata": {},
   "outputs": [
    {
     "name": "stdout",
     "output_type": "stream",
     "text": [
      "\n",
      "Темы с упоминанием банков для модели с 5 темами:\n",
      "\n",
      "Темы с упоминанием банков для модели с 10 темами:\n",
      "\n",
      "Темы с упоминанием банков для модели с 15 темами:\n"
     ]
    }
   ],
   "source": [
    "# Проверка тем на наличие упоминаний конкретных банков\n",
    "target_banks = [\"сбербанк\", \"втб\", \"росбанк\"]  # Список интересующих нас банков\n",
    "\n",
    "def find_topics_with_banks_extended(lda_model, target_banks, num_words=20):\n",
    "    topics_with_banks = {}\n",
    "    for idx, topic in lda_model.print_topics(num_words=num_words):\n",
    "        topic_terms = topic[1].split(\" + \")\n",
    "        # Проверяем, есть ли упоминания интересующих нас банков\n",
    "        for term in topic_terms:\n",
    "            # Проверяем, есть ли символ '*' в термине, чтобы избежать IndexError\n",
    "            term_parts = term.split(\"*\")\n",
    "            if len(term_parts) > 1:\n",
    "                word = term_parts[1].replace('\"', '').strip()\n",
    "                if word in target_banks:\n",
    "                    topics_with_banks[idx + 1] = topic\n",
    "                    break\n",
    "    return topics_with_banks\n",
    "\n",
    "# Вывод тем с упоминаниями банков для всех моделей\n",
    "for num_topics, model in lda_models.items():\n",
    "    topics_with_banks = find_topics_with_banks_extended(model, target_banks, num_words=20)\n",
    "    print(f\"\\nТемы с упоминанием банков для модели с {num_topics} темами:\")\n",
    "    for idx, topic in topics_with_banks.items():\n",
    "        print(f\"Тема {idx}: {topic}\")"
   ]
  },
  {
   "cell_type": "markdown",
   "id": "67821d1f-3b17-46f2-a2ef-821c91c0003a",
   "metadata": {},
   "source": [
    "**Попробуем задать параметры фильтрации редких слов при создании словаря:**"
   ]
  },
  {
   "cell_type": "code",
   "execution_count": 16,
   "id": "9efca136-6f71-4ee5-9c78-4408ef33c1cd",
   "metadata": {},
   "outputs": [],
   "source": [
    "# Настройка словаря с пониженным порогом редкости слов\n",
    "dictionary = corpora.Dictionary(processed_texts)\n",
    "dictionary.filter_extremes(no_below=1, no_above=0.9)  # минимальная частота в 1 документе и максимальная — 90%\n",
    "corpus = [dictionary.doc2bow(text) for text in processed_texts]\n"
   ]
  },
  {
   "cell_type": "code",
   "execution_count": 17,
   "id": "2a42089f-4d1b-4a16-82ad-3392496b9e1c",
   "metadata": {},
   "outputs": [],
   "source": [
    "# Добавляем ключевые слова вручную в словарь\n",
    "for bank in target_banks:\n",
    "    dictionary.add_documents([[bank]])"
   ]
  },
  {
   "cell_type": "markdown",
   "id": "23a05278-0aee-4f6e-b3ee-39cdbeac09f9",
   "metadata": {},
   "source": [
    "**Снизим параметр passes и добавим alpha и eta для усиления акцента на более частых терминах:**"
   ]
  },
  {
   "cell_type": "code",
   "execution_count": 18,
   "id": "cfc1dcfe-8d7e-4ed6-987b-304fd077241b",
   "metadata": {},
   "outputs": [
    {
     "name": "stdout",
     "output_type": "stream",
     "text": [
      "\n",
      "Топики для модели с 5 темами:\n",
      "Тема 1: 0.031*\"банк\" + 0.016*\"договор\" + 0.012*\"счёт\" + 0.010*\"г\" + 0.010*\"мой\" + 0.009*\"заявление\" + 0.008*\"сумма\" + 0.007*\"ответ\" + 0.007*\"документ\" + 0.006*\"средство\"\n",
      "Тема 2: 0.040*\"кредит\" + 0.036*\"банк\" + 0.012*\"платёж\" + 0.012*\"это\" + 0.011*\"сумма\" + 0.010*\"кредитный\" + 0.010*\"звонить\" + 0.010*\"месяц\" + 0.008*\"год\" + 0.008*\"день\"\n",
      "Тема 3: 0.022*\"банк\" + 0.012*\"отделение\" + 0.010*\"это\" + 0.009*\"клиент\" + 0.007*\"сотрудник\" + 0.007*\"офис\" + 0.007*\"работать\" + 0.007*\"очередь\" + 0.007*\"время\" + 0.007*\"документ\"\n",
      "Тема 4: 0.042*\"банк\" + 0.024*\"карта\" + 0.012*\"это\" + 0.012*\"счёт\" + 0.009*\"клиент\" + 0.008*\"вклад\" + 0.008*\"год\" + 0.007*\"обслуживание\" + 0.007*\"интернет\" + 0.006*\"кредитный\"\n",
      "Тема 5: 0.039*\"карта\" + 0.023*\"деньга\" + 0.015*\"банкомат\" + 0.014*\"банк\" + 0.014*\"счёт\" + 0.013*\"день\" + 0.011*\"заявление\" + 0.010*\"отделение\" + 0.009*\"мой\" + 0.008*\"сказать\"\n",
      "\n",
      "Топики для модели с 10 темами:\n",
      "Тема 1: 0.040*\"банк\" + 0.014*\"мой\" + 0.011*\"договор\" + 0.010*\"клиент\" + 0.009*\"г\" + 0.009*\"счёт\" + 0.009*\"ответ\" + 0.009*\"заявление\" + 0.009*\"который\" + 0.009*\"сотрудник\"\n",
      "Тема 2: 0.035*\"банк\" + 0.023*\"карта\" + 0.019*\"это\" + 0.009*\"клиент\" + 0.008*\"который\" + 0.006*\"проблема\" + 0.006*\"свой\" + 0.006*\"такой\" + 0.006*\"услуга\" + 0.006*\"год\"\n",
      "Тема 3: 0.048*\"кредит\" + 0.033*\"банк\" + 0.020*\"документ\" + 0.011*\"кредитный\" + 0.009*\"договор\" + 0.009*\"заявка\" + 0.009*\"это\" + 0.008*\"день\" + 0.007*\"сумма\" + 0.007*\"справка\"\n",
      "Тема 4: 0.055*\"вклад\" + 0.047*\"банк\" + 0.036*\"счёт\" + 0.022*\"деньга\" + 0.019*\"процент\" + 0.019*\"комиссия\" + 0.016*\"открыть\" + 0.013*\"тариф\" + 0.012*\"обслуживание\" + 0.012*\"депозит\"\n",
      "Тема 5: 0.036*\"карта\" + 0.024*\"доллар\" + 0.021*\"курс\" + 0.019*\"ru\" + 0.018*\"евро\" + 0.018*\"visa\" + 0.016*\"операция\" + 0.016*\"сайт\" + 0.014*\"покупка\" + 0.013*\"валюта\"\n",
      "Тема 6: 0.064*\"деньга\" + 0.047*\"банкомат\" + 0.025*\"счёт\" + 0.023*\"карта\" + 0.016*\"сбербанк\" + 0.013*\"день\" + 0.012*\"операция\" + 0.012*\"сумма\" + 0.011*\"снять\" + 0.011*\"мой\"\n",
      "Тема 7: 0.024*\"банк\" + 0.018*\"отделение\" + 0.015*\"очередь\" + 0.015*\"клиент\" + 0.012*\"работать\" + 0.012*\"офис\" + 0.012*\"очень\" + 0.011*\"сотрудник\" + 0.010*\"работа\" + 0.009*\"минута\"\n",
      "Тема 8: 0.037*\"банк\" + 0.020*\"телефон\" + 0.019*\"звонить\" + 0.016*\"звонок\" + 0.015*\"номер\" + 0.014*\"ваш\" + 0.014*\"мой\" + 0.013*\"сотрудник\" + 0.012*\"это\" + 0.010*\"человек\"\n",
      "Тема 9: 0.027*\"карта\" + 0.021*\"день\" + 0.019*\"отделение\" + 0.017*\"сказать\" + 0.015*\"позвонить\" + 0.013*\"заявление\" + 0.013*\"банк\" + 0.011*\"звонить\" + 0.009*\"ответ\" + 0.009*\"мой\"\n",
      "Тема 10: 0.031*\"кредит\" + 0.030*\"платёж\" + 0.029*\"банк\" + 0.028*\"сумма\" + 0.014*\"задолженность\" + 0.014*\"рубль\" + 0.014*\"месяц\" + 0.013*\"кредитный\" + 0.013*\"год\" + 0.013*\"погашение\"\n",
      "\n",
      "Топики для модели с 15 темами:\n",
      "Тема 1: 0.044*\"банк\" + 0.014*\"договор\" + 0.014*\"мой\" + 0.012*\"клиент\" + 0.010*\"г\" + 0.010*\"который\" + 0.009*\"сотрудник\" + 0.009*\"ответ\" + 0.008*\"заявление\" + 0.007*\"документ\"\n",
      "Тема 2: 0.034*\"банк\" + 0.028*\"это\" + 0.010*\"клиент\" + 0.010*\"такой\" + 0.010*\"который\" + 0.009*\"свой\" + 0.008*\"просто\" + 0.008*\"говорить\" + 0.008*\"деньга\" + 0.007*\"мочь\"\n",
      "Тема 3: 0.076*\"кредит\" + 0.030*\"банк\" + 0.026*\"документ\" + 0.016*\"кредитный\" + 0.014*\"договор\" + 0.011*\"сумма\" + 0.010*\"условие\" + 0.009*\"менеджер\" + 0.009*\"заявка\" + 0.009*\"ставка\"\n",
      "Тема 4: 0.166*\"карта\" + 0.033*\"банк\" + 0.024*\"кредитный\" + 0.016*\"лимит\" + 0.013*\"обслуживание\" + 0.012*\"год\" + 0.012*\"пользоваться\" + 0.010*\"услуга\" + 0.010*\"интернет\" + 0.009*\"дебетовый\"\n",
      "Тема 5: 0.127*\"банкомат\" + 0.059*\"деньга\" + 0.016*\"купюра\" + 0.016*\"снять\" + 0.016*\"наличный\" + 0.014*\"чек\" + 0.012*\"терминал\" + 0.012*\"выдать\" + 0.011*\"карта\" + 0.011*\"операция\"\n",
      "Тема 6: 0.054*\"деньга\" + 0.046*\"счёт\" + 0.044*\"карта\" + 0.035*\"заявление\" + 0.023*\"мой\" + 0.021*\"сбербанк\" + 0.018*\"отделение\" + 0.016*\"написать\" + 0.015*\"день\" + 0.015*\"банк\"\n",
      "Тема 7: 0.053*\"банк\" + 0.030*\"очень\" + 0.020*\"клиент\" + 0.018*\"сотрудник\" + 0.014*\"обслуживание\" + 0.014*\"работа\" + 0.012*\"отделение\" + 0.011*\"вопрос\" + 0.010*\"спасибо\" + 0.010*\"офис\"\n",
      "Тема 8: 0.038*\"банк\" + 0.031*\"телефон\" + 0.024*\"номер\" + 0.024*\"звонок\" + 0.023*\"звонить\" + 0.018*\"ваш\" + 0.017*\"мой\" + 0.017*\"сотрудник\" + 0.011*\"кредит\" + 0.010*\"человек\"\n",
      "Тема 9: 0.029*\"день\" + 0.020*\"позвонить\" + 0.018*\"сказать\" + 0.018*\"отделение\" + 0.016*\"банк\" + 0.013*\"звонить\" + 0.012*\"ответ\" + 0.011*\"заявка\" + 0.011*\"неделя\" + 0.011*\"вопрос\"\n",
      "Тема 10: 0.047*\"кредит\" + 0.038*\"платёж\" + 0.037*\"банк\" + 0.025*\"сумма\" + 0.019*\"задолженность\" + 0.016*\"месяц\" + 0.016*\"погашение\" + 0.016*\"год\" + 0.015*\"кредитный\" + 0.013*\"погасить\"\n",
      "Тема 11: 0.042*\"рубль\" + 0.039*\"руб\" + 0.034*\"сумма\" + 0.031*\"000\" + 0.024*\"10\" + 0.020*\"12\" + 0.018*\"00\" + 0.017*\"11\" + 0.014*\"р\" + 0.012*\"1\"\n",
      "Тема 12: 0.074*\"вклад\" + 0.048*\"счёт\" + 0.046*\"банк\" + 0.024*\"открыть\" + 0.024*\"деньга\" + 0.020*\"процент\" + 0.017*\"депозит\" + 0.014*\"договор\" + 0.013*\"сумма\" + 0.012*\"открытие\"\n",
      "Тема 13: 0.035*\"мы\" + 0.032*\"наш\" + 0.017*\"год\" + 0.014*\"жена\" + 0.012*\"муж\" + 0.011*\"сбербанк\" + 0.010*\"москва\" + 0.009*\"филиал\" + 0.007*\"город\" + 0.007*\"документ\"\n",
      "Тема 14: 0.029*\"платёж\" + 0.024*\"интернет\" + 0.022*\"система\" + 0.021*\"перевод\" + 0.016*\"услуга\" + 0.016*\"ru\" + 0.015*\"сайт\" + 0.014*\"поддержка\" + 0.013*\"операция\" + 0.012*\"проблема\"\n",
      "Тема 15: 0.034*\"очередь\" + 0.032*\"отделение\" + 0.022*\"минута\" + 0.018*\"касса\" + 0.016*\"работать\" + 0.015*\"офис\" + 0.013*\"час\" + 0.012*\"человек\" + 0.011*\"время\" + 0.011*\"клиент\"\n"
     ]
    }
   ],
   "source": [
    "# Построение LDA с расширенными настройками\n",
    "lda_models = {}\n",
    "for num_topics in [5, 10, 15]:\n",
    "    lda_model = LdaModel(corpus=corpus, id2word=dictionary, num_topics=num_topics, \n",
    "                         random_state=42, passes=5, alpha='auto', eta='auto')\n",
    "    lda_models[num_topics] = lda_model\n",
    "    print(f\"\\nТопики для модели с {num_topics} темами:\")\n",
    "    for idx, topic in lda_model.print_topics(-1):\n",
    "        print(f\"Тема {idx + 1}: {topic}\")"
   ]
  },
  {
   "cell_type": "markdown",
   "id": "55bf9a16-ac37-43d8-b09f-55a5222ac1cf",
   "metadata": {},
   "source": [
    "**Повторный поиск тем с упоминанием банков**"
   ]
  },
  {
   "cell_type": "code",
   "execution_count": 21,
   "id": "d8a798f6-99a7-43da-93c2-d8093b018d71",
   "metadata": {},
   "outputs": [
    {
     "name": "stdout",
     "output_type": "stream",
     "text": [
      "Диагностика - Тема 1: [('банк', 0.030667767), ('договор', 0.015739119), ('счёт', 0.011734773), ('г', 0.009994662), ('мой', 0.009985367), ('заявление', 0.008652892), ('сумма', 0.0081760865), ('ответ', 0.0071525592), ('документ', 0.006546794), ('средство', 0.006488112), ('получить', 0.0061515346), ('сотрудник', 0.0061338535), ('который', 0.005934358), ('год', 0.0054141935), ('срок', 0.005326588), ('12', 0.00530709), ('1', 0.0051871906), ('день', 0.0051560956), ('11', 0.004961723), ('кредитный', 0.0049130656)]\n",
      "Диагностика - Тема 2: [('кредит', 0.040252853), ('банк', 0.03593466), ('платёж', 0.012112441), ('это', 0.011843771), ('сумма', 0.011323661), ('кредитный', 0.009894875), ('звонить', 0.009731757), ('месяц', 0.009558408), ('год', 0.008362687), ('день', 0.008238056), ('мой', 0.0076064058), ('сказать', 0.007393724), ('телефон', 0.007153306), ('который', 0.0068664113), ('задолженность', 0.006668054), ('звонок', 0.006530041), ('сотрудник', 0.005816309), ('взять', 0.005656001), ('говорить', 0.005444178), ('погашение', 0.005394757)]\n",
      "Диагностика - Тема 3: [('банк', 0.021653619), ('отделение', 0.0115450015), ('это', 0.00991206), ('клиент', 0.008676721), ('сотрудник', 0.00749558), ('офис', 0.007470827), ('работать', 0.0071958797), ('очередь', 0.0069340644), ('время', 0.006670581), ('документ', 0.006542549), ('день', 0.0065209055), ('который', 0.00641574), ('очень', 0.0060869725), ('сказать', 0.005920157), ('работа', 0.0058595445), ('минута', 0.0056310617), ('свой', 0.0054951566), ('человек', 0.005403689), ('вопрос', 0.0053761136), ('девушка', 0.0048307283)]\n",
      "Диагностика - Тема 4: [('банк', 0.04164569), ('карта', 0.023553304), ('это', 0.012075885), ('счёт', 0.011617618), ('клиент', 0.009456734), ('вклад', 0.008174469), ('год', 0.007940701), ('обслуживание', 0.007065537), ('интернет', 0.0065482296), ('кредитный', 0.0062162518), ('комиссия', 0.005981198), ('очень', 0.005901131), ('который', 0.005728623), ('услуга', 0.005682007), ('процент', 0.005654396), ('пользоваться', 0.0054419735), ('1', 0.00464911), ('свой', 0.004591849), ('лимит', 0.004576701), ('сайт', 0.0041214526)]\n",
      "Диагностика - Тема 5: [('карта', 0.0392155), ('деньга', 0.02332739), ('банкомат', 0.01541246), ('банк', 0.0140934335), ('счёт', 0.013811686), ('день', 0.013357827), ('заявление', 0.011303713), ('отделение', 0.010080155), ('мой', 0.009398571), ('сказать', 0.008287533), ('это', 0.0072778487), ('звонить', 0.0063796006), ('написать', 0.006339183), ('позвонить', 0.0062736827), ('телефон', 0.0056759245), ('мочь', 0.0053707454), ('номер', 0.00534771), ('сбербанк', 0.0052192006), ('проблема', 0.00510377), ('операция', 0.00498119)]\n",
      "\n",
      "Темы с упоминанием банков для модели с 5 темами:\n",
      "Тема 5: [('карта', 0.0392155), ('деньга', 0.02332739), ('банкомат', 0.01541246), ('банк', 0.0140934335), ('счёт', 0.013811686), ('день', 0.013357827), ('заявление', 0.011303713), ('отделение', 0.010080155), ('мой', 0.009398571), ('сказать', 0.008287533), ('это', 0.0072778487), ('звонить', 0.0063796006), ('написать', 0.006339183), ('позвонить', 0.0062736827), ('телефон', 0.0056759245), ('мочь', 0.0053707454), ('номер', 0.00534771), ('сбербанк', 0.0052192006), ('проблема', 0.00510377), ('операция', 0.00498119)]\n",
      "Диагностика - Тема 1: [('банк', 0.040303394), ('мой', 0.01423771), ('договор', 0.010792246), ('клиент', 0.009986763), ('г', 0.009485909), ('счёт', 0.009400646), ('ответ', 0.009113344), ('заявление', 0.008901093), ('который', 0.008838787), ('сотрудник', 0.008750314), ('документ', 0.0069379522), ('получить', 0.0068884143), ('средство', 0.0065263747), ('дать', 0.0059760213), ('письмо', 0.005827584), ('информация', 0.0056465445), ('претензия', 0.005630642), ('данный', 0.0055242334), ('я', 0.0054956363), ('свой', 0.005151714)]\n",
      "Диагностика - Тема 2: [('банк', 0.03525443), ('карта', 0.023370663), ('это', 0.01905907), ('клиент', 0.009169072), ('который', 0.007933093), ('проблема', 0.0063868333), ('свой', 0.0061444184), ('такой', 0.006132399), ('услуга', 0.005811601), ('год', 0.005637172), ('мочь', 0.0053687603), ('интернет', 0.0053113885), ('пользоваться', 0.0052364855), ('просто', 0.0051743286), ('очень', 0.0049742116), ('время', 0.0047646197), ('один', 0.004615653), ('другой', 0.0045201923), ('кредитный', 0.004512307), ('мой', 0.0044492697)]\n",
      "Диагностика - Тема 3: [('кредит', 0.04822767), ('банк', 0.033326305), ('документ', 0.020388866), ('кредитный', 0.011350637), ('договор', 0.0090551255), ('заявка', 0.008848704), ('это', 0.008842825), ('день', 0.008363673), ('сумма', 0.0069813305), ('справка', 0.0068090158), ('взять', 0.006732151), ('условие', 0.0066647152), ('сказать', 0.006507315), ('менеджер', 0.006345389), ('год', 0.006214032), ('который', 0.005988016), ('анкета', 0.005838876), ('мы', 0.005815253), ('брать', 0.005756954), ('деньга', 0.005532273)]\n",
      "Диагностика - Тема 4: [('вклад', 0.05451018), ('банк', 0.04704363), ('счёт', 0.03595659), ('деньга', 0.021703029), ('процент', 0.01891245), ('комиссия', 0.018855963), ('открыть', 0.016495513), ('тариф', 0.012884762), ('обслуживание', 0.012342733), ('депозит', 0.012105617), ('договор', 0.011911439), ('сумма', 0.011765789), ('условие', 0.011562575), ('1', 0.010179147), ('год', 0.0090447925), ('перевод', 0.008826242), ('карта', 0.008761913), ('открытие', 0.008516172), ('день', 0.0075288354), ('2', 0.007315239)]\n",
      "Диагностика - Тема 5: [('карта', 0.036258113), ('доллар', 0.023673974), ('курс', 0.021004366), ('ru', 0.018973812), ('евро', 0.018441664), ('visa', 0.01784273), ('операция', 0.01607705), ('сайт', 0.01596991), ('покупка', 0.01426995), ('валюта', 0.012892648), ('рубль', 0.011208675), ('1', 0.009979503), ('телебанк', 0.009823988), ('http', 0.009719138), ('www', 0.009548912), ('00', 0.008658917), ('интернет', 0.0077027767), ('оплата', 0.0076304385), ('магазин', 0.007556376), ('конвертация', 0.0070769857)]\n",
      "Диагностика - Тема 6: [('деньга', 0.063725024), ('банкомат', 0.04688454), ('счёт', 0.025322631), ('карта', 0.022767777), ('сбербанк', 0.01583625), ('день', 0.013012759), ('операция', 0.0123367105), ('сумма', 0.011899663), ('снять', 0.011126052), ('мой', 0.01071014), ('перевод', 0.009883973), ('средство', 0.009847034), ('банк', 0.00954815), ('заявление', 0.008276632), ('рубль', 0.00745585), ('написать', 0.0070567406), ('вернуть', 0.006927858), ('претензия', 0.0068271337), ('отделение', 0.0064098057), ('выдать', 0.006050675)]\n",
      "Диагностика - Тема 7: [('банк', 0.023618141), ('отделение', 0.017839752), ('очередь', 0.015480802), ('клиент', 0.014686557), ('работать', 0.012248021), ('офис', 0.012096506), ('очень', 0.011978309), ('сотрудник', 0.0114219375), ('работа', 0.009970953), ('минута', 0.008983587), ('время', 0.008847103), ('человек', 0.0086243935), ('это', 0.00797283), ('касса', 0.007830812), ('свой', 0.006782604), ('который', 0.0066487174), ('обслуживание', 0.0060449117), ('вопрос', 0.0060220463), ('хотеть', 0.005439275), ('час', 0.0052843727)]\n",
      "Диагностика - Тема 8: [('банк', 0.03652769), ('телефон', 0.020223046), ('звонить', 0.018655812), ('звонок', 0.015718084), ('номер', 0.014974322), ('ваш', 0.014065704), ('мой', 0.014054688), ('сотрудник', 0.01256254), ('это', 0.012162487), ('человек', 0.010459679), ('кредит', 0.00918162), ('который', 0.008789786), ('свой', 0.0072502927), ('быть', 0.006717424), ('такой', 0.006451437), ('клиент', 0.0063998424), ('какой', 0.006193709), ('говорить', 0.0059806663), ('дать', 0.005957853), ('знать', 0.005510306)]\n",
      "Диагностика - Тема 9: [('карта', 0.027000748), ('день', 0.021356247), ('отделение', 0.018690856), ('сказать', 0.017259825), ('позвонить', 0.0150886), ('заявление', 0.0133455675), ('банк', 0.0131728565), ('звонить', 0.011355279), ('ответ', 0.009247114), ('мой', 0.009001988), ('получить', 0.0089258), ('неделя', 0.008540625), ('вопрос', 0.007898257), ('телефон', 0.00762381), ('сотрудник', 0.00757431), ('девушка', 0.0073234397), ('говорить', 0.006967443), ('офис', 0.006810211), ('мочь', 0.006799242), ('прийти', 0.0067763766)]\n",
      "Диагностика - Тема 10: [('кредит', 0.030912291), ('платёж', 0.030037062), ('банк', 0.028795118), ('сумма', 0.02756146), ('задолженность', 0.014385542), ('рубль', 0.014019116), ('месяц', 0.01378837), ('кредитный', 0.013327934), ('год', 0.012686018), ('погашение', 0.012550531), ('руб', 0.012438735), ('счёт', 0.0111296885), ('день', 0.009912867), ('погасить', 0.009499248), ('процент', 0.009343348), ('платить', 0.008016832), ('оплатить', 0.007829915), ('должный', 0.0074139764), ('штраф', 0.0073778005), ('договор', 0.0071706786)]\n",
      "\n",
      "Темы с упоминанием банков для модели с 10 темами:\n",
      "Тема 6: [('деньга', 0.063725024), ('банкомат', 0.04688454), ('счёт', 0.025322631), ('карта', 0.022767777), ('сбербанк', 0.01583625), ('день', 0.013012759), ('операция', 0.0123367105), ('сумма', 0.011899663), ('снять', 0.011126052), ('мой', 0.01071014), ('перевод', 0.009883973), ('средство', 0.009847034), ('банк', 0.00954815), ('заявление', 0.008276632), ('рубль', 0.00745585), ('написать', 0.0070567406), ('вернуть', 0.006927858), ('претензия', 0.0068271337), ('отделение', 0.0064098057), ('выдать', 0.006050675)]\n",
      "Диагностика - Тема 8: [('банк', 0.038387164), ('телефон', 0.031314664), ('номер', 0.02449061), ('звонок', 0.024087608), ('звонить', 0.023104995), ('ваш', 0.01784737), ('мой', 0.016886111), ('сотрудник', 0.016549759), ('кредит', 0.010970015), ('человек', 0.010057029), ('который', 0.0083007915), ('трубка', 0.0077454187), ('дать', 0.007497288), ('альфа', 0.006944199), ('разговор', 0.006471037), ('клиент', 0.0063431477), ('это', 0.0060152514), ('просить', 0.006002012), ('какой', 0.0059829205), ('быть', 0.005859264)]\n",
      "Диагностика - Тема 5: [('банкомат', 0.1270774), ('деньга', 0.058950864), ('купюра', 0.01564896), ('снять', 0.015610132), ('наличный', 0.015563571), ('чек', 0.013720878), ('терминал', 0.012359975), ('выдать', 0.012278353), ('карта', 0.011376049), ('операция', 0.010957332), ('претензия', 0.010532253), ('карточка', 0.010062337), ('работать', 0.009769458), ('день', 0.009689353), ('втб', 0.0090271905), ('ситифон', 0.00872872), ('сумма', 0.0082599325), ('телебанк', 0.00817124), ('банк', 0.008079077), ('проблема', 0.007742647)]\n",
      "Диагностика - Тема 14: [('платёж', 0.028598072), ('интернет', 0.02409438), ('система', 0.021564359), ('перевод', 0.02068628), ('услуга', 0.016059147), ('ru', 0.015988668), ('сайт', 0.015425886), ('поддержка', 0.014074595), ('операция', 0.013032695), ('проблема', 0.012379545), ('служба', 0.011221338), ('номер', 0.011058286), ('телефон', 0.010926375), ('оплата', 0.010236063), ('банк', 0.009975024), ('пароль', 0.009723436), ('счёт', 0.008891961), ('информация', 0.008260545), ('оператор', 0.007883608), ('http', 0.007838578)]\n",
      "Диагностика - Тема 12: [('вклад', 0.07378185), ('счёт', 0.048227966), ('банк', 0.04566957), ('открыть', 0.024321469), ('деньга', 0.024124619), ('процент', 0.020284615), ('депозит', 0.016833978), ('договор', 0.014101374), ('сумма', 0.013278609), ('открытие', 0.012420437), ('перевод', 0.011169779), ('комиссия', 0.010745658), ('доллар', 0.009867502), ('условие', 0.009679124), ('открывать', 0.009493692), ('день', 0.0093454), ('1', 0.009015259), ('евро', 0.008456829), ('тариф', 0.00830084), ('ставка', 0.00817843)]\n",
      "Диагностика - Тема 10: [('кредит', 0.046656728), ('платёж', 0.038063515), ('банк', 0.037026476), ('сумма', 0.024785237), ('задолженность', 0.018627154), ('месяц', 0.016357012), ('погашение', 0.016153429), ('год', 0.015915407), ('кредитный', 0.01513236), ('погасить', 0.012958089), ('процент', 0.011440726), ('платить', 0.0109954905), ('день', 0.010369245), ('долг', 0.009939979), ('оплатить', 0.009859181), ('счёт', 0.009770353), ('договор', 0.009605486), ('просрочка', 0.009601166), ('штраф', 0.009190589), ('должный', 0.008084257)]\n",
      "Диагностика - Тема 13: [('мы', 0.03454612), ('наш', 0.032050412), ('год', 0.017469505), ('жена', 0.01360676), ('муж', 0.011681551), ('сбербанк', 0.011311574), ('москва', 0.009646356), ('филиал', 0.009248316), ('город', 0.0069122734), ('документ', 0.0068382877), ('ребёнок', 0.006668602), ('зарплата', 0.0064994115), ('работа', 0.0063162646), ('работать', 0.006087368), ('дом', 0.0058420068), ('фирма', 0.0058386433), ('сб', 0.0056380094), ('человек', 0.005311423), ('мама', 0.005248946), ('компания', 0.0052270913)]\n",
      "Диагностика - Тема 4: [('карта', 0.16640568), ('банк', 0.03314662), ('кредитный', 0.024439018), ('лимит', 0.016376412), ('обслуживание', 0.013319627), ('год', 0.012258238), ('пользоваться', 0.012227411), ('услуга', 0.010439995), ('интернет', 0.009545006), ('дебетовый', 0.0091033885), ('получить', 0.007993048), ('кредитка', 0.007870731), ('visa', 0.0072182943), ('комиссия', 0.006494549), ('смс', 0.0060642716), ('месяц', 0.005866375), ('тариф', 0.0054063257), ('карточка', 0.005335771), ('2', 0.0052886466), ('покупка', 0.0052297604)]\n",
      "Диагностика - Тема 7: [('банк', 0.05276254), ('очень', 0.029655194), ('клиент', 0.020408768), ('сотрудник', 0.0179188), ('обслуживание', 0.013884523), ('работа', 0.01370344), ('отделение', 0.011520593), ('вопрос', 0.010723372), ('спасибо', 0.010175841), ('офис', 0.010081499), ('быстро', 0.009744462), ('вежливый', 0.0084079625), ('хороший', 0.008367904), ('время', 0.006868388), ('хотеть', 0.006723303), ('год', 0.006575573), ('приятно', 0.0064689633), ('свой', 0.006168275), ('который', 0.0060217907), ('мой', 0.005910714)]\n",
      "Диагностика - Тема 9: [('день', 0.028627273), ('позвонить', 0.019999899), ('сказать', 0.018041989), ('отделение', 0.01779607), ('банк', 0.01641413), ('звонить', 0.012973111), ('ответ', 0.011517029), ('заявка', 0.0111688515), ('неделя', 0.010916951), ('вопрос', 0.010575003), ('заявление', 0.010194212), ('получить', 0.01000923), ('сотрудник', 0.009850934), ('телефон', 0.00958883), ('мой', 0.009050661), ('офис', 0.008570773), ('сообщить', 0.007719675), ('центр', 0.007339902), ('девушка', 0.007136556), ('ждать', 0.0070245904)]\n",
      "Диагностика - Тема 2: [('банк', 0.034114867), ('это', 0.027661987), ('клиент', 0.010260042), ('такой', 0.010223578), ('который', 0.01001676), ('свой', 0.009396594), ('просто', 0.007882555), ('говорить', 0.0077632735), ('деньга', 0.007551978), ('мочь', 0.0071119643), ('знать', 0.0063329428), ('один', 0.0062265615), ('мой', 0.006093174), ('быть', 0.0060914373), ('время', 0.005943771), ('сказать', 0.0058625187), ('какой', 0.0054833665), ('другой', 0.0052954797), ('тот', 0.004975787), ('очень', 0.004942903)]\n",
      "\n",
      "Темы с упоминанием банков для модели с 15 темами:\n",
      "Тема 5: [('банкомат', 0.1270774), ('деньга', 0.058950864), ('купюра', 0.01564896), ('снять', 0.015610132), ('наличный', 0.015563571), ('чек', 0.013720878), ('терминал', 0.012359975), ('выдать', 0.012278353), ('карта', 0.011376049), ('операция', 0.010957332), ('претензия', 0.010532253), ('карточка', 0.010062337), ('работать', 0.009769458), ('день', 0.009689353), ('втб', 0.0090271905), ('ситифон', 0.00872872), ('сумма', 0.0082599325), ('телебанк', 0.00817124), ('банк', 0.008079077), ('проблема', 0.007742647)]\n",
      "Тема 13: [('мы', 0.03454612), ('наш', 0.032050412), ('год', 0.017469505), ('жена', 0.01360676), ('муж', 0.011681551), ('сбербанк', 0.011311574), ('москва', 0.009646356), ('филиал', 0.009248316), ('город', 0.0069122734), ('документ', 0.0068382877), ('ребёнок', 0.006668602), ('зарплата', 0.0064994115), ('работа', 0.0063162646), ('работать', 0.006087368), ('дом', 0.0058420068), ('фирма', 0.0058386433), ('сб', 0.0056380094), ('человек', 0.005311423), ('мама', 0.005248946), ('компания', 0.0052270913)]\n"
     ]
    }
   ],
   "source": [
    "def find_topics_with_banks_show_topics(lda_model, target_banks, num_words=20):\n",
    "    topics_with_banks = {}\n",
    "    for idx, topic in lda_model.show_topics(num_words=num_words, formatted=False):\n",
    "        print(f\"Диагностика - Тема {idx + 1}: {topic}\")  # Выводим тему для диагностики\n",
    "\n",
    "        for word, weight in topic:\n",
    "            if word in target_banks:\n",
    "                topics_with_banks[idx + 1] = topic\n",
    "                break\n",
    "    return topics_with_banks\n",
    "\n",
    "# Запуск обновленной функции\n",
    "for num_topics, model in lda_models.items():\n",
    "    topics_with_banks = find_topics_with_banks_show_topics(model, target_banks, num_words=20)\n",
    "    print(f\"\\nТемы с упоминанием банков для модели с {num_topics} темами:\")\n",
    "    for idx, topic in topics_with_banks.items():\n",
    "        print(f\"Тема {idx}: {topic}\")"
   ]
  },
  {
   "cell_type": "markdown",
   "id": "f803c496-ccd9-484e-a238-4b461d3edd37",
   "metadata": {},
   "source": [
    "### Часть 3. Классификация текстов"
   ]
  },
  {
   "cell_type": "markdown",
   "id": "63cfef8d-de9e-44b0-a3f1-879feddaa5d7",
   "metadata": {},
   "source": [
    "**Шаг 1: Подготовка данных**  \n",
    "    - Фильтруем отзывы с оценками 1 и 5, выбираем размер выборки для каждой группы.  \n",
    "    - Разделяем данные на обучающие и тестовые с помощью train_test_split.  "
   ]
  },
  {
   "cell_type": "code",
   "execution_count": 22,
   "id": "541906ad-f2a7-44cf-bd6d-dc79d7d9ba17",
   "metadata": {},
   "outputs": [],
   "source": [
    "import pandas as pd\n",
    "from sklearn.model_selection import train_test_split\n",
    "\n",
    "# Фильтруем отзывы с оценками 1 и 5\n",
    "df_negative = df[df['rating_grade'] == 1].sample(n=1000, random_state=42)\n",
    "df_positive = df[df['rating_grade'] == 5].sample(n=1000, random_state=42)\n",
    "\n",
    "# Объединяем их в общий набор данных\n",
    "df_classification = pd.concat([df_negative, df_positive])\n",
    "\n",
    "# Формируем метки классов\n",
    "df_classification['label'] = df_classification['rating_grade'].apply(lambda x: 1 if x == 5 else 0)\n",
    "\n",
    "# Разделяем на обучающее и тестовое множество\n",
    "X_train, X_test, y_train, y_test = train_test_split(df_classification['text'], df_classification['label'], test_size=0.3, random_state=42)"
   ]
  },
  {
   "cell_type": "markdown",
   "id": "76aa6ffd-4185-4943-89fa-bbe076547487",
   "metadata": {},
   "source": [
    "**Шаг 2: Классификация и Векторизация**  \n",
    "Для построения baseline используем два метода векторизации: униграммы и n-граммы. Затем применим простые модели классификации.  \n",
    "    - Создаем Pipeline для классификации с использованием униграмм и n-грамм.  \n",
    "    - Обучаем модель и оцениваем качество.  "
   ]
  },
  {
   "cell_type": "code",
   "execution_count": 23,
   "id": "91b894b0-1076-416a-b560-4f6059781b52",
   "metadata": {},
   "outputs": [
    {
     "name": "stdout",
     "output_type": "stream",
     "text": [
      "Accuracy (униграммы): 0.9233333333333333\n",
      "F1-Score (униграммы): 0.9209621993127147\n",
      "Accuracy (биграммы): 0.8966666666666666\n",
      "F1-Score (биграммы): 0.8872727272727273\n"
     ]
    }
   ],
   "source": [
    "from sklearn.feature_extraction.text import CountVectorizer, TfidfVectorizer\n",
    "from sklearn.naive_bayes import MultinomialNB\n",
    "from sklearn.metrics import accuracy_score, f1_score\n",
    "from sklearn.pipeline import Pipeline\n",
    "\n",
    "# Создаем Pipeline с использованием униграмм\n",
    "pipeline_uni = Pipeline([\n",
    "    ('vect', CountVectorizer(ngram_range=(1, 1))),\n",
    "    ('clf', MultinomialNB())\n",
    "])\n",
    "\n",
    "# Обучение модели и предсказание для униграмм\n",
    "pipeline_uni.fit(X_train, y_train)\n",
    "y_pred_uni = pipeline_uni.predict(X_test)\n",
    "print(\"Accuracy (униграммы):\", accuracy_score(y_test, y_pred_uni))\n",
    "print(\"F1-Score (униграммы):\", f1_score(y_test, y_pred_uni))\n",
    "\n",
    "# Создаем Pipeline с использованием биграмм\n",
    "pipeline_bi = Pipeline([\n",
    "    ('vect', CountVectorizer(ngram_range=(1, 2))),\n",
    "    ('clf', MultinomialNB())\n",
    "])\n",
    "\n",
    "# Обучение модели и предсказание для биграмм\n",
    "pipeline_bi.fit(X_train, y_train)\n",
    "y_pred_bi = pipeline_bi.predict(X_test)\n",
    "print(\"Accuracy (биграммы):\", accuracy_score(y_test, y_pred_bi))\n",
    "print(\"F1-Score (биграммы):\", f1_score(y_test, y_pred_bi))"
   ]
  },
  {
   "cell_type": "markdown",
   "id": "a826b80c-973b-4703-93b1-7a0feea8dc12",
   "metadata": {},
   "source": [
    "**Шаг 3: Улучшение качества с использованием скрытых тем**  \n",
    "Теперь используем преобразования TF-IDF и тематические модели для сравнения, чтобы понять, как скрытые темы влияют на классификацию.  \n",
    "    - Векторизация TF-IDF и Latent Semantic Analysis (LSA).  \n",
    "    - LDA для тематического моделирования.  "
   ]
  },
  {
   "cell_type": "code",
   "execution_count": 25,
   "id": "391af50b-ddf2-48ec-aaff-302c2ad8e2f8",
   "metadata": {},
   "outputs": [
    {
     "name": "stdout",
     "output_type": "stream",
     "text": [
      "Accuracy (TF-IDF + LSA): 0.9033333333333333\n",
      "F1-Score (TF-IDF + LSA): 0.902027027027027\n",
      "Accuracy (LDA): 0.53\n",
      "F1-Score (LDA): 0.25\n"
     ]
    }
   ],
   "source": [
    "from sklearn.linear_model import LogisticRegression\n",
    "\n",
    "# TF-IDF + LSA с Logistic Regression\n",
    "pipeline_tfidf_lsa = Pipeline([\n",
    "    ('tfidf', TfidfVectorizer()),\n",
    "    ('svd', TruncatedSVD(n_components=50, random_state=42)),\n",
    "    ('clf', LogisticRegression())\n",
    "])\n",
    "\n",
    "pipeline_tfidf_lsa.fit(X_train, y_train)\n",
    "y_pred_tfidf_lsa = pipeline_tfidf_lsa.predict(X_test)\n",
    "print(\"Accuracy (TF-IDF + LSA):\", accuracy_score(y_test, y_pred_tfidf_lsa))\n",
    "print(\"F1-Score (TF-IDF + LSA):\", f1_score(y_test, y_pred_tfidf_lsa))\n",
    "\n",
    "# LDA как тематическое моделирование с Logistic Regression\n",
    "pipeline_lda = Pipeline([\n",
    "    ('tfidf', TfidfVectorizer()),\n",
    "    ('lda', LatentDirichletAllocation(n_components=10, random_state=42)),\n",
    "    ('clf', LogisticRegression())\n",
    "])\n",
    "\n",
    "pipeline_lda.fit(X_train, y_train)\n",
    "y_pred_lda = pipeline_lda.predict(X_test)\n",
    "print(\"Accuracy (LDA):\", accuracy_score(y_test, y_pred_lda))\n",
    "print(\"F1-Score (LDA):\", f1_score(y_test, y_pred_lda))"
   ]
  },
  {
   "cell_type": "markdown",
   "id": "9c06cac7-56ba-4560-a8d0-ea2e0a6734b1",
   "metadata": {},
   "source": [
    "**Вывод по проделанной работе:**  \n",
    "  \n",
    "1) **Анализ отзывов по длине:** Построены гистограммы длины отзывов, которые показывают, что большинство отзывов являются относительно короткими, как по количеству символов, так и по количеству слов. Это может указывать на то, что пользователи предпочитают давать краткие и содержательные отзывы.  \n",
    "  \n",
    "2) **Частотный анализ:** Самыми популярными словами стали союзы, предлоги и местоимения, как и ожидалось. После фильтрации стоп-слов и приведения к леммам ключевыми терминами остались слова, связанные с банками, картами и финансовыми операциями, такие как \"банк\", \"карта\", \"деньга\", \"сотрудник\".\n",
    "\n",
    "3) **Кривые Ципфа и Хипса:** Кривая Ципфа подтверждает, что частотное распределение слов соответствует ожидаемому — несколько слов используются очень часто, а остальные встречаются реже. Кривая Хипса показывает рост уникальных слов, отражая разнообразие языка отзывов.  \n",
    "  \n",
    "4) **Тематическое моделирование:** Применены модели LDA с различным числом тем (5, 10, 15). Модели позволили выделить ключевые темы, такие как \"кредиты\", \"карты\", \"отделения банков\", и \"доверие клиентов\". Это позволяет глубже понять основные причины обращений пользователей.  \n",
    "  \n",
    "5) **Классификация отзывов:** Проведена бинарная классификация на основе отзывов с оценкой 1 и 5. Использовались униграммы и биграммы, а также TF-IDF с сингулярным разложением и тематические модели (LSA и LDA). Модель на основе униграмм показала наилучшие результаты (точность 92.3% и F1-score 92.1%). В то же время LDA показала низкие результаты (точность 53% и F1-score 25%), что свидетельствует о сложности использования тематического моделирования для классификации эмоциональной окраски.\n",
    "\n",
    "Вывод: Проведенный анализ показал, что для выявления ключевых слов и основных тем отзывов подходы тематического моделирования эффективны. Однако для бинарной классификации отзывов лучшей оказалась модель с униграммами и наивным байесом, что подтверждает простоту и эффективность использования базовых подходов при решении задач классификации текстов с ограниченным набором классов."
   ]
  }
 ],
 "metadata": {
  "kernelspec": {
   "display_name": "Python 3 (ipykernel)",
   "language": "python",
   "name": "python3"
  },
  "language_info": {
   "codemirror_mode": {
    "name": "ipython",
    "version": 3
   },
   "file_extension": ".py",
   "mimetype": "text/x-python",
   "name": "python",
   "nbconvert_exporter": "python",
   "pygments_lexer": "ipython3",
   "version": "3.9.20"
  }
 },
 "nbformat": 4,
 "nbformat_minor": 5
}
