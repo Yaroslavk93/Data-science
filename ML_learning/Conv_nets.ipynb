{
 "cells": [
  {
   "cell_type": "markdown",
   "id": "90510c42-fe52-49ee-bdf1-a4979cf42311",
   "metadata": {},
   "source": [
    "# Классификация изображений: Cats vs Dogs"
   ]
  },
  {
   "cell_type": "markdown",
   "id": "1e7dcd8e-02c7-47ad-9954-5ef47a11cda1",
   "metadata": {},
   "source": [
    "### Блок 1. Импорт необходимых библиотек"
   ]
  },
  {
   "cell_type": "code",
   "execution_count": 1,
   "id": "144838aa-f11f-4276-89dd-9dc464a7238b",
   "metadata": {},
   "outputs": [],
   "source": [
    "import os\n",
    "import shutil\n",
    "import numpy as np\n",
    "import pandas as pd\n",
    "import tensorflow as tf\n",
    "from tensorflow.keras.preprocessing.image import ImageDataGenerator\n",
    "from tensorflow.keras.models import Sequential, Model\n",
    "from tensorflow.keras.layers import Dense, GlobalAveragePooling2D, BatchNormalization, Dropout\n",
    "from tensorflow.keras.optimizers import Adam\n",
    "from tensorflow.keras.applications import EfficientNetB3  # используем более мощную EfficientNetB3\n",
    "from tensorflow.keras.callbacks import EarlyStopping, ReduceLROnPlateau\n",
    "from sklearn.metrics import log_loss\n",
    "import matplotlib.pyplot as plt"
   ]
  },
  {
   "cell_type": "markdown",
   "id": "4972a6b6-629c-4154-8abd-d7d6ef385e7e",
   "metadata": {},
   "source": [
    "### Блок 2. Организация файлов в тренировочной директории"
   ]
  },
  {
   "cell_type": "code",
   "execution_count": 2,
   "id": "2ea9ff19-d3fe-467b-a613-f04316f9f491",
   "metadata": {},
   "outputs": [
    {
     "name": "stdout",
     "output_type": "stream",
     "text": [
      "Файлы успешно организованы!\n"
     ]
    }
   ],
   "source": [
    "train_dir = 'C:/Users/Yaros/Downloads/dogs-vs-cats-redux-kernels-edition/train'\n",
    "test_dir = 'C:/Users/Yaros/Downloads/dogs-vs-cats-redux-kernels-edition/test'\n",
    "\n",
    "\n",
    "# Создаём директории для классов\n",
    "cats_dir = os.path.join(train_dir, 'cats')\n",
    "dogs_dir = os.path.join(train_dir, 'dogs')\n",
    "os.makedirs(cats_dir, exist_ok=True)\n",
    "os.makedirs(dogs_dir, exist_ok=True)\n",
    "\n",
    "# Перемещаем файлы в нужные директории, исключая папки 'cats' и 'dogs'\n",
    "for filename in os.listdir(train_dir):\n",
    "    if filename.startswith('cat') and os.path.isfile(os.path.join(train_dir, filename)):\n",
    "        shutil.move(os.path.join(train_dir, filename), os.path.join(cats_dir, filename))\n",
    "    elif filename.startswith('dog') and os.path.isfile(os.path.join(train_dir, filename)):\n",
    "        shutil.move(os.path.join(train_dir, filename), os.path.join(dogs_dir, filename))\n",
    "\n",
    "print(\"Файлы успешно организованы!\")"
   ]
  },
  {
   "cell_type": "markdown",
   "id": "993378be-3f58-4f1b-8b87-92cdcaf36eee",
   "metadata": {},
   "source": [
    "### Блок 3: Подготовка данных с аугментацией"
   ]
  },
  {
   "cell_type": "code",
   "execution_count": 3,
   "id": "9d0958cf-4b42-4cbb-a027-d3c70de113df",
   "metadata": {},
   "outputs": [
    {
     "name": "stdout",
     "output_type": "stream",
     "text": [
      "Found 20000 images belonging to 2 classes.\n",
      "Found 5000 images belonging to 2 classes.\n"
     ]
    }
   ],
   "source": [
    "train_datagen = ImageDataGenerator(\n",
    "    rescale=1./255,\n",
    "    rotation_range=30,  # уменьшили поворот\n",
    "    width_shift_range=0.2,  # уменьшили сдвиг по ширине\n",
    "    height_shift_range=0.2,  # уменьшили сдвиг по высоте\n",
    "    shear_range=0.2,  # уменьшили сдвиг\n",
    "    zoom_range=0.2,  # уменьшили масштаб\n",
    "    horizontal_flip=True,\n",
    "    brightness_range=[0.8, 1.2],  # уменьшили изменение яркости\n",
    "    validation_split=0.2\n",
    ")\n",
    "\n",
    "train_generator = train_datagen.flow_from_directory(\n",
    "    train_dir,\n",
    "    target_size=(224, 224),\n",
    "    batch_size=32,\n",
    "    class_mode='binary',\n",
    "    subset='training'\n",
    ")\n",
    "\n",
    "validation_generator = train_datagen.flow_from_directory(\n",
    "    train_dir,\n",
    "    target_size=(224, 224),\n",
    "    batch_size=32,\n",
    "    class_mode='binary',\n",
    "    subset='validation'\n",
    ")"
   ]
  },
  {
   "cell_type": "markdown",
   "id": "63724cc2-27e3-4a2d-9295-49f38af5c9cc",
   "metadata": {},
   "source": [
    "### Блок 4: Создание и компиляция модели"
   ]
  },
  {
   "cell_type": "code",
   "execution_count": 4,
   "id": "0d4f3e29-925c-4325-861b-da2737426be6",
   "metadata": {},
   "outputs": [
    {
     "name": "stdout",
     "output_type": "stream",
     "text": [
      "Downloading data from https://storage.googleapis.com/keras-applications/efficientnetb3_notop.h5\n",
      "\u001b[1m43941136/43941136\u001b[0m \u001b[32m━━━━━━━━━━━━━━━━━━━━\u001b[0m\u001b[37m\u001b[0m \u001b[1m11s\u001b[0m 0us/step\n"
     ]
    }
   ],
   "source": [
    "base_model = EfficientNetB3(weights='imagenet', include_top=False, input_shape=(224, 224, 3))\n",
    "base_model.trainable = False  # Начинаем с замороженной модели\n",
    "\n",
    "# Построение модели\n",
    "model = Sequential([\n",
    "    base_model,\n",
    "    GlobalAveragePooling2D(),\n",
    "    BatchNormalization(),\n",
    "    Dropout(0.4),\n",
    "    Dense(128, activation='relu'),\n",
    "    BatchNormalization(),\n",
    "    Dropout(0.4),\n",
    "    Dense(1, activation='sigmoid')\n",
    "])\n",
    "\n",
    "# Начальная компиляция модели с более высокой скоростью обучения\n",
    "model.compile(optimizer=Adam(learning_rate=1e-4),  # увеличенная скорость обучения для старта\n",
    "              loss='binary_crossentropy',\n",
    "              metrics=['accuracy'])"
   ]
  },
  {
   "cell_type": "markdown",
   "id": "ca6400ac-b6e7-4d6a-a27a-83b9f9ed544b",
   "metadata": {},
   "source": [
    "### Блок 5: Настройка колбэков для ранней остановки и динамического изменения скорости обучения"
   ]
  },
  {
   "cell_type": "code",
   "execution_count": 5,
   "id": "8f983b74-79ed-40e9-ad75-e5c68087d781",
   "metadata": {},
   "outputs": [],
   "source": [
    "early_stopping = EarlyStopping(monitor='val_loss', patience=5, restore_best_weights=True)\n",
    "reduce_lr = ReduceLROnPlateau(monitor='val_loss', factor=0.2, patience=2, min_lr=1e-7)"
   ]
  },
  {
   "cell_type": "markdown",
   "id": "7f7590ab-cdf9-40a7-ba2a-e14623f9bd54",
   "metadata": {},
   "source": [
    "### Блок 6: Начальное обучение модели"
   ]
  },
  {
   "cell_type": "code",
   "execution_count": 6,
   "id": "bae4df57-4bb2-4564-a25c-5107ebc8fe53",
   "metadata": {},
   "outputs": [
    {
     "name": "stderr",
     "output_type": "stream",
     "text": [
      "C:\\Users\\Yaros\\anaconda3\\envs\\homework_env\\lib\\site-packages\\keras\\src\\trainers\\data_adapters\\py_dataset_adapter.py:121: UserWarning: Your `PyDataset` class should call `super().__init__(**kwargs)` in its constructor. `**kwargs` can include `workers`, `use_multiprocessing`, `max_queue_size`. Do not pass these arguments to `fit()`, as they will be ignored.\n",
      "  self._warn_if_super_not_called()\n"
     ]
    },
    {
     "name": "stdout",
     "output_type": "stream",
     "text": [
      "Epoch 1/10\n",
      "\u001b[1m625/625\u001b[0m \u001b[32m━━━━━━━━━━━━━━━━━━━━\u001b[0m\u001b[37m\u001b[0m \u001b[1m559s\u001b[0m 880ms/step - accuracy: 0.5281 - loss: 0.8890 - val_accuracy: 0.5092 - val_loss: 0.8262 - learning_rate: 1.0000e-04\n",
      "Epoch 2/10\n",
      "\u001b[1m625/625\u001b[0m \u001b[32m━━━━━━━━━━━━━━━━━━━━\u001b[0m\u001b[37m\u001b[0m \u001b[1m529s\u001b[0m 847ms/step - accuracy: 0.5381 - loss: 0.8044 - val_accuracy: 0.5388 - val_loss: 0.7692 - learning_rate: 1.0000e-04\n",
      "Epoch 3/10\n",
      "\u001b[1m625/625\u001b[0m \u001b[32m━━━━━━━━━━━━━━━━━━━━\u001b[0m\u001b[37m\u001b[0m \u001b[1m527s\u001b[0m 843ms/step - accuracy: 0.5417 - loss: 0.7788 - val_accuracy: 0.5640 - val_loss: 0.7254 - learning_rate: 1.0000e-04\n",
      "Epoch 4/10\n",
      "\u001b[1m625/625\u001b[0m \u001b[32m━━━━━━━━━━━━━━━━━━━━\u001b[0m\u001b[37m\u001b[0m \u001b[1m529s\u001b[0m 846ms/step - accuracy: 0.5456 - loss: 0.7593 - val_accuracy: 0.5514 - val_loss: 0.7195 - learning_rate: 1.0000e-04\n",
      "Epoch 5/10\n",
      "\u001b[1m625/625\u001b[0m \u001b[32m━━━━━━━━━━━━━━━━━━━━\u001b[0m\u001b[37m\u001b[0m \u001b[1m527s\u001b[0m 843ms/step - accuracy: 0.5448 - loss: 0.7457 - val_accuracy: 0.5672 - val_loss: 0.6976 - learning_rate: 1.0000e-04\n",
      "Epoch 6/10\n",
      "\u001b[1m625/625\u001b[0m \u001b[32m━━━━━━━━━━━━━━━━━━━━\u001b[0m\u001b[37m\u001b[0m \u001b[1m529s\u001b[0m 846ms/step - accuracy: 0.5462 - loss: 0.7375 - val_accuracy: 0.5670 - val_loss: 0.6963 - learning_rate: 1.0000e-04\n",
      "Epoch 7/10\n",
      "\u001b[1m625/625\u001b[0m \u001b[32m━━━━━━━━━━━━━━━━━━━━\u001b[0m\u001b[37m\u001b[0m \u001b[1m527s\u001b[0m 844ms/step - accuracy: 0.5434 - loss: 0.7271 - val_accuracy: 0.5804 - val_loss: 0.6885 - learning_rate: 1.0000e-04\n",
      "Epoch 8/10\n",
      "\u001b[1m625/625\u001b[0m \u001b[32m━━━━━━━━━━━━━━━━━━━━\u001b[0m\u001b[37m\u001b[0m \u001b[1m532s\u001b[0m 852ms/step - accuracy: 0.5429 - loss: 0.7214 - val_accuracy: 0.5630 - val_loss: 0.6898 - learning_rate: 1.0000e-04\n",
      "Epoch 9/10\n",
      "\u001b[1m625/625\u001b[0m \u001b[32m━━━━━━━━━━━━━━━━━━━━\u001b[0m\u001b[37m\u001b[0m \u001b[1m528s\u001b[0m 845ms/step - accuracy: 0.5556 - loss: 0.7108 - val_accuracy: 0.5682 - val_loss: 0.6883 - learning_rate: 1.0000e-04\n",
      "Epoch 10/10\n",
      "\u001b[1m625/625\u001b[0m \u001b[32m━━━━━━━━━━━━━━━━━━━━\u001b[0m\u001b[37m\u001b[0m \u001b[1m527s\u001b[0m 844ms/step - accuracy: 0.5549 - loss: 0.7034 - val_accuracy: 0.5682 - val_loss: 0.6865 - learning_rate: 1.0000e-04\n"
     ]
    }
   ],
   "source": [
    "history = model.fit(\n",
    "    train_generator,\n",
    "    validation_data=validation_generator,\n",
    "    epochs=10,  # Сначала обучим на 10 эпох с замороженной базовой моделью\n",
    "    callbacks=[early_stopping, reduce_lr]\n",
    ")\n",
    "\n",
    "# Разморозка верхних слоев для дообучения модели\n",
    "base_model.trainable = True\n",
    "for layer in base_model.layers[:int(len(base_model.layers) * 0.5)]:  # Размораживаем 50% верхних слоёв\n",
    "    layer.trainable = False\n",
    "\n",
    "# Понижаем скорость обучения для более точного дообучения\n",
    "model.compile(optimizer=Adam(learning_rate=1e-5),\n",
    "              loss='binary_crossentropy',\n",
    "              metrics=['accuracy'])"
   ]
  },
  {
   "cell_type": "markdown",
   "id": "5750aa03-e741-4123-93fd-c4c95f9f80f8",
   "metadata": {},
   "source": [
    "### Блок 7: Продолжение обучения модели с размороженными слоями"
   ]
  },
  {
   "cell_type": "code",
   "execution_count": 7,
   "id": "3a2cfe40-efb5-40cd-bd4b-2df6c60920d6",
   "metadata": {},
   "outputs": [
    {
     "name": "stdout",
     "output_type": "stream",
     "text": [
      "Epoch 11/20\n",
      "\u001b[1m625/625\u001b[0m \u001b[32m━━━━━━━━━━━━━━━━━━━━\u001b[0m\u001b[37m\u001b[0m \u001b[1m909s\u001b[0m 1s/step - accuracy: 0.5348 - loss: 0.7231 - val_accuracy: 0.6062 - val_loss: 0.6626 - learning_rate: 1.0000e-05\n",
      "Epoch 12/20\n",
      "\u001b[1m625/625\u001b[0m \u001b[32m━━━━━━━━━━━━━━━━━━━━\u001b[0m\u001b[37m\u001b[0m \u001b[1m872s\u001b[0m 1s/step - accuracy: 0.5454 - loss: 0.7073 - val_accuracy: 0.6244 - val_loss: 0.6491 - learning_rate: 1.0000e-05\n",
      "Epoch 13/20\n",
      "\u001b[1m625/625\u001b[0m \u001b[32m━━━━━━━━━━━━━━━━━━━━\u001b[0m\u001b[37m\u001b[0m \u001b[1m880s\u001b[0m 1s/step - accuracy: 0.5700 - loss: 0.6943 - val_accuracy: 0.6410 - val_loss: 0.6338 - learning_rate: 1.0000e-05\n",
      "Epoch 14/20\n",
      "\u001b[1m625/625\u001b[0m \u001b[32m━━━━━━━━━━━━━━━━━━━━\u001b[0m\u001b[37m\u001b[0m \u001b[1m881s\u001b[0m 1s/step - accuracy: 0.5789 - loss: 0.6853 - val_accuracy: 0.6596 - val_loss: 0.6217 - learning_rate: 1.0000e-05\n",
      "Epoch 15/20\n",
      "\u001b[1m625/625\u001b[0m \u001b[32m━━━━━━━━━━━━━━━━━━━━\u001b[0m\u001b[37m\u001b[0m \u001b[1m882s\u001b[0m 1s/step - accuracy: 0.5838 - loss: 0.6858 - val_accuracy: 0.6608 - val_loss: 0.6129 - learning_rate: 1.0000e-05\n",
      "Epoch 16/20\n",
      "\u001b[1m625/625\u001b[0m \u001b[32m━━━━━━━━━━━━━━━━━━━━\u001b[0m\u001b[37m\u001b[0m \u001b[1m876s\u001b[0m 1s/step - accuracy: 0.5989 - loss: 0.6742 - val_accuracy: 0.6666 - val_loss: 0.6068 - learning_rate: 1.0000e-05\n",
      "Epoch 17/20\n",
      "\u001b[1m625/625\u001b[0m \u001b[32m━━━━━━━━━━━━━━━━━━━━\u001b[0m\u001b[37m\u001b[0m \u001b[1m876s\u001b[0m 1s/step - accuracy: 0.6086 - loss: 0.6637 - val_accuracy: 0.6348 - val_loss: 0.6413 - learning_rate: 1.0000e-05\n",
      "Epoch 18/20\n",
      "\u001b[1m625/625\u001b[0m \u001b[32m━━━━━━━━━━━━━━━━━━━━\u001b[0m\u001b[37m\u001b[0m \u001b[1m878s\u001b[0m 1s/step - accuracy: 0.6220 - loss: 0.6499 - val_accuracy: 0.6844 - val_loss: 0.5890 - learning_rate: 1.0000e-05\n",
      "Epoch 19/20\n",
      "\u001b[1m625/625\u001b[0m \u001b[32m━━━━━━━━━━━━━━━━━━━━\u001b[0m\u001b[37m\u001b[0m \u001b[1m14669s\u001b[0m 24s/step - accuracy: 0.6278 - loss: 0.6485 - val_accuracy: 0.6830 - val_loss: 0.5939 - learning_rate: 1.0000e-05\n",
      "Epoch 20/20\n",
      "\u001b[1m625/625\u001b[0m \u001b[32m━━━━━━━━━━━━━━━━━━━━\u001b[0m\u001b[37m\u001b[0m \u001b[1m921s\u001b[0m 1s/step - accuracy: 0.6302 - loss: 0.6403 - val_accuracy: 0.6298 - val_loss: 0.6738 - learning_rate: 1.0000e-05\n"
     ]
    }
   ],
   "source": [
    "history_fine_tune = model.fit(\n",
    "    train_generator,\n",
    "    validation_data=validation_generator,\n",
    "    epochs=20,  # дополнительно дообучаем до 20 эпох\n",
    "    initial_epoch=10,  # продолжаем после 10 эпох\n",
    "    callbacks=[early_stopping, reduce_lr]\n",
    ")"
   ]
  },
  {
   "cell_type": "markdown",
   "id": "11d9c3be-472f-4af3-986c-55debb76a6f5",
   "metadata": {},
   "source": [
    "Столкнулся с проблемой - идёт очень медленный прогресс обучения. Предполагаю, что модель предобучается и медленно адаптируется к данным. Внесём корректировки. "
   ]
  },
  {
   "cell_type": "code",
   "execution_count": 9,
   "id": "91766082-489b-4ea6-9eab-208ae9307bdd",
   "metadata": {},
   "outputs": [
    {
     "name": "stdout",
     "output_type": "stream",
     "text": [
      "Epoch 21/40\n",
      "\u001b[1m625/625\u001b[0m \u001b[32m━━━━━━━━━━━━━━━━━━━━\u001b[0m\u001b[37m\u001b[0m \u001b[1m943s\u001b[0m 1s/step - accuracy: 0.6018 - loss: 0.7956 - val_accuracy: 0.6544 - val_loss: 0.7108 - learning_rate: 5.0000e-05\n",
      "Epoch 22/40\n",
      "\u001b[1m625/625\u001b[0m \u001b[32m━━━━━━━━━━━━━━━━━━━━\u001b[0m\u001b[37m\u001b[0m \u001b[1m910s\u001b[0m 1s/step - accuracy: 0.6146 - loss: 0.7527 - val_accuracy: 0.7228 - val_loss: 0.5914 - learning_rate: 5.0000e-05\n",
      "Epoch 23/40\n",
      "\u001b[1m625/625\u001b[0m \u001b[32m━━━━━━━━━━━━━━━━━━━━\u001b[0m\u001b[37m\u001b[0m \u001b[1m960s\u001b[0m 2s/step - accuracy: 0.6351 - loss: 0.7017 - val_accuracy: 0.7092 - val_loss: 0.6275 - learning_rate: 5.0000e-05\n",
      "Epoch 24/40\n",
      "\u001b[1m625/625\u001b[0m \u001b[32m━━━━━━━━━━━━━━━━━━━━\u001b[0m\u001b[37m\u001b[0m \u001b[1m916s\u001b[0m 1s/step - accuracy: 0.6602 - loss: 0.6707 - val_accuracy: 0.7396 - val_loss: 0.5579 - learning_rate: 5.0000e-05\n",
      "Epoch 25/40\n",
      "\u001b[1m625/625\u001b[0m \u001b[32m━━━━━━━━━━━━━━━━━━━━\u001b[0m\u001b[37m\u001b[0m \u001b[1m903s\u001b[0m 1s/step - accuracy: 0.6768 - loss: 0.6332 - val_accuracy: 0.7508 - val_loss: 0.5347 - learning_rate: 5.0000e-05\n",
      "Epoch 26/40\n",
      "\u001b[1m625/625\u001b[0m \u001b[32m━━━━━━━━━━━━━━━━━━━━\u001b[0m\u001b[37m\u001b[0m \u001b[1m899s\u001b[0m 1s/step - accuracy: 0.7080 - loss: 0.5927 - val_accuracy: 0.7652 - val_loss: 0.5224 - learning_rate: 5.0000e-05\n",
      "Epoch 27/40\n",
      "\u001b[1m625/625\u001b[0m \u001b[32m━━━━━━━━━━━━━━━━━━━━\u001b[0m\u001b[37m\u001b[0m \u001b[1m903s\u001b[0m 1s/step - accuracy: 0.7255 - loss: 0.5612 - val_accuracy: 0.7324 - val_loss: 0.5677 - learning_rate: 5.0000e-05\n",
      "Epoch 28/40\n",
      "\u001b[1m625/625\u001b[0m \u001b[32m━━━━━━━━━━━━━━━━━━━━\u001b[0m\u001b[37m\u001b[0m \u001b[1m899s\u001b[0m 1s/step - accuracy: 0.7404 - loss: 0.5377 - val_accuracy: 0.7904 - val_loss: 0.4642 - learning_rate: 5.0000e-05\n",
      "Epoch 29/40\n",
      "\u001b[1m625/625\u001b[0m \u001b[32m━━━━━━━━━━━━━━━━━━━━\u001b[0m\u001b[37m\u001b[0m \u001b[1m892s\u001b[0m 1s/step - accuracy: 0.7570 - loss: 0.5137 - val_accuracy: 0.7726 - val_loss: 0.4833 - learning_rate: 5.0000e-05\n",
      "Epoch 30/40\n",
      "\u001b[1m625/625\u001b[0m \u001b[32m━━━━━━━━━━━━━━━━━━━━\u001b[0m\u001b[37m\u001b[0m \u001b[1m891s\u001b[0m 1s/step - accuracy: 0.7672 - loss: 0.4957 - val_accuracy: 0.8144 - val_loss: 0.4349 - learning_rate: 5.0000e-05\n",
      "Epoch 31/40\n",
      "\u001b[1m625/625\u001b[0m \u001b[32m━━━━━━━━━━━━━━━━━━━━\u001b[0m\u001b[37m\u001b[0m \u001b[1m896s\u001b[0m 1s/step - accuracy: 0.7710 - loss: 0.4894 - val_accuracy: 0.7736 - val_loss: 0.4960 - learning_rate: 5.0000e-05\n",
      "Epoch 32/40\n",
      "\u001b[1m625/625\u001b[0m \u001b[32m━━━━━━━━━━━━━━━━━━━━\u001b[0m\u001b[37m\u001b[0m \u001b[1m898s\u001b[0m 1s/step - accuracy: 0.7888 - loss: 0.4630 - val_accuracy: 0.8108 - val_loss: 0.4284 - learning_rate: 5.0000e-05\n",
      "Epoch 33/40\n",
      "\u001b[1m625/625\u001b[0m \u001b[32m━━━━━━━━━━━━━━━━━━━━\u001b[0m\u001b[37m\u001b[0m \u001b[1m894s\u001b[0m 1s/step - accuracy: 0.7948 - loss: 0.4543 - val_accuracy: 0.8298 - val_loss: 0.3838 - learning_rate: 5.0000e-05\n",
      "Epoch 34/40\n",
      "\u001b[1m625/625\u001b[0m \u001b[32m━━━━━━━━━━━━━━━━━━━━\u001b[0m\u001b[37m\u001b[0m \u001b[1m900s\u001b[0m 1s/step - accuracy: 0.8103 - loss: 0.4319 - val_accuracy: 0.8356 - val_loss: 0.3781 - learning_rate: 5.0000e-05\n",
      "Epoch 35/40\n",
      "\u001b[1m625/625\u001b[0m \u001b[32m━━━━━━━━━━━━━━━━━━━━\u001b[0m\u001b[37m\u001b[0m \u001b[1m897s\u001b[0m 1s/step - accuracy: 0.8148 - loss: 0.4211 - val_accuracy: 0.8448 - val_loss: 0.3624 - learning_rate: 5.0000e-05\n",
      "Epoch 36/40\n",
      "\u001b[1m625/625\u001b[0m \u001b[32m━━━━━━━━━━━━━━━━━━━━\u001b[0m\u001b[37m\u001b[0m \u001b[1m921s\u001b[0m 1s/step - accuracy: 0.8163 - loss: 0.4107 - val_accuracy: 0.8402 - val_loss: 0.3684 - learning_rate: 5.0000e-05\n",
      "Epoch 37/40\n",
      "\u001b[1m625/625\u001b[0m \u001b[32m━━━━━━━━━━━━━━━━━━━━\u001b[0m\u001b[37m\u001b[0m \u001b[1m929s\u001b[0m 1s/step - accuracy: 0.8207 - loss: 0.4056 - val_accuracy: 0.8480 - val_loss: 0.3595 - learning_rate: 5.0000e-05\n",
      "Epoch 38/40\n",
      "\u001b[1m625/625\u001b[0m \u001b[32m━━━━━━━━━━━━━━━━━━━━\u001b[0m\u001b[37m\u001b[0m \u001b[1m1000s\u001b[0m 2s/step - accuracy: 0.8258 - loss: 0.3947 - val_accuracy: 0.8606 - val_loss: 0.3325 - learning_rate: 5.0000e-05\n",
      "Epoch 39/40\n",
      "\u001b[1m625/625\u001b[0m \u001b[32m━━━━━━━━━━━━━━━━━━━━\u001b[0m\u001b[37m\u001b[0m \u001b[1m915s\u001b[0m 1s/step - accuracy: 0.8392 - loss: 0.3750 - val_accuracy: 0.8718 - val_loss: 0.3105 - learning_rate: 5.0000e-05\n",
      "Epoch 40/40\n",
      "\u001b[1m625/625\u001b[0m \u001b[32m━━━━━━━━━━━━━━━━━━━━\u001b[0m\u001b[37m\u001b[0m \u001b[1m903s\u001b[0m 1s/step - accuracy: 0.8397 - loss: 0.3756 - val_accuracy: 0.8732 - val_loss: 0.3085 - learning_rate: 5.0000e-05\n"
     ]
    }
   ],
   "source": [
    "# Разморозка слоёв для дообучения модели, без пересоздания объекта model\n",
    "base_model.trainable = True\n",
    "for layer in base_model.layers[:int(len(base_model.layers) * 0.5)]:  # Размораживаем только 50% верхних слоёв\n",
    "    layer.trainable = False\n",
    "\n",
    "# Перекомпилируем модель с сохранёнными весами\n",
    "model.compile(optimizer=Adam(learning_rate=5e-5),  # сниженная скорость обучения для точного дообучения\n",
    "              loss='binary_crossentropy',\n",
    "              metrics=['accuracy'])\n",
    "\n",
    "# Колбэки остаются неизменными\n",
    "early_stopping = EarlyStopping(monitor='val_loss', patience=3, restore_best_weights=True)\n",
    "reduce_lr = ReduceLROnPlateau(monitor='val_loss', factor=0.5, patience=3, min_lr=1e-7)\n",
    "\n",
    "# Продолжение обучения с сохранёнными весами\n",
    "history_fine_tune = model.fit(\n",
    "    train_generator,\n",
    "    Epoch 21/40\n",
    "625/625 ━━━━━━━━━━━━━━━━━━━━ 943s 1s/step - accuracy: 0.6018 - loss: 0.7956 - val_accuracy: 0.6544 - val_loss: 0.7108 - learning_rate: 5.0000e-05\n",
    "Epoch 22/40\n",
    "625/625 ━━━━━━━━━━━━━━━━━━━━ 910s 1s/step - accuracy: 0.6146 - loss: 0.7527 - val_accuracy: 0.7228 - val_loss: 0.5914 - learning_rate: 5.0000e-05\n",
    "Epoch 23/40\n",
    "625/625 ━━━━━━━━━━━━━━━━━━━━ 960s 2s/step - accuracy: 0.6351 - loss: 0.7017 - val_accuracy: 0.7092 - val_loss: 0.6275 - learning_rate: 5.0000e-05\n",
    "Epoch 24/40\n",
    "625/625 ━━━━━━━━━━━━━━━━━━━━ 916s 1s/step - accuracy: 0.6602 - loss: 0.6707 - val_accuracy: 0.7396 - val_loss: 0.5579 - learning_rate: 5.0000e-05\n",
    "Epoch 25/40\n",
    "625/625 ━━━━━━━━━━━━━━━━━━━━ 903s 1s/step - accuracy: 0.6768 - loss: 0.6332 - val_accuracy: 0.7508 - val_loss: 0.5347 - learning_rate: 5.0000e-05\n",
    "Epoch 26/40\n",
    "625/625 ━━━━━━━━━━━━━━━━━━━━ 899s 1s/step - accuracy: 0.7080 - loss: 0.5927 - val_accuracy: 0.7652 - val_loss: 0.5224 - learning_rate: 5.0000e-05\n",
    "Epoch 27/40\n",
    "625/625 ━━━━━━━━━━━━━━━━━━━━ 903s 1s/step - accuracy: 0.7255 - loss: 0.5612 - val_accuracy: 0.7324 - val_loss: 0.5677 - learning_rate: 5.0000e-05\n",
    "Epoch 28/40\n",
    "625/625 ━━━━━━━━━━━━━━━━━━━━ 899s 1s/step - accuracy: 0.7404 - loss: 0.5377 - val_accuracy: 0.7904 - val_loss: 0.4642 - learning_rate: 5.0000e-05\n",
    "Epoch 29/40\n",
    "625/625 ━━━━━━━━━━━━━━━━━━━━ 892s 1s/step - accuracy: 0.7570 - loss: 0.5137 - val_accuracy: 0.7726 - val_loss: 0.4833 - learning_rate: 5.0000e-05\n",
    "Epoch 30/40\n",
    "625/625 ━━━━━━━━━━━━━━━━━━━━ 891s 1s/step - accuracy: 0.7672 - loss: 0.4957 - val_accuracy: 0.8144 - val_loss: 0.4349 - learning_rate: 5.0000e-05\n",
    "Epoch 31/40\n",
    "625/625 ━━━━━━━━━━━━━━━━━━━━ 896s 1s/step - accuracy: 0.7710 - loss: 0.4894 - val_accuracy: 0.7736 - val_loss: 0.4960 - learning_rate: 5.0000e-05\n",
    "Epoch 32/40\n",
    "625/625 ━━━━━━━━━━━━━━━━━━━━ 898s 1s/step - accuracy: 0.7888 - loss: 0.4630 - val_accuracy: 0.8108 - val_loss: 0.4284 - learning_rate: 5.0000e-05\n",
    "Epoch 33/40\n",
    "625/625 ━━━━━━━━━━━━━━━━━━━━ 894s 1s/step - accuracy: 0.7948 - loss: 0.4543 - val_accuracy: 0.8298 - val_loss: 0.3838 - learning_rate: 5.0000e-05\n",
    "Epoch 34/40\n",
    "625/625 ━━━━━━━━━━━━━━━━━━━━ 900s 1s/step - accuracy: 0.8103 - loss: 0.4319 - val_accuracy: 0.8356 - val_loss: 0.3781 - learning_rate: 5.0000e-05\n",
    "Epoch 35/40\n",
    "625/625 ━━━━━━━━━━━━━━━━━━━━ 897s 1s/step - accuracy: 0.8148 - loss: 0.4211 - val_accuracy: 0.8448 - val_loss: 0.3624 - learning_rate: 5.0000e-05\n",
    "Epoch 36/40\n",
    "625/625 ━━━━━━━━━━━━━━━━━━━━ 921s 1s/step - accuracy: 0.8163 - loss: 0.4107 - val_accuracy: 0.8402 - val_loss: 0.3684 - learning_rate: 5.0000e-05\n",
    "Epoch 37/40\n",
    "625/625 ━━━━━━━━━━━━━━━━━━━━ 929s 1s/step - accuracy: 0.8207 - loss: 0.4056 - val_accuracy: 0.8480 - val_loss: 0.3595 - learning_rate: 5.0000e-05\n",
    "Epoch 38/40\n",
    "625/625 ━━━━━━━━━━━━━━━━━━━━ 1000s 2s/step - accuracy: 0.8258 - loss: 0.3947 - val_accuracy: 0.8606 - val_loss: 0.3325 - learning_rate: 5.0000e-05\n",
    "Epoch 39/40\n",
    "625/625 ━━━━━━━━━━━━━━━━━━━━ 915s 1s/step - accuracy: 0.8392 - loss: 0.3750 - val_accuracy: 0.8718 - val_loss: 0.3105 - learning_rate: 5.0000e-05\n",
    "Epoch 40/40\n",
    "625/625 ━━━━━━━━━━━━━━━━━━━━ 903s 1s/step - accuracy: 0.8397 - loss: 0.3756 - val_accuracy: 0.8732 - val_loss: 0.3085 - learning_rate: 5.0000e-05validation_data=validation_generator,\n",
    "    epochs=40,       # конечная эпоха дообучения\n",
    "    initial_epoch=20,  # начинаем с 21-й эпохи\n",
    "    callbacks=[early_stopping, reduce_lr]\n",
    ")"
   ]
  },
  {
   "cell_type": "markdown",
   "id": "6f9b45db-50e7-4139-b5a8-892fe652213c",
   "metadata": {},
   "source": [
    "Попробуем дообучить модель, минимизируя риск ухадшения качества "
   ]
  },
  {
   "cell_type": "code",
   "execution_count": 10,
   "id": "6e715415-0bdd-45cf-b594-97b39b3b3034",
   "metadata": {},
   "outputs": [
    {
     "name": "stdout",
     "output_type": "stream",
     "text": [
      "Epoch 41/60\n",
      "\u001b[1m625/625\u001b[0m \u001b[32m━━━━━━━━━━━━━━━━━━━━\u001b[0m\u001b[37m\u001b[0m \u001b[1m819s\u001b[0m 1s/step - accuracy: 0.8477 - loss: 0.3557 - val_accuracy: 0.8712 - val_loss: 0.3122 - learning_rate: 1.0000e-05\n",
      "Epoch 42/60\n",
      "\u001b[1m625/625\u001b[0m \u001b[32m━━━━━━━━━━━━━━━━━━━━\u001b[0m\u001b[37m\u001b[0m \u001b[1m794s\u001b[0m 1s/step - accuracy: 0.8510 - loss: 0.3517 - val_accuracy: 0.8752 - val_loss: 0.2965 - learning_rate: 1.0000e-05\n",
      "Epoch 43/60\n",
      "\u001b[1m625/625\u001b[0m \u001b[32m━━━━━━━━━━━━━━━━━━━━\u001b[0m\u001b[37m\u001b[0m \u001b[1m820s\u001b[0m 1s/step - accuracy: 0.8608 - loss: 0.3381 - val_accuracy: 0.8820 - val_loss: 0.2939 - learning_rate: 1.0000e-05\n",
      "Epoch 44/60\n",
      "\u001b[1m625/625\u001b[0m \u001b[32m━━━━━━━━━━━━━━━━━━━━\u001b[0m\u001b[37m\u001b[0m \u001b[1m802s\u001b[0m 1s/step - accuracy: 0.8508 - loss: 0.3457 - val_accuracy: 0.8812 - val_loss: 0.2925 - learning_rate: 1.0000e-05\n",
      "Epoch 45/60\n",
      "\u001b[1m625/625\u001b[0m \u001b[32m━━━━━━━━━━━━━━━━━━━━\u001b[0m\u001b[37m\u001b[0m \u001b[1m794s\u001b[0m 1s/step - accuracy: 0.8615 - loss: 0.3326 - val_accuracy: 0.8736 - val_loss: 0.3031 - learning_rate: 1.0000e-05\n",
      "Epoch 46/60\n",
      "\u001b[1m625/625\u001b[0m \u001b[32m━━━━━━━━━━━━━━━━━━━━\u001b[0m\u001b[37m\u001b[0m \u001b[1m841s\u001b[0m 1s/step - accuracy: 0.8552 - loss: 0.3387 - val_accuracy: 0.8796 - val_loss: 0.2897 - learning_rate: 1.0000e-05\n",
      "Epoch 47/60\n",
      "\u001b[1m625/625\u001b[0m \u001b[32m━━━━━━━━━━━━━━━━━━━━\u001b[0m\u001b[37m\u001b[0m \u001b[1m795s\u001b[0m 1s/step - accuracy: 0.8555 - loss: 0.3399 - val_accuracy: 0.8746 - val_loss: 0.3057 - learning_rate: 1.0000e-05\n",
      "Epoch 48/60\n",
      "\u001b[1m625/625\u001b[0m \u001b[32m━━━━━━━━━━━━━━━━━━━━\u001b[0m\u001b[37m\u001b[0m \u001b[1m794s\u001b[0m 1s/step - accuracy: 0.8588 - loss: 0.3318 - val_accuracy: 0.8758 - val_loss: 0.2949 - learning_rate: 1.0000e-05\n",
      "Epoch 49/60\n",
      "\u001b[1m625/625\u001b[0m \u001b[32m━━━━━━━━━━━━━━━━━━━━\u001b[0m\u001b[37m\u001b[0m \u001b[1m796s\u001b[0m 1s/step - accuracy: 0.8574 - loss: 0.3355 - val_accuracy: 0.8780 - val_loss: 0.2952 - learning_rate: 1.0000e-05\n"
     ]
    }
   ],
   "source": [
    "# Разморозка дополнительных слоёв (до 60%) для более глубокой адаптации\n",
    "for layer in base_model.layers[:int(len(base_model.layers) * 0.6)]:\n",
    "    layer.trainable = False\n",
    "\n",
    "# Перекомпилируем модель с более низкой скоростью обучения и усиленной регуляризацией\n",
    "model.compile(optimizer=Adam(learning_rate=1e-5),  # Ещё более низкая скорость обучения\n",
    "              loss='binary_crossentropy',\n",
    "              metrics=['accuracy'])\n",
    "\n",
    "# Обновляем колбэки\n",
    "early_stopping = EarlyStopping(monitor='val_loss', patience=3, restore_best_weights=True)\n",
    "reduce_lr = ReduceLROnPlateau(monitor='val_loss', factor=0.5, patience=3, min_lr=1e-7)\n",
    "\n",
    "# Продолжение дообучения с существующими весами\n",
    "history_fine_tune_more = model.fit(\n",
    "    train_generator,\n",
    "    validation_data=validation_generator,\n",
    "    epochs=60,        # Увеличение количества эпох\n",
    "    initial_epoch=40,  # Начинаем с 41-й эпохи\n",
    "    callbacks=[early_stopping, reduce_lr]\n",
    ")"
   ]
  },
  {
   "cell_type": "markdown",
   "id": "fd090e3b-f00a-407c-ab9f-3be3610a6805",
   "metadata": {},
   "source": [
    "### Блок 8: Визуализация процесса обучения"
   ]
  },
  {
   "cell_type": "code",
   "execution_count": 11,
   "id": "83543440-1ece-484f-91e3-a60f962bf0b9",
   "metadata": {},
   "outputs": [
    {
     "data": {
      "image/png": "[encoded data removed]",
      "text/plain": [
       "<Figure size 1400x500 with 2 Axes>"
      ]
     },
     "metadata": {},
     "output_type": "display_data"
    }
   ],
   "source": [
    "plt.figure(figsize=(14, 5))\n",
    "\n",
    "# Потери\n",
    "plt.subplot(1, 2, 1)\n",
    "plt.plot(history.history['loss'] + history_fine_tune.history['loss'], label='Train Loss')\n",
    "plt.plot(history.history['val_loss'] + history_fine_tune.history['val_loss'], label='Validation Loss')\n",
    "plt.xlabel('Epochs')\n",
    "plt.ylabel('Loss')\n",
    "plt.title('Training and Validation Loss')\n",
    "plt.legend()\n",
    "\n",
    "# Точность\n",
    "plt.subplot(1, 2, 2)\n",
    "plt.plot(history.history['accuracy'] + history_fine_tune.history['accuracy'], label='Train Accuracy')\n",
    "plt.plot(history.history['val_accuracy'] + history_fine_tune.history['val_accuracy'], label='Validation Accuracy')\n",
    "plt.xlabel('Epochs')\n",
    "plt.ylabel('Accuracy')\n",
    "plt.title('Training and Validation Accuracy')\n",
    "plt.legend()\n",
    "\n",
    "plt.show()"
   ]
  },
  {
   "cell_type": "markdown",
   "id": "e72f8beb-d380-4a95-8539-0b0802a72a9d",
   "metadata": {},
   "source": [
    "### Блок 9: Загрузка и предсказание для тестовых данных"
   ]
  },
  {
   "cell_type": "code",
   "execution_count": 19,
   "id": "eb5ab202-446b-42cc-ab0c-d50c97ba2eab",
   "metadata": {},
   "outputs": [
    {
     "name": "stdout",
     "output_type": "stream",
     "text": [
      "Shape of the batch: (32, 224, 224, 3)\n"
     ]
    }
   ],
   "source": [
    "# Проверка первых нескольких батчей данных, чтобы убедиться, что структура правильная\n",
    "for batch in test_generator:\n",
    "    print(\"Shape of the batch:\", batch.shape)  # Ожидается (batch_size, 224, 224, 3)\n",
    "    break"
   ]
  },
  {
   "cell_type": "code",
   "execution_count": 22,
   "id": "372d0a97-e4e9-4ee9-9294-630510f044db",
   "metadata": {},
   "outputs": [
    {
     "name": "stdout",
     "output_type": "stream",
     "text": [
      "Found 12500 validated image filenames.\n",
      "\u001b[1m49/49\u001b[0m \u001b[32m━━━━━━━━━━━━━━━━━━━━\u001b[0m\u001b[37m\u001b[0m \u001b[1m247s\u001b[0m 5s/step\n"
     ]
    }
   ],
   "source": [
    "import tensorflow as tf\n",
    "import numpy as np\n",
    "\n",
    "# Убедитесь, что GPU активен, если доступен\n",
    "physical_devices = tf.config.list_physical_devices('GPU')\n",
    "if physical_devices:\n",
    "    tf.config.experimental.set_memory_growth(physical_devices[0], True)\n",
    "\n",
    "# Подготовка тестового набора\n",
    "test_files = [f for f in os.listdir(test_dir) if f.endswith('.jpg')]\n",
    "test_df = pd.DataFrame({'filename': test_files})\n",
    "\n",
    "test_datagen = ImageDataGenerator(rescale=1./255)\n",
    "test_generator = test_datagen.flow_from_dataframe(\n",
    "    dataframe=test_df,\n",
    "    directory=test_dir,\n",
    "    x_col='filename',\n",
    "    y_col=None,\n",
    "    target_size=(224, 224),\n",
    "    batch_size=256,  # Увеличенный размер батча для ускорения\n",
    "    class_mode=\"input\",\n",
    "    shuffle=False\n",
    ")\n",
    "\n",
    "# Прогнозирование для тестового набора\n",
    "predictions = np.array(model.predict(test_generator, verbose=1)).ravel()"
   ]
  },
  {
   "cell_type": "code",
   "execution_count": 25,
   "id": "8f0e8767-a6b1-4bae-a2d0-78b548a1a2ad",
   "metadata": {},
   "outputs": [
    {
     "name": "stdout",
     "output_type": "stream",
     "text": [
      "[0.8261923  0.00163516 0.44741753 0.9579108  0.99998885 0.03243278\n",
      " 0.00809416 0.9992498  0.9916786  0.01034065]\n"
     ]
    }
   ],
   "source": [
    "print(predictions[:10]) "
   ]
  },
  {
   "cell_type": "code",
   "execution_count": 26,
   "id": "e9072efb-1af0-43bd-83cf-a0e78244bd54",
   "metadata": {},
   "outputs": [
    {
     "name": "stdout",
     "output_type": "stream",
     "text": [
      "Файл submission.csv успешно создан для отправки на Kaggle!\n"
     ]
    }
   ],
   "source": [
    "# Создание файла для отправки на Kaggle\n",
    "submission_df = pd.DataFrame({\n",
    "    'id': [int(f.split('.')[0]) for f in test_files],  # Извлекаем числовой id\n",
    "    'label': predictions  # Вероятность того, что изображение — собака\n",
    "})\n",
    "submission_df.to_csv('submission.csv', index=False)\n",
    "print(\"Файл submission.csv успешно создан для отправки на Kaggle!\")"
   ]
  },
  {
   "cell_type": "markdown",
   "id": "c1071f82-20bf-4438-b1b6-a9a81078a3c9",
   "metadata": {},
   "source": [
    "### Вывод  \n",
    "\n",
    "В рамках проекта я реализовал модель для классификации изображений кошек и собак, используя архитектуру EfficientNetB3 с аугментацией данных и обучением на нескольких этапах. После первоначального замораживания слоев и постепенного их размораживания я добился оптимального сочетания скорости и точности, что позволило модели достичь Log Loss в 0.24733 на Kaggle. Финальный результат показал, что выбранная стратегия обучения и настройки модели оказались успешными для достижения высокой точности классификации."
   ]
  }
 ],
 "metadata": {
  "kernelspec": {
   "display_name": "Python 3 (ipykernel)",
   "language": "python",
   "name": "python3"
  },
  "language_info": {
   "codemirror_mode": {
    "name": "ipython",
    "version": 3
   },
   "file_extension": ".py",
   "mimetype": "text/x-python",
   "name": "python",
   "nbconvert_exporter": "python",
   "pygments_lexer": "ipython3",
   "version": "3.9.20"
  }
 },
 "nbformat": 4,
 "nbformat_minor": 5
}
