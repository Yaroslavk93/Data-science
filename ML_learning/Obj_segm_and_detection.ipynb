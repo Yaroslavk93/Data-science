{
 "cells": [
  {
   "cell_type": "markdown",
   "id": "e77937c3-8854-4192-8d28-c7f86ef18be3",
   "metadata": {},
   "source": [
    "# Сегментация и детекция объектов"
   ]
  },
  {
   "cell_type": "markdown",
   "id": "880f2746-ffcf-4186-9585-4d45127da9b6",
   "metadata": {},
   "source": [
    "### Распознавание рукописного ввода на примере базы MNIST"
   ]
  },
  {
   "cell_type": "markdown",
   "id": "6497b967-dc17-4420-b55e-161c1a24bbba",
   "metadata": {},
   "source": [
    "1. **Загрузка данных**"
   ]
  },
  {
   "cell_type": "code",
   "execution_count": 1,
   "id": "7f416936-4525-41d2-925b-586bee8cbd77",
   "metadata": {},
   "outputs": [],
   "source": [
    "import cv2\n",
    "import numpy as np\n",
    "import matplotlib.pyplot as plt\n",
    "from sklearn.model_selection import train_test_split\n",
    "from sklearn.preprocessing import StandardScaler\n",
    "from sklearn.svm import SVC\n",
    "from sklearn.metrics import accuracy_score, classification_report, confusion_matrix"
   ]
  },
  {
   "cell_type": "code",
   "execution_count": 3,
   "id": "d4a135be-e7b6-470a-a024-3116f397fa20",
   "metadata": {},
   "outputs": [],
   "source": [
    "# Загрузка данных из файлов\n",
    "train = np.loadtxt('C:/Users/Yaros/Downloads/digit-recognizer/train.csv', delimiter=',', skiprows=1)\n",
    "test = np.loadtxt('C:/Users/Yaros/Downloads/digit-recognizer/test.csv', delimiter=',', skiprows=1)\n",
    "\n",
    "# Сохранение меток и изображений\n",
    "train_label = train[:, 0]\n",
    "train_img = np.resize(train[:, 1:], (train.shape[0], 28, 28))\n",
    "test_img = np.resize(test, (test.shape[0], 28, 28))"
   ]
  },
  {
   "cell_type": "markdown",
   "id": "0f209108-b71e-45bf-9ce9-b134320dfe5a",
   "metadata": {},
   "source": [
    "2. **Визуализация данных**"
   ]
  },
  {
   "cell_type": "code",
   "execution_count": 4,
   "id": "7644fcc5-11b5-4e9d-9167-cbb3d2487654",
   "metadata": {},
   "outputs": [
    {
     "data": {
      "image/png": "[encoded data removed]",
      "text/plain": [
       "<Figure size 2000x1000 with 5 Axes>"
      ]
     },
     "metadata": {},
     "output_type": "display_data"
    }
   ],
   "source": [
    "fig = plt.figure(figsize=(20, 10))\n",
    "for i, img in enumerate(train_img[0:5], 1):\n",
    "    subplot = fig.add_subplot(1, 7, i)\n",
    "    plt.imshow(img, cmap='gray')\n",
    "    subplot.set_title('%s' % train_label[i - 1])\n",
    "plt.show()"
   ]
  },
  {
   "cell_type": "markdown",
   "id": "93a855de-ecec-4e83-9979-7013f4ff6f31",
   "metadata": {},
   "source": [
    "3. **Извлечение признаков с использованием HOG**"
   ]
  },
  {
   "cell_type": "code",
   "execution_count": 6,
   "id": "8d05b6a4-b8c6-42f7-a062-e24e5055fc71",
   "metadata": {},
   "outputs": [],
   "source": [
    "def extract_hog_features(images):\n",
    "    hog_features = []\n",
    "    for img in images:\n",
    "        # Преобразуем изображение в формат uint8\n",
    "        img_uint8 = cv2.convertScaleAbs(img)\n",
    "        # Изменяем размер и извлекаем признаки HOG\n",
    "        features = cv2.HOGDescriptor().compute(cv2.resize(img_uint8, (64, 128)))\n",
    "        hog_features.append(features.flatten())\n",
    "    return np.array(hog_features)\n",
    "\n",
    "# Извлекаем HOG признаки из обучающих и тестовых данных\n",
    "train_features = extract_hog_features(train_img)\n",
    "test_features = extract_hog_features(test_img)\n",
    "\n",
    "# Нормализация признаков\n",
    "scaler = StandardScaler()\n",
    "train_features = scaler.fit_transform(train_features)\n",
    "test_features = scaler.transform(test_features)"
   ]
  },
  {
   "cell_type": "markdown",
   "id": "9fbc0535-ea57-438e-be21-95a51c68b1ac",
   "metadata": {},
   "source": [
    "4. **Разделение на тренировочную и валидационную выборки**"
   ]
  },
  {
   "cell_type": "code",
   "execution_count": 7,
   "id": "92033d74-94a0-40fc-afd3-ab8e3722d27b",
   "metadata": {},
   "outputs": [],
   "source": [
    "X_train, X_val, y_train, y_val = train_test_split(train_features, train_label, test_size=0.2, random_state=42)"
   ]
  },
  {
   "cell_type": "markdown",
   "id": "15591e9a-c168-4046-88e4-fd584e099ceb",
   "metadata": {},
   "source": [
    "5. **Обучение классификатора**"
   ]
  },
  {
   "cell_type": "code",
   "execution_count": 9,
   "id": "9f4c4811-3fc4-41c6-830d-af5d8756f081",
   "metadata": {},
   "outputs": [
    {
     "name": "stdout",
     "output_type": "stream",
     "text": [
      "Accuracy на валидационной выборке: 0.9860714285714286\n",
      "              precision    recall  f1-score   support\n",
      "\n",
      "         0.0       1.00      1.00      1.00       816\n",
      "         1.0       0.98      0.99      0.99       909\n",
      "         2.0       0.99      0.98      0.98       846\n",
      "         3.0       0.98      0.98      0.98       937\n",
      "         4.0       0.99      0.98      0.98       839\n",
      "         5.0       0.99      0.98      0.98       702\n",
      "         6.0       0.99      0.99      0.99       785\n",
      "         7.0       0.99      0.98      0.98       893\n",
      "         8.0       0.98      0.99      0.99       835\n",
      "         9.0       0.98      0.98      0.98       838\n",
      "\n",
      "    accuracy                           0.99      8400\n",
      "   macro avg       0.99      0.99      0.99      8400\n",
      "weighted avg       0.99      0.99      0.99      8400\n",
      "\n"
     ]
    }
   ],
   "source": [
    "# Используем метод опорных векторов (SVM) для классификации\n",
    "svm_model = SVC(kernel='linear', C=1.0, random_state=42)\n",
    "svm_model.fit(X_train, y_train)\n",
    "\n",
    "# Предсказание и оценка модели\n",
    "y_pred = svm_model.predict(X_val)\n",
    "accuracy = accuracy_score(y_val, y_pred)\n",
    "print(f\"Accuracy на валидационной выборке: {accuracy}\")\n",
    "print(classification_report(y_val, y_pred))"
   ]
  },
  {
   "cell_type": "markdown",
   "id": "3dbdae2d-23da-49cd-90c5-5ec50038a4f7",
   "metadata": {},
   "source": [
    "6. **Альтернативный подход с классификацией ближайшего соседа (KNN)**"
   ]
  },
  {
   "cell_type": "code",
   "execution_count": 10,
   "id": "e2d51f9b-9930-41e9-bd8a-595d35416926",
   "metadata": {},
   "outputs": [
    {
     "name": "stdout",
     "output_type": "stream",
     "text": [
      "Accuracy (KNN) на валидационной выборке: 0.9625\n",
      "              precision    recall  f1-score   support\n",
      "\n",
      "         0.0       0.93      0.99      0.96       816\n",
      "         1.0       0.95      0.99      0.97       909\n",
      "         2.0       0.99      0.95      0.97       846\n",
      "         3.0       0.98      0.95      0.96       937\n",
      "         4.0       0.97      0.95      0.96       839\n",
      "         5.0       0.98      0.93      0.96       702\n",
      "         6.0       0.95      0.98      0.97       785\n",
      "         7.0       0.98      0.95      0.97       893\n",
      "         8.0       0.96      0.96      0.96       835\n",
      "         9.0       0.93      0.97      0.95       838\n",
      "\n",
      "    accuracy                           0.96      8400\n",
      "   macro avg       0.96      0.96      0.96      8400\n",
      "weighted avg       0.96      0.96      0.96      8400\n",
      "\n"
     ]
    }
   ],
   "source": [
    "from sklearn.neighbors import KNeighborsClassifier\n",
    "\n",
    "# Классификатор ближайших соседей\n",
    "knn = KNeighborsClassifier(n_neighbors=3)\n",
    "knn.fit(X_train, y_train)\n",
    "\n",
    "# Предсказание и оценка модели\n",
    "y_pred_knn = knn.predict(X_val)\n",
    "accuracy_knn = accuracy_score(y_val, y_pred_knn)\n",
    "print(f\"Accuracy (KNN) на валидационной выборке: {accuracy_knn}\")\n",
    "print(classification_report(y_val, y_pred_knn))"
   ]
  },
  {
   "cell_type": "markdown",
   "id": "644b63be-a611-4a89-bc04-8046c2fbe88b",
   "metadata": {},
   "source": [
    "7. **Предсказание на тестовых данных и подготовка для отправки на Kaggle**"
   ]
  },
  {
   "cell_type": "code",
   "execution_count": 13,
   "id": "6ad551a7-e300-4b0c-98b6-47bcd86f8937",
   "metadata": {},
   "outputs": [
    {
     "data": {
      "image/png": "[encoded data removed]",
      "text/plain": [
       "<Figure size 2000x300 with 10 Axes>"
      ]
     },
     "metadata": {},
     "output_type": "display_data"
    }
   ],
   "source": [
    "import matplotlib.pyplot as plt\n",
    "\n",
    "# Получим предсказания на первых 10 изображениях тестового набора\n",
    "sample_indices = np.random.choice(len(test_img), 10, replace=False)\n",
    "sample_images = test_img[sample_indices]\n",
    "sample_predictions = final_predictions[sample_indices]\n",
    "\n",
    "# Визуализация изображений и предсказанных меток\n",
    "fig, axes = plt.subplots(1, 10, figsize=(20, 3))\n",
    "for i, ax in enumerate(axes):\n",
    "    ax.imshow(sample_images[i], cmap='gray')\n",
    "    ax.set_title(f\"Pred: {sample_predictions[i]}\")\n",
    "    ax.axis('off')\n",
    "plt.show()"
   ]
  },
  {
   "cell_type": "code",
   "execution_count": 12,
   "id": "2e6a2e24-2f38-40ca-89b8-a527411562d9",
   "metadata": {},
   "outputs": [
    {
     "name": "stdout",
     "output_type": "stream",
     "text": [
      "   ImageId  Label\n",
      "0        1    2.0\n",
      "1        2    0.0\n",
      "2        3    9.0\n",
      "3        4    9.0\n",
      "4        5    3.0\n"
     ]
    }
   ],
   "source": [
    "import pandas as pd\n",
    "import numpy as np\n",
    "\n",
    "# Предсказание на тестовых данных с использованием лучшей модели\n",
    "final_predictions = svm_model.predict(test_features)  # или `knn.predict(test_features)`\n",
    "\n",
    "# Формирование выходного файла для Kaggle\n",
    "submission = pd.DataFrame({\"ImageId\": np.arange(1, len(final_predictions) + 1), \"Label\": final_predictions})\n",
    "submission.to_csv(\"submission.csv\", index=False)\n",
    "\n",
    "# Просмотр первых строк файла\n",
    "print(submission.head())"
   ]
  },
  {
   "cell_type": "markdown",
   "id": "7ee34665-e2e5-4828-b4c9-99681a82d67f",
   "metadata": {},
   "source": [
    "*В Kaggle не воспринял формат файла. Пересоздал, как из лекционного ноутбука*"
   ]
  },
  {
   "cell_type": "code",
   "execution_count": 14,
   "id": "516daaed-109e-4102-910c-1765bc9d37b3",
   "metadata": {},
   "outputs": [],
   "source": [
    "with open('submit.txt', 'w') as dst:\n",
    "    dst.write('ImageId,Label\\n')\n",
    "    for i, p in enumerate(final_predictions, 1):\n",
    "        dst.write(f\"{i},{int(p)}\\n\")"
   ]
  },
  {
   "cell_type": "code",
   "execution_count": 17,
   "id": "43e6eb47-3804-44f8-a64d-b80303d785e9",
   "metadata": {},
   "outputs": [
    {
     "name": "stdout",
     "output_type": "stream",
     "text": [
      "[2. 0. 9. 9. 3. 7. 0. 3. 0. 3.]\n"
     ]
    }
   ],
   "source": [
    "print(final_predictions[:10])"
   ]
  },
  {
   "cell_type": "code",
   "execution_count": 16,
   "id": "ed619d19-da6f-479d-bdcb-182403876905",
   "metadata": {},
   "outputs": [],
   "source": [
    "# Повторно создаем предсказания\n",
    "final_predictions = svm_model.predict(test_features)  # или `knn.predict(test_features)`\n",
    "\n",
    "# Переписываем файл\n",
    "with open('submission.csv', 'w') as file:\n",
    "    file.write(\"ImageId,Label\\n\")\n",
    "    for idx, label in enumerate(final_predictions, 1):\n",
    "        file.write(f\"{idx},{int(label)}\\n\")"
   ]
  },
  {
   "cell_type": "markdown",
   "id": "bf5c4a62-f32f-456c-9824-ea7af4818af7",
   "metadata": {},
   "source": [
    "**Вывод о проделанной работе**  \n",
    "В рамках данной задачи был построен классификатор для распознавания рукописных цифр из базы данных MNIST, который был успешно применен к соревнованию Digit Recognizer на платформе Kaggle. Целью проекта было разработать модель, способную классифицировать изображения цифр с высокой точностью, не используя сверточные нейронные сети. Основные этапы работы включали:  \n",
    "  \n",
    "1) **Предобработка данных:**  \n",
    "    - Загрузка данных и их предварительная обработка.  \n",
    "    - Визуализация нескольких примеров изображений для лучшего понимания структуры данных.  \n",
    "    - Применение HOG (гистограмм ориентированных градиентов) для извлечения ключевых признаков из изображений, что помогло выделить контуры и текстуру цифр.  \n",
    "    \n",
    "2) **Построение и обучение модели:**  \n",
    "    - Использование методов машинного обучения, таких как метод опорных векторов (SVM) и метод ближайших соседей (KNN).  \n",
    "    - Разделение данных на тренировочную и валидационную выборки, что позволило оценить и настроить модель перед применением к тестовому набору данных.  \n",
    "    - Настройка гиперпараметров модели для достижения наилучших результатов на валидационных данных.  \n",
    "    \n",
    "3) **Оценка модели:**  \n",
    "    - Модель продемонстрировала высокую точность на валидационных данных, что позволило получить точность 98.6% при использовании SVM и 96.2% при использовании KNN.  \n",
    "    - Конечная модель была проверена на тестовых данных, и результаты предсказаний были отправлены на платформу Kaggle.  \n",
    "    \n",
    "4) **Результаты на Kaggle:**  \n",
    "    - После успешной обработки и отправки предсказаний был получен высокий публичный скор на платформе Kaggle — 0.98332, что свидетельствует о высоком качестве разработанного решения и примененной методики.  \n",
    "    \n",
    "**Заключение**  \n",
    "Методы предобработки и модели машинного обучения показали отличные результаты при классификации рукописных цифр. Использование HOG для извлечения признаков помогло модели выделить важные структурные детали изображений, что и позволило достичь высокой точности. Данный подход может быть расширен и адаптирован для решения других задач классификации изображений. В будущем можно рассмотреть использование других методов извлечения признаков или более сложных моделей для улучшения точности."
   ]
  }
 ],
 "metadata": {
  "kernelspec": {
   "display_name": "Python 3 (ipykernel)",
   "language": "python",
   "name": "python3"
  },
  "language_info": {
   "codemirror_mode": {
    "name": "ipython",
    "version": 3
   },
   "file_extension": ".py",
   "mimetype": "text/x-python",
   "name": "python",
   "nbconvert_exporter": "python",
   "pygments_lexer": "ipython3",
   "version": "3.9.20"
  }
 },
 "nbformat": 4,
 "nbformat_minor": 5
}
