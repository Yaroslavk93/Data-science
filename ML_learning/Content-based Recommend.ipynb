{
 "cells": [
  {
   "cell_type": "markdown",
   "id": "a18d0b51-99a1-487d-9c64-6b65c3f5fc08",
   "metadata": {},
   "source": [
    "# Рекомендации на основе содержания\n"
   ]
  },
  {
   "cell_type": "markdown",
   "id": "ca9a0511-c617-4955-9fbc-e627374cf1f8",
   "metadata": {},
   "source": [
    "1. **Загружаем датасет [MovieLens](https://grouplens.org/datasets/movielens/latest/).**"
   ]
  },
  {
   "cell_type": "code",
   "execution_count": 1,
   "id": "355db6cd-2c92-4974-a426-91c5828d97df",
   "metadata": {
    "tags": []
   },
   "outputs": [],
   "source": [
    "import pandas as pd"
   ]
  },
  {
   "cell_type": "code",
   "execution_count": 2,
   "id": "cc37b64d-4ed6-4fcc-9839-acb6c178983f",
   "metadata": {
    "tags": []
   },
   "outputs": [],
   "source": [
    "# Загрузка данных\n",
    "movies_df = pd.read_csv('C:/Users/Yaros/Downloads/ml-latest-small/ml-latest-small/movies.csv')\n",
    "ratings_df = pd.read_csv('C:/Users/Yaros/Downloads/ml-latest-small/ml-latest-small/ratings.csv')\n",
    "tags_df = pd.read_csv('C:/Users/Yaros/Downloads/ml-latest-small/ml-latest-small/tags.csv')"
   ]
  },
  {
   "cell_type": "code",
   "execution_count": 3,
   "id": "f386cd45-97fc-4443-9977-3ef452e8e7b7",
   "metadata": {
    "tags": []
   },
   "outputs": [
    {
     "data": {
      "text/plain": [
       "(   movieId                               title  \\\n",
       " 0        1                    Toy Story (1995)   \n",
       " 1        2                      Jumanji (1995)   \n",
       " 2        3             Grumpier Old Men (1995)   \n",
       " 3        4            Waiting to Exhale (1995)   \n",
       " 4        5  Father of the Bride Part II (1995)   \n",
       " \n",
       "                                         genres  \n",
       " 0  Adventure|Animation|Children|Comedy|Fantasy  \n",
       " 1                   Adventure|Children|Fantasy  \n",
       " 2                               Comedy|Romance  \n",
       " 3                         Comedy|Drama|Romance  \n",
       " 4                                       Comedy  ,\n",
       "    userId  movieId  rating  timestamp\n",
       " 0       1        1     4.0  964982703\n",
       " 1       1        3     4.0  964981247\n",
       " 2       1        6     4.0  964982224\n",
       " 3       1       47     5.0  964983815\n",
       " 4       1       50     5.0  964982931,\n",
       "    userId  movieId              tag   timestamp\n",
       " 0       2    60756            funny  1445714994\n",
       " 1       2    60756  Highly quotable  1445714996\n",
       " 2       2    60756     will ferrell  1445714992\n",
       " 3       2    89774     Boxing story  1445715207\n",
       " 4       2    89774              MMA  1445715200)"
      ]
     },
     "execution_count": 3,
     "metadata": {},
     "output_type": "execute_result"
    }
   ],
   "source": [
    "# Предварительный просмотр данных\n",
    "movies_df.head(), ratings_df.head(), tags_df.head()"
   ]
  },
  {
   "cell_type": "markdown",
   "id": "60a51cbb-73f9-4d4f-a644-90b7204f88b8",
   "metadata": {},
   "source": [
    "**Фильмы (movies.csv):** Данные содержат идентификатор фильма (movieId), название (title) и жанры (genres). Жанры представлены в виде строк, где жанры разделены символом |.    \n",
    "  \n",
    "**Оценки (ratings.csv):** Данные включают идентификатор пользователя (userId), идентификатор фильма (movieId), оценку (rating) и временную метку (timestamp).\n",
    "  \n",
    "**Теги (tags.csv):** Данные содержат идентификатор пользователя (userId), идентификатор фильма (movieId), тег (tag) и временную метку (timestamp).  "
   ]
  },
  {
   "cell_type": "markdown",
   "id": "150a5c7c-e919-42ae-8cbd-3a967b804254",
   "metadata": {},
   "source": [
    "2. **Предобработка данных.**"
   ]
  },
  {
   "cell_type": "markdown",
   "id": "c2a75e8c-ec79-4a20-bafe-c374d9656a9f",
   "metadata": {},
   "source": [
    "**Преобразование жанров:** Преобразуем строку жанров в список, чтобы упростить дальнейшую работу с ними.  \n",
    "  \n",
    "**Объединение тегов:** Для каждого фильма объединим все его теги в одну строку, чтобы упростить применение TF-IDF.  \n",
    "  \n",
    "**Очистка и подготовка тегов и жанров:** Удалим возможные пробелы и специальные символы, унифицируем регистр для обеспечения консистентности."
   ]
  },
  {
   "cell_type": "code",
   "execution_count": 4,
   "id": "ddb57ac6-b84c-4fd7-b5df-f9ba3181d97b",
   "metadata": {
    "tags": []
   },
   "outputs": [
    {
     "data": {
      "text/html": [
       "<div>\n",
       "<style scoped>\n",
       "    .dataframe tbody tr th:only-of-type {\n",
       "        vertical-align: middle;\n",
       "    }\n",
       "\n",
       "    .dataframe tbody tr th {\n",
       "        vertical-align: top;\n",
       "    }\n",
       "\n",
       "    .dataframe thead th {\n",
       "        text-align: right;\n",
       "    }\n",
       "</style>\n",
       "<table border=\"1\" class=\"dataframe\">\n",
       "  <thead>\n",
       "    <tr style=\"text-align: right;\">\n",
       "      <th></th>\n",
       "      <th>movieId</th>\n",
       "      <th>title</th>\n",
       "      <th>genres</th>\n",
       "      <th>tag</th>\n",
       "    </tr>\n",
       "  </thead>\n",
       "  <tbody>\n",
       "    <tr>\n",
       "      <th>0</th>\n",
       "      <td>1</td>\n",
       "      <td>Toy Story (1995)</td>\n",
       "      <td>[Adventure, Animation, Children, Comedy, Fantasy]</td>\n",
       "      <td>pixar pixar fun</td>\n",
       "    </tr>\n",
       "    <tr>\n",
       "      <th>1</th>\n",
       "      <td>2</td>\n",
       "      <td>Jumanji (1995)</td>\n",
       "      <td>[Adventure, Children, Fantasy]</td>\n",
       "      <td>fantasy magic board game Robin Williams game</td>\n",
       "    </tr>\n",
       "    <tr>\n",
       "      <th>2</th>\n",
       "      <td>3</td>\n",
       "      <td>Grumpier Old Men (1995)</td>\n",
       "      <td>[Comedy, Romance]</td>\n",
       "      <td>moldy old</td>\n",
       "    </tr>\n",
       "    <tr>\n",
       "      <th>3</th>\n",
       "      <td>4</td>\n",
       "      <td>Waiting to Exhale (1995)</td>\n",
       "      <td>[Comedy, Drama, Romance]</td>\n",
       "      <td></td>\n",
       "    </tr>\n",
       "    <tr>\n",
       "      <th>4</th>\n",
       "      <td>5</td>\n",
       "      <td>Father of the Bride Part II (1995)</td>\n",
       "      <td>[Comedy]</td>\n",
       "      <td>pregnancy remake</td>\n",
       "    </tr>\n",
       "  </tbody>\n",
       "</table>\n",
       "</div>"
      ],
      "text/plain": [
       "   movieId                               title  \\\n",
       "0        1                    Toy Story (1995)   \n",
       "1        2                      Jumanji (1995)   \n",
       "2        3             Grumpier Old Men (1995)   \n",
       "3        4            Waiting to Exhale (1995)   \n",
       "4        5  Father of the Bride Part II (1995)   \n",
       "\n",
       "                                              genres  \\\n",
       "0  [Adventure, Animation, Children, Comedy, Fantasy]   \n",
       "1                     [Adventure, Children, Fantasy]   \n",
       "2                                  [Comedy, Romance]   \n",
       "3                           [Comedy, Drama, Romance]   \n",
       "4                                           [Comedy]   \n",
       "\n",
       "                                            tag  \n",
       "0                               pixar pixar fun  \n",
       "1  fantasy magic board game Robin Williams game  \n",
       "2                                     moldy old  \n",
       "3                                                \n",
       "4                              pregnancy remake  "
      ]
     },
     "execution_count": 4,
     "metadata": {},
     "output_type": "execute_result"
    }
   ],
   "source": [
    "# Преобразование жанров в список, если они еще не преобразованы\n",
    "if isinstance(movies_df['genres'].iloc[0], str):\n",
    "    movies_df['genres'] = movies_df['genres'].apply(lambda x: x.split('|'))\n",
    "\n",
    "# Обеспечение, что все теги являются строками\n",
    "tags_df['tag'] = tags_df['tag'].astype(str)\n",
    "\n",
    "# Объединение тегов для каждого фильма\n",
    "tags_combined = tags_df.groupby('movieId')['tag'].apply(lambda x: ' '.join(x)).reset_index()\n",
    "\n",
    "# Объединение тегов с данными о фильмах\n",
    "movies_with_tags_df = pd.merge(movies_df, tags_combined, on='movieId', how='left')\n",
    "movies_with_tags_df['tag'] = movies_with_tags_df['tag'].fillna('')  # Заполнение отсутствующих значений пустой строкой\n",
    "\n",
    "# Предварительный просмотр результатов предобработки\n",
    "movies_with_tags_df.head()"
   ]
  },
  {
   "cell_type": "markdown",
   "id": "399a7480-f0dd-4843-817d-09cd3759e4b5",
   "metadata": {},
   "source": [
    "3. **Применение TF-IDF к тегам и жанрам для извлечения фич, а также подготовка данных о средних оценках, медиане, дисперсии и других статистиках для пользователя и фильма.**"
   ]
  },
  {
   "cell_type": "code",
   "execution_count": 5,
   "id": "eb19c979-32aa-43f1-8d47-70e7137b0059",
   "metadata": {
    "tags": []
   },
   "outputs": [
    {
     "data": {
      "text/html": [
       "<div>\n",
       "<style scoped>\n",
       "    .dataframe tbody tr th:only-of-type {\n",
       "        vertical-align: middle;\n",
       "    }\n",
       "\n",
       "    .dataframe tbody tr th {\n",
       "        vertical-align: top;\n",
       "    }\n",
       "\n",
       "    .dataframe thead th {\n",
       "        text-align: right;\n",
       "    }\n",
       "</style>\n",
       "<table border=\"1\" class=\"dataframe\">\n",
       "  <thead>\n",
       "    <tr style=\"text-align: right;\">\n",
       "      <th></th>\n",
       "      <th>06</th>\n",
       "      <th>1900s</th>\n",
       "      <th>1920s</th>\n",
       "      <th>1950s</th>\n",
       "      <th>1960s</th>\n",
       "      <th>1970s</th>\n",
       "      <th>1980s</th>\n",
       "      <th>1990s</th>\n",
       "      <th>2001</th>\n",
       "      <th>250</th>\n",
       "      <th>...</th>\n",
       "      <th>york</th>\n",
       "      <th>you</th>\n",
       "      <th>younger</th>\n",
       "      <th>your</th>\n",
       "      <th>zellweger</th>\n",
       "      <th>zither</th>\n",
       "      <th>zoe</th>\n",
       "      <th>zombie</th>\n",
       "      <th>zombies</th>\n",
       "      <th>zooey</th>\n",
       "    </tr>\n",
       "  </thead>\n",
       "  <tbody>\n",
       "    <tr>\n",
       "      <th>0</th>\n",
       "      <td>0.0</td>\n",
       "      <td>0.0</td>\n",
       "      <td>0.0</td>\n",
       "      <td>0.0</td>\n",
       "      <td>0.0</td>\n",
       "      <td>0.0</td>\n",
       "      <td>0.0</td>\n",
       "      <td>0.0</td>\n",
       "      <td>0.0</td>\n",
       "      <td>0.0</td>\n",
       "      <td>...</td>\n",
       "      <td>0.0</td>\n",
       "      <td>0.0</td>\n",
       "      <td>0.0</td>\n",
       "      <td>0.0</td>\n",
       "      <td>0.0</td>\n",
       "      <td>0.0</td>\n",
       "      <td>0.0</td>\n",
       "      <td>0.0</td>\n",
       "      <td>0.0</td>\n",
       "      <td>0.0</td>\n",
       "    </tr>\n",
       "    <tr>\n",
       "      <th>1</th>\n",
       "      <td>0.0</td>\n",
       "      <td>0.0</td>\n",
       "      <td>0.0</td>\n",
       "      <td>0.0</td>\n",
       "      <td>0.0</td>\n",
       "      <td>0.0</td>\n",
       "      <td>0.0</td>\n",
       "      <td>0.0</td>\n",
       "      <td>0.0</td>\n",
       "      <td>0.0</td>\n",
       "      <td>...</td>\n",
       "      <td>0.0</td>\n",
       "      <td>0.0</td>\n",
       "      <td>0.0</td>\n",
       "      <td>0.0</td>\n",
       "      <td>0.0</td>\n",
       "      <td>0.0</td>\n",
       "      <td>0.0</td>\n",
       "      <td>0.0</td>\n",
       "      <td>0.0</td>\n",
       "      <td>0.0</td>\n",
       "    </tr>\n",
       "    <tr>\n",
       "      <th>2</th>\n",
       "      <td>0.0</td>\n",
       "      <td>0.0</td>\n",
       "      <td>0.0</td>\n",
       "      <td>0.0</td>\n",
       "      <td>0.0</td>\n",
       "      <td>0.0</td>\n",
       "      <td>0.0</td>\n",
       "      <td>0.0</td>\n",
       "      <td>0.0</td>\n",
       "      <td>0.0</td>\n",
       "      <td>...</td>\n",
       "      <td>0.0</td>\n",
       "      <td>0.0</td>\n",
       "      <td>0.0</td>\n",
       "      <td>0.0</td>\n",
       "      <td>0.0</td>\n",
       "      <td>0.0</td>\n",
       "      <td>0.0</td>\n",
       "      <td>0.0</td>\n",
       "      <td>0.0</td>\n",
       "      <td>0.0</td>\n",
       "    </tr>\n",
       "    <tr>\n",
       "      <th>3</th>\n",
       "      <td>0.0</td>\n",
       "      <td>0.0</td>\n",
       "      <td>0.0</td>\n",
       "      <td>0.0</td>\n",
       "      <td>0.0</td>\n",
       "      <td>0.0</td>\n",
       "      <td>0.0</td>\n",
       "      <td>0.0</td>\n",
       "      <td>0.0</td>\n",
       "      <td>0.0</td>\n",
       "      <td>...</td>\n",
       "      <td>0.0</td>\n",
       "      <td>0.0</td>\n",
       "      <td>0.0</td>\n",
       "      <td>0.0</td>\n",
       "      <td>0.0</td>\n",
       "      <td>0.0</td>\n",
       "      <td>0.0</td>\n",
       "      <td>0.0</td>\n",
       "      <td>0.0</td>\n",
       "      <td>0.0</td>\n",
       "    </tr>\n",
       "    <tr>\n",
       "      <th>4</th>\n",
       "      <td>0.0</td>\n",
       "      <td>0.0</td>\n",
       "      <td>0.0</td>\n",
       "      <td>0.0</td>\n",
       "      <td>0.0</td>\n",
       "      <td>0.0</td>\n",
       "      <td>0.0</td>\n",
       "      <td>0.0</td>\n",
       "      <td>0.0</td>\n",
       "      <td>0.0</td>\n",
       "      <td>...</td>\n",
       "      <td>0.0</td>\n",
       "      <td>0.0</td>\n",
       "      <td>0.0</td>\n",
       "      <td>0.0</td>\n",
       "      <td>0.0</td>\n",
       "      <td>0.0</td>\n",
       "      <td>0.0</td>\n",
       "      <td>0.0</td>\n",
       "      <td>0.0</td>\n",
       "      <td>0.0</td>\n",
       "    </tr>\n",
       "  </tbody>\n",
       "</table>\n",
       "<p>5 rows × 1748 columns</p>\n",
       "</div>"
      ],
      "text/plain": [
       "    06  1900s  1920s  1950s  1960s  1970s  1980s  1990s  2001  250  ...  york  \\\n",
       "0  0.0    0.0    0.0    0.0    0.0    0.0    0.0    0.0   0.0  0.0  ...   0.0   \n",
       "1  0.0    0.0    0.0    0.0    0.0    0.0    0.0    0.0   0.0  0.0  ...   0.0   \n",
       "2  0.0    0.0    0.0    0.0    0.0    0.0    0.0    0.0   0.0  0.0  ...   0.0   \n",
       "3  0.0    0.0    0.0    0.0    0.0    0.0    0.0    0.0   0.0  0.0  ...   0.0   \n",
       "4  0.0    0.0    0.0    0.0    0.0    0.0    0.0    0.0   0.0  0.0  ...   0.0   \n",
       "\n",
       "   you  younger  your  zellweger  zither  zoe  zombie  zombies  zooey  \n",
       "0  0.0      0.0   0.0        0.0     0.0  0.0     0.0      0.0    0.0  \n",
       "1  0.0      0.0   0.0        0.0     0.0  0.0     0.0      0.0    0.0  \n",
       "2  0.0      0.0   0.0        0.0     0.0  0.0     0.0      0.0    0.0  \n",
       "3  0.0      0.0   0.0        0.0     0.0  0.0     0.0      0.0    0.0  \n",
       "4  0.0      0.0   0.0        0.0     0.0  0.0     0.0      0.0    0.0  \n",
       "\n",
       "[5 rows x 1748 columns]"
      ]
     },
     "execution_count": 5,
     "metadata": {},
     "output_type": "execute_result"
    }
   ],
   "source": [
    "from sklearn.feature_extraction.text import TfidfVectorizer\n",
    "\n",
    "# Объединение жанров в одну строку для каждого фильма\n",
    "movies_with_tags_df['genres_joined'] = movies_with_tags_df['genres'].apply(lambda x: ' '.join(x))\n",
    "\n",
    "# Создание одной строковой фичи путем объединения тегов и жанров\n",
    "movies_with_tags_df['tags_genres'] = movies_with_tags_df['tag'] + ' ' + movies_with_tags_df['genres_joined']\n",
    "\n",
    "# Применение TF-IDF к объединенным тегам и жанрам\n",
    "tfidf_vectorizer = TfidfVectorizer()\n",
    "tfidf_matrix = tfidf_vectorizer.fit_transform(movies_with_tags_df['tags_genres'])\n",
    "\n",
    "# Преобразование TF-IDF матрицы в DataFrame для удобства использования\n",
    "tfidf_df = pd.DataFrame(tfidf_matrix.toarray(), index=movies_with_tags_df.index, columns=tfidf_vectorizer.get_feature_names_out())\n",
    "\n",
    "tfidf_df.head()"
   ]
  },
  {
   "cell_type": "code",
   "execution_count": 6,
   "id": "c1e7c187-2f19-4e0e-b8f7-49009f841d9e",
   "metadata": {
    "tags": []
   },
   "outputs": [],
   "source": [
    "# Уменьшим размерность\n",
    "from sklearn.decomposition import TruncatedSVD\n",
    "\n",
    "svd = TruncatedSVD(n_components=200)  # Выбор количества компонент\n",
    "reduced_features = svd.fit_transform(tfidf_df)"
   ]
  },
  {
   "cell_type": "markdown",
   "id": "a6d8b6c4-67eb-4671-b996-ab35d8248f9a",
   "metadata": {},
   "source": [
    "4. **Подготовим данные о средних оценках, медиане, дисперсии и других статистиках для каждого пользователя и фильма.**"
   ]
  },
  {
   "cell_type": "code",
   "execution_count": 7,
   "id": "054f73e2-42ea-4c7a-8d25-4c4507e08c4a",
   "metadata": {
    "tags": []
   },
   "outputs": [
    {
     "data": {
      "text/plain": [
       "(   movieId  movie_mean_rating  movie_median_rating  movie_rating_var\n",
       " 0        1           3.920930                  4.0          0.696990\n",
       " 1        2           3.431818                  3.5          0.777419\n",
       " 2        3           3.259615                  3.0          1.112651\n",
       " 3        4           2.357143                  3.0          0.726190\n",
       " 4        5           3.071429                  3.0          0.822917,\n",
       "    userId  user_mean_rating  user_median_rating  user_rating_var\n",
       " 0       1          4.366379                 5.0         0.640077\n",
       " 1       2          3.948276                 4.0         0.649015\n",
       " 2       3          2.435897                 0.5         4.370783\n",
       " 3       4          3.555556                 4.0         1.727132\n",
       " 4       5          3.636364                 4.0         0.980973)"
      ]
     },
     "execution_count": 7,
     "metadata": {},
     "output_type": "execute_result"
    }
   ],
   "source": [
    "# Расчет средней оценки, медианы и дисперсии для каждого фильма\n",
    "movie_stats = ratings_df.groupby('movieId')['rating'].agg(['mean', 'median', 'var']).fillna(0).reset_index()\n",
    "\n",
    "# Расчет средней оценки, медианы и дисперсии для каждого пользователя\n",
    "user_stats = ratings_df.groupby('userId')['rating'].agg(['mean', 'median', 'var']).fillna(0).reset_index()\n",
    "\n",
    "# Подготовка названий столбцов\n",
    "movie_stats.columns = ['movieId', 'movie_mean_rating', 'movie_median_rating', 'movie_rating_var']\n",
    "user_stats.columns = ['userId', 'user_mean_rating', 'user_median_rating', 'user_rating_var']\n",
    "\n",
    "# Предварительный просмотр статистик\n",
    "movie_stats.head(), user_stats.head()"
   ]
  },
  {
   "cell_type": "markdown",
   "id": "d9fe731d-9e6e-41eb-a71a-bffd1a1b7e43",
   "metadata": {},
   "source": [
    "5. **Далее объединим все подготовленные данные и подготовим их к обучению модели.**"
   ]
  },
  {
   "cell_type": "code",
   "execution_count": 8,
   "id": "aa2e4b2d-872e-4ff5-beec-8d2ec2fa4316",
   "metadata": {
    "tags": []
   },
   "outputs": [],
   "source": [
    "# Преобразуем reduced_features в DataFrame\n",
    "reduced_features_df = pd.DataFrame(reduced_features, index=movies_with_tags_df['movieId']).reset_index()\n",
    "\n",
    "# Интеграция сниженных фич и статистик с основными данными\n",
    "full_data = pd.merge(ratings_df, reduced_features_df, on='movieId', how='left')\n",
    "full_data = pd.merge(full_data, movie_stats, on='movieId', how='left')\n",
    "full_data = pd.merge(full_data, user_stats, on='userId', how='left')"
   ]
  },
  {
   "cell_type": "code",
   "execution_count": 9,
   "id": "405ba5d9-4196-4e30-b278-6d37d53047dc",
   "metadata": {
    "tags": []
   },
   "outputs": [],
   "source": [
    "# Подготовка данных для обучения модели\n",
    "X = full_data.drop(['rating', 'timestamp'], axis=1)\n",
    "y = full_data['rating']"
   ]
  },
  {
   "cell_type": "markdown",
   "id": "0dd16c0c-261a-45e0-9136-f0b2d1de3d70",
   "metadata": {},
   "source": [
    "6. **Обучим модель и оценим RMSE на тестовой выборке.**"
   ]
  },
  {
   "cell_type": "code",
   "execution_count": 10,
   "id": "d18f180c-9ee2-48b2-8369-1ffa2a7f964f",
   "metadata": {
    "tags": []
   },
   "outputs": [],
   "source": [
    "# Преобразование имен столбцов в строки\n",
    "X.columns = X.columns.astype(str)"
   ]
  },
  {
   "cell_type": "code",
   "execution_count": 11,
   "id": "02fff952-12ef-463a-ba99-96663ddf62d4",
   "metadata": {
    "tags": []
   },
   "outputs": [
    {
     "name": "stdout",
     "output_type": "stream",
     "text": [
      "RMSE: 0.8142543739379158\n"
     ]
    }
   ],
   "source": [
    "from sklearn.model_selection import train_test_split\n",
    "from sklearn.linear_model import LinearRegression\n",
    "from sklearn.metrics import mean_squared_error\n",
    "import numpy as np\n",
    "\n",
    "# Разделение данных на обучающую и тестовую выборки\n",
    "X_train, X_test, y_train, y_test = train_test_split(X, y, test_size=0.2, random_state=42)\n",
    "\n",
    "# Обучение модели\n",
    "model = LinearRegression()\n",
    "model.fit(X_train, y_train)\n",
    "\n",
    "# Оценка модели\n",
    "y_pred = model.predict(X_test)\n",
    "rmse = np.sqrt(mean_squared_error(y_test, y_pred))\n",
    "\n",
    "print(f\"RMSE: {rmse}\")"
   ]
  },
  {
   "cell_type": "markdown",
   "id": "d3f263a2-107f-4589-ae19-a250859b7972",
   "metadata": {},
   "source": [
    "- Модель успешно обучена для предсказания оценок фильмов с использованием статистик по пользователям и фильмам.  \n",
    "  \n",
    "- RMSE = 0.8125 демонстрирует, что модель в целом хорошо справляется с задачей предсказания оценок, но все же имеет некоторую погрешность.  \n",
    "  \n",
    "- Для улучшения точности модели в будущем можно рассмотреть использование дополнительных фич, таких как TF-IDF вектора тегов и жанров, или применение более сложных моделей машинного обучения."
   ]
  }
 ],
 "metadata": {
  "kernelspec": {
   "display_name": "Python 3 (ipykernel)",
   "language": "python",
   "name": "python3"
  },
  "language_info": {
   "codemirror_mode": {
    "name": "ipython",
    "version": 3
   },
   "file_extension": ".py",
   "mimetype": "text/x-python",
   "name": "python",
   "nbconvert_exporter": "python",
   "pygments_lexer": "ipython3",
   "version": "3.11.5"
  }
 },
 "nbformat": 4,
 "nbformat_minor": 5
}
