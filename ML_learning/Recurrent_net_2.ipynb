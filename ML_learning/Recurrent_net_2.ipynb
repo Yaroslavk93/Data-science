{
 "cells": [
  {
   "cell_type": "markdown",
   "id": "f7977e2b-c438-43bb-84b6-a2d856284c4a",
   "metadata": {},
   "source": [
    "# Рекуррентные сети 2"
   ]
  },
  {
   "cell_type": "markdown",
   "id": "cca06084-be1a-4579-937f-423f1c1c5b42",
   "metadata": {},
   "source": [
    "## Задание \n",
    "Сгенерировать последовательности, которые бы состояли из цифр (от 0 до 9) и задавались следующим образом:  \n",
    "x - последовательность цифр  \n",
    "y1 = x1, y(i) = x(i) + x(1). Если y(i) >= 10, то y(i) = y(i) - 10\n",
    "\n",
    "### Задача:\n",
    "научить модель предсказывать y(i) по x(i)  \n",
    "пробовать RNN, LSTM, GRU"
   ]
  },
  {
   "cell_type": "code",
   "execution_count": 1,
   "id": "f64d486f-4bf1-4a42-be6e-5418369ae9fd",
   "metadata": {},
   "outputs": [],
   "source": [
    "import numpy as np\n",
    "import torch\n",
    "import torch.nn as nn\n",
    "from torch.utils.data import Dataset, DataLoader"
   ]
  },
  {
   "cell_type": "markdown",
   "id": "75a004f6-c6a9-4eaf-af24-08a212ce1e13",
   "metadata": {},
   "source": [
    "### Функция для генерации одной пары последовательностей"
   ]
  },
  {
   "cell_type": "code",
   "execution_count": 2,
   "id": "79644fef-dc1b-496a-96d3-fc73bd2bf235",
   "metadata": {},
   "outputs": [],
   "source": [
    "def generate_sequence(seq_length):\n",
    "    \"\"\"\n",
    "    Генерирует пару последовательностей (x, y) согласно заданному правилу.\n",
    "    :param seq_length: Длина последовательности\n",
    "    :return: Кортеж из двух numpy массивов: (x, y)\n",
    "    \"\"\"\n",
    "    x = np.random.randint(0, 10, size=seq_length)  # Входная последовательность x\n",
    "    y = np.zeros(seq_length, dtype=int)  # Инициализируем y нулями\n",
    "    y[0] = x[0]  # y[0] = x[0]\n",
    "    for i in range(1, seq_length):\n",
    "        y[i] = x[i] + x[0]\n",
    "        if y[i] >= 10:\n",
    "            y[i] -= 10  # Если y[i] >= 10, вычитаем 10\n",
    "    return x, y"
   ]
  },
  {
   "cell_type": "markdown",
   "id": "dea2ff61-c816-4455-911b-e9b170cdb8d0",
   "metadata": {},
   "source": [
    "### Генерация датасета"
   ]
  },
  {
   "cell_type": "code",
   "execution_count": 3,
   "id": "caebc7bd-916c-481e-9e5e-f38707a4bbd6",
   "metadata": {},
   "outputs": [],
   "source": [
    "def generate_dataset(num_samples, seq_length):\n",
    "    \"\"\"\n",
    "    Генерирует датасет из заданного числа образцов.\n",
    "    :param num_samples: Количество образцов в датасете\n",
    "    :param seq_length: Длина каждой последовательности\n",
    "    :return: Список пар (x, y)\n",
    "    \"\"\"\n",
    "    dataset = []\n",
    "    for _ in range(num_samples):\n",
    "        x, y = generate_sequence(seq_length)\n",
    "        dataset.append((x, y))\n",
    "    return dataset"
   ]
  },
  {
   "cell_type": "code",
   "execution_count": 4,
   "id": "d8b881d0-a880-4336-bebf-a28b312467bd",
   "metadata": {},
   "outputs": [],
   "source": [
    "num_samples = 10000  # Количество образцов\n",
    "seq_length = 10      # Длина каждой последовательности\n",
    "dataset = generate_dataset(num_samples, seq_length)"
   ]
  },
  {
   "cell_type": "markdown",
   "id": "1a4af6e0-82fa-4304-ad5d-c64a303e19d9",
   "metadata": {},
   "source": [
    "### Создание класса датасета"
   ]
  },
  {
   "cell_type": "code",
   "execution_count": 5,
   "id": "a98f66d1-db0b-4a36-a56e-9466525f6ad5",
   "metadata": {},
   "outputs": [],
   "source": [
    "class SequenceDataset(Dataset):\n",
    "    def __init__(self, dataset):\n",
    "        \"\"\"\n",
    "        Инициализирует датасет для использования с DataLoader.\n",
    "        :param dataset: Список пар (x, y)\n",
    "        \"\"\"\n",
    "        self.dataset = dataset\n",
    "        \n",
    "    def __len__(self):\n",
    "        return len(self.dataset)\n",
    "    \n",
    "    def __getitem__(self, idx):\n",
    "        x, y = self.dataset[idx]\n",
    "        # Преобразуем в тензоры\n",
    "        x_tensor = torch.tensor(x, dtype=torch.long)\n",
    "        y_tensor = torch.tensor(y, dtype=torch.long)\n",
    "        return x_tensor, y_tensor"
   ]
  },
  {
   "cell_type": "code",
   "execution_count": 6,
   "id": "1f64d27d-f933-4500-9d6f-e99ff5d9a167",
   "metadata": {},
   "outputs": [],
   "source": [
    "from sklearn.model_selection import train_test_split\n",
    "\n",
    "train_data, test_data = train_test_split(dataset, test_size=0.2, random_state=42)"
   ]
  },
  {
   "cell_type": "code",
   "execution_count": 7,
   "id": "0c5a8a79-ae40-4800-ac1a-b5b6394b327f",
   "metadata": {},
   "outputs": [],
   "source": [
    "batch_size = 64\n",
    "\n",
    "train_dataset = SequenceDataset(train_data)\n",
    "test_dataset = SequenceDataset(test_data)\n",
    "\n",
    "train_loader = DataLoader(train_dataset, batch_size=batch_size, shuffle=True)\n",
    "test_loader = DataLoader(test_dataset, batch_size=batch_size, shuffle=False)"
   ]
  },
  {
   "cell_type": "code",
   "execution_count": 8,
   "id": "94804b81-ca19-4004-8064-5c4dfdb71bb6",
   "metadata": {},
   "outputs": [],
   "source": [
    "input_size = 10    # Входные цифры от 0 до 9\n",
    "hidden_size = 32   # Размер скрытого состояния\n",
    "output_size = 10   # Выходные цифры от 0 до 9\n",
    "num_layers = 1     # Количество слоев в RNN"
   ]
  },
  {
   "cell_type": "markdown",
   "id": "44300846-771c-481f-a0ff-bf78c97b2016",
   "metadata": {},
   "source": [
    "### Базовый класс модели"
   ]
  },
  {
   "cell_type": "code",
   "execution_count": 9,
   "id": "7fde301a-7023-4db3-92a6-669de5ca3a27",
   "metadata": {},
   "outputs": [],
   "source": [
    "class BaseModel(nn.Module):\n",
    "    def __init__(self, rnn_type):\n",
    "        super(BaseModel, self).__init__()\n",
    "        self.embedding = nn.Embedding(input_size, hidden_size)\n",
    "        if rnn_type == 'RNN':\n",
    "            self.rnn = nn.RNN(hidden_size, hidden_size, num_layers)\n",
    "        elif rnn_type == 'LSTM':\n",
    "            self.rnn = nn.LSTM(hidden_size, hidden_size, num_layers)\n",
    "        elif rnn_type == 'GRU':\n",
    "            self.rnn = nn.GRU(hidden_size, hidden_size, num_layers)\n",
    "        else:\n",
    "            raise ValueError(\"Invalid RNN type\")\n",
    "        self.fc = nn.Linear(hidden_size, output_size)\n",
    "        self.rnn_type = rnn_type\n",
    "        \n",
    "    def forward(self, x):\n",
    "        \"\"\"\n",
    "        Прямой проход модели.\n",
    "        :param x: Входная последовательность (batch_size, seq_length)\n",
    "        :return: Выходная последовательность (batch_size, seq_length, output_size)\n",
    "        \"\"\"\n",
    "        embedded = self.embedding(x)  # Преобразуем входные цифры в эмбеддинги\n",
    "        embedded = embedded.permute(1, 0, 2)  # (seq_length, batch_size, hidden_size)\n",
    "        \n",
    "        if self.rnn_type == 'LSTM':\n",
    "            output, (hn, cn) = self.rnn(embedded)\n",
    "        else:\n",
    "            output, hn = self.rnn(embedded)\n",
    "        \n",
    "        output = output.permute(1, 0, 2)  # (batch_size, seq_length, hidden_size)\n",
    "        output = self.fc(output)  # Применяем полносвязный слой к каждому выходу\n",
    "        return output"
   ]
  },
  {
   "cell_type": "code",
   "execution_count": 10,
   "id": "b0d7c981-cc49-458d-bb28-76c76c3cc2a4",
   "metadata": {},
   "outputs": [],
   "source": [
    "model_rnn = BaseModel('RNN')\n",
    "model_lstm = BaseModel('LSTM')\n",
    "model_gru = BaseModel('GRU')"
   ]
  },
  {
   "cell_type": "markdown",
   "id": "c86f5fe3-52f9-465f-a3ca-a945a193f9e3",
   "metadata": {},
   "source": [
    "### Определение функции обучения"
   ]
  },
  {
   "cell_type": "code",
   "execution_count": 11,
   "id": "1164119b-83d7-443c-a07b-6c7cf2bc0a13",
   "metadata": {},
   "outputs": [],
   "source": [
    "def train_model(model, train_loader, test_loader, num_epochs=5):\n",
    "    \"\"\"\n",
    "    Обучает заданную модель.\n",
    "    :param model: Экземпляр модели для обучения\n",
    "    :param train_loader: DataLoader для обучающей выборки\n",
    "    :param test_loader: DataLoader для тестовой выборки\n",
    "    :param num_epochs: Количество эпох обучения\n",
    "    \"\"\"\n",
    "    criterion = nn.CrossEntropyLoss()\n",
    "    optimizer = torch.optim.Adam(model.parameters(), lr=0.001)\n",
    "    loss_history = []\n",
    "    accuracy_history = []\n",
    "    for epoch in range(num_epochs):\n",
    "        model.train()\n",
    "        total_loss = 0\n",
    "        for x_batch, y_batch in train_loader:\n",
    "            optimizer.zero_grad()\n",
    "            outputs = model(x_batch)\n",
    "            outputs = outputs.view(-1, output_size)\n",
    "            targets = y_batch.view(-1)\n",
    "            loss = criterion(outputs, targets)\n",
    "            loss.backward()\n",
    "            optimizer.step()\n",
    "            total_loss += loss.item()\n",
    "        avg_loss = total_loss / len(train_loader)\n",
    "        loss_history.append(avg_loss)\n",
    "        accuracy = evaluate_model(model, test_loader)\n",
    "        accuracy_history.append(accuracy)\n",
    "        print(f'Epoch {epoch+1}/{num_epochs}, Loss: {avg_loss:.4f}, Accuracy: {accuracy:.2f}%')\n",
    "        \n",
    "    return loss_history, accuracy_history"
   ]
  },
  {
   "cell_type": "markdown",
   "id": "00e87f55-203d-45ed-a5bc-36e5dc738293",
   "metadata": {},
   "source": [
    "### Определение функции оценки модели"
   ]
  },
  {
   "cell_type": "code",
   "execution_count": 12,
   "id": "18eb66b5-65b2-4ba1-ac4f-5a170b0d49d4",
   "metadata": {},
   "outputs": [],
   "source": [
    "def evaluate_model(model, test_loader):\n",
    "    \"\"\"\n",
    "    Оценивает модель на тестовой выборке.\n",
    "    :param model: Экземпляр модели\n",
    "    :param test_loader: DataLoader для тестовой выборки\n",
    "    \"\"\"\n",
    "    model.eval()\n",
    "    total_correct = 0\n",
    "    total_elements = 0\n",
    "    with torch.no_grad():\n",
    "        for x_batch, y_batch in test_loader:\n",
    "            outputs = model(x_batch)\n",
    "            predictions = torch.argmax(outputs, dim=2)\n",
    "            total_correct += (predictions == y_batch).sum().item()\n",
    "            total_elements += y_batch.numel()\n",
    "    accuracy = total_correct / total_elements * 100\n",
    "    return accuracy"
   ]
  },
  {
   "cell_type": "markdown",
   "id": "4ed0ddaa-600b-49d7-a032-3231fa5404ac",
   "metadata": {},
   "source": [
    "### Обучение моделей"
   ]
  },
  {
   "cell_type": "code",
   "execution_count": 13,
   "id": "d14db854-bb83-4ad1-9270-69bba6d8dd56",
   "metadata": {},
   "outputs": [
    {
     "name": "stdout",
     "output_type": "stream",
     "text": [
      "Training Simple RNN Model:\n",
      "Epoch 1/10, Loss: 2.2773, Accuracy: 18.55%\n",
      "Epoch 2/10, Loss: 2.2531, Accuracy: 18.55%\n",
      "Epoch 3/10, Loss: 2.2150, Accuracy: 19.31%\n",
      "Epoch 4/10, Loss: 2.0620, Accuracy: 24.95%\n",
      "Epoch 5/10, Loss: 1.8996, Accuracy: 27.52%\n",
      "Epoch 6/10, Loss: 1.7615, Accuracy: 31.33%\n",
      "Epoch 7/10, Loss: 1.6529, Accuracy: 37.94%\n",
      "Epoch 8/10, Loss: 1.5592, Accuracy: 40.59%\n",
      "Epoch 9/10, Loss: 1.4770, Accuracy: 44.40%\n",
      "Epoch 10/10, Loss: 1.3993, Accuracy: 47.34%\n"
     ]
    }
   ],
   "source": [
    "# Обучение Simple RNN\n",
    "print(\"Training Simple RNN Model:\")\n",
    "loss_rnn, acc_rnn = train_model(model_rnn, train_loader, test_loader, num_epochs=10)"
   ]
  },
  {
   "cell_type": "code",
   "execution_count": 14,
   "id": "9ceedf53-fc47-4630-97cc-ab5768cc7bac",
   "metadata": {},
   "outputs": [
    {
     "name": "stdout",
     "output_type": "stream",
     "text": [
      "\n",
      "Training LSTM Model:\n",
      "Epoch 1/10, Loss: 2.2758, Accuracy: 18.93%\n",
      "Epoch 2/10, Loss: 2.1323, Accuracy: 31.96%\n",
      "Epoch 3/10, Loss: 1.5795, Accuracy: 63.43%\n",
      "Epoch 4/10, Loss: 0.9190, Accuracy: 90.92%\n",
      "Epoch 5/10, Loss: 0.5264, Accuracy: 99.17%\n",
      "Epoch 6/10, Loss: 0.3166, Accuracy: 99.97%\n",
      "Epoch 7/10, Loss: 0.2002, Accuracy: 100.00%\n",
      "Epoch 8/10, Loss: 0.1370, Accuracy: 100.00%\n",
      "Epoch 9/10, Loss: 0.0996, Accuracy: 100.00%\n",
      "Epoch 10/10, Loss: 0.0756, Accuracy: 100.00%\n"
     ]
    }
   ],
   "source": [
    "# Обучение LSTM\n",
    "print(\"\\nTraining LSTM Model:\")\n",
    "loss_lstm, acc_lstm = train_model(model_lstm, train_loader, test_loader, num_epochs=10)"
   ]
  },
  {
   "cell_type": "code",
   "execution_count": 15,
   "id": "a5114d86-672c-4252-a674-40db7d88ceca",
   "metadata": {},
   "outputs": [
    {
     "name": "stdout",
     "output_type": "stream",
     "text": [
      "\n",
      "Training GRU Model:\n",
      "Epoch 1/10, Loss: 2.2755, Accuracy: 18.81%\n",
      "Epoch 2/10, Loss: 2.2089, Accuracy: 21.48%\n",
      "Epoch 3/10, Loss: 2.0406, Accuracy: 32.02%\n",
      "Epoch 4/10, Loss: 1.6869, Accuracy: 50.37%\n",
      "Epoch 5/10, Loss: 1.2729, Accuracy: 73.67%\n",
      "Epoch 6/10, Loss: 0.8710, Accuracy: 90.70%\n",
      "Epoch 7/10, Loss: 0.5739, Accuracy: 97.01%\n",
      "Epoch 8/10, Loss: 0.3820, Accuracy: 99.36%\n",
      "Epoch 9/10, Loss: 0.2622, Accuracy: 99.74%\n",
      "Epoch 10/10, Loss: 0.1916, Accuracy: 99.89%\n"
     ]
    }
   ],
   "source": [
    "# Обучение GRU\n",
    "print(\"\\nTraining GRU Model:\")\n",
    "loss_gru, acc_gru = train_model(model_gru, train_loader, test_loader, num_epochs=10)"
   ]
  },
  {
   "cell_type": "markdown",
   "id": "7add9467-d938-4b00-a14c-d1eb4423ddd1",
   "metadata": {},
   "source": [
    "### Построение графиков для сравнения моделей"
   ]
  },
  {
   "cell_type": "code",
   "execution_count": 16,
   "id": "b20ee328-cb26-426e-85e3-e3d6b22b5cfc",
   "metadata": {},
   "outputs": [
    {
     "data": {
      "image/png": "[encoded data removed]",
      "text/plain": [
       "<Figure size 1000x500 with 1 Axes>"
      ]
     },
     "metadata": {},
     "output_type": "display_data"
    },
    {
     "data": {
      "image/png": "[encoded data removed]",
      "text/plain": [
       "<Figure size 1000x500 with 1 Axes>"
      ]
     },
     "metadata": {},
     "output_type": "display_data"
    }
   ],
   "source": [
    "import matplotlib.pyplot as plt\n",
    "\n",
    "# График функции потерь\n",
    "plt.figure(figsize=(10,5))\n",
    "plt.plot(loss_rnn, label='RNN')\n",
    "plt.plot(loss_lstm, label='LSTM')\n",
    "plt.plot(loss_gru, label='GRU')\n",
    "plt.title('График функции потерь')\n",
    "plt.xlabel('Эпоха')\n",
    "plt.ylabel('Потеря')\n",
    "plt.legend()\n",
    "plt.show()\n",
    "\n",
    "# График точности\n",
    "plt.figure(figsize=(10,5))\n",
    "plt.plot(acc_rnn, label='RNN')\n",
    "plt.plot(acc_lstm, label='LSTM')\n",
    "plt.plot(acc_gru, label='GRU')\n",
    "plt.title('График точности на тестовом наборе')\n",
    "plt.xlabel('Эпоха')\n",
    "plt.ylabel('Точность (%)')\n",
    "plt.legend()\n",
    "plt.show()"
   ]
  },
  {
   "cell_type": "markdown",
   "id": "4d5d2b05-6d81-4fa9-b3fe-a20dfaf35a6d",
   "metadata": {},
   "source": [
    "### Проверка моделей на отдельных примерах"
   ]
  },
  {
   "cell_type": "code",
   "execution_count": 17,
   "id": "ffcf15d8-7783-4d8d-8f12-20701d2cf569",
   "metadata": {},
   "outputs": [
    {
     "name": "stdout",
     "output_type": "stream",
     "text": [
      "Входная последовательность x: [1 7 2 2 0 3 9 9 1 0]\n",
      "Истинная последовательность y: [1 8 3 3 1 4 0 0 2 1]\n",
      "Предсказание RNN:  [1 2 8 8 7 6 7 7 2 6]\n",
      "Предсказание LSTM: [1 8 3 3 1 4 0 0 2 1]\n",
      "Предсказание GRU:  [1 8 3 3 1 4 0 0 2 1]\n"
     ]
    }
   ],
   "source": [
    "def test_example(model, x_seq):\n",
    "    model.eval()\n",
    "    x_tensor = torch.tensor(x_seq, dtype=torch.long).unsqueeze(0)\n",
    "    with torch.no_grad():\n",
    "        outputs = model(x_tensor)\n",
    "        predictions = torch.argmax(outputs, dim=2)\n",
    "    return predictions.squeeze().numpy()\n",
    "\n",
    "# Выбор примера из тестового набора\n",
    "x_example, y_true = test_data[0]\n",
    "y_pred_rnn = test_example(model_rnn, x_example)\n",
    "y_pred_lstm = test_example(model_lstm, x_example)\n",
    "y_pred_gru = test_example(model_gru, x_example)\n",
    "\n",
    "print(f\"Входная последовательность x: {x_example}\")\n",
    "print(f\"Истинная последовательность y: {y_true}\")\n",
    "print(f\"Предсказание RNN:  {y_pred_rnn}\")\n",
    "print(f\"Предсказание LSTM: {y_pred_lstm}\")\n",
    "print(f\"Предсказание GRU:  {y_pred_gru}\")"
   ]
  },
  {
   "cell_type": "markdown",
   "id": "cc667a69-c43c-4e3c-9866-0e9e84146e82",
   "metadata": {},
   "source": [
    "## Шаги, выполненные в работе\n",
    "1) **Генерация данных:**\n",
    "\n",
    "    - Создал функцию для генерации последовательностей **x** и соответствующих им **y** по заданному правилу.\n",
    "    - Сгенерировал датасет из 10,000 образцов с длиной последовательности 10.\n",
    "      \n",
    "2) **Подготовка данных:**\n",
    "\n",
    "    - Разделил данные на обучающую и тестовую выборки в соотношении 80/20.\n",
    "    - Создал классы **Dataset** и **DataLoader** для удобной подачи данных в модели.\n",
    "      \n",
    "3) **Определение моделей:**\n",
    "\n",
    "    - Реализовал общий класс **BaseModel**, который в зависимости от параметра **rnn_type** использует либо **RNN**, либо **LSTM**, либо **GRU**.\n",
    "    - Каждая модель состоит из следующих слоев:\n",
    "        a) **Embedding** для преобразования входных цифр в векторные представления.\n",
    "        b) Рекуррентный слой (**RNN**, **LSTM** или **GRU**).\n",
    "        c) Полносвязный слой **Linear** для получения выходных предсказаний.\n",
    "      \n",
    "4) **Обучение моделей:**\n",
    "\n",
    "    - Обучил каждую модель на протяжении 10 эпох.\n",
    "    - Использовал функцию потерь **CrossEntropyLoss** и оптимизатор **Adam**.\n",
    "    - Сохранял историю потерь и точности для последующего анализа.\n",
    "      \n",
    "5) **Оценка моделей:**\n",
    "\n",
    "    - После каждой эпохи вычислял точность на тестовой выборке.\n",
    "    - Построил графики функции потерь и точности для каждой модели.\n",
    "    - Провел тестирование на отдельном примере из тестового набора данных."
   ]
  },
  {
   "cell_type": "markdown",
   "id": "44bfa7aa-85e3-428d-9357-1c0baf385024",
   "metadata": {},
   "source": [
    "## Анализ результатов\n",
    "1) **Simple RNN:**\n",
    "\n",
    "    - Обучение шло медленно, и за 10 эпох модель достигла точности ~47%.\n",
    "    - На тестовом примере модель выдала неверные предсказания, что указывает на проблемы с запоминанием длинных зависимостей.\n",
    "      \n",
    "2) **LSTM и GRU:**\n",
    "\n",
    "    - Обе модели показали быстрый рост точности уже на первых эпохах.\n",
    "    - К 5-й эпохе точность превысила 90%, а к 10-й — приблизилась к 100%.\n",
    "    - На тестовом примере предсказания полностью совпали с истинными значениями."
   ]
  },
  {
   "cell_type": "markdown",
   "id": "0daa28fd-5347-468c-9662-afc0ce1eaa47",
   "metadata": {},
   "source": [
    "## Выводы\n",
    "\n",
    "- **LSTM** и **GRU** значительно превосходят **Simple RNN** в данной задаче. Это объясняется тем, что они эффективно справляются с запоминанием долгосрочных зависимостей благодаря своим архитектурам, использующим механизмы забывания и запоминания информации.\n",
    "- **Simple RNN** страдает от проблемы затухающих градиентов, что препятствует эффективному обучению на более длинных последовательностях.\n",
    "- **Графики функции потерь и точности** подтверждают, что **LSTM** и **GRU** сходятся быстрее и достигают более высоких результатов по сравнению с **Simple RNN**."
   ]
  },
  {
   "cell_type": "markdown",
   "id": "b4c4c329-e636-4999-9a69-521e53966a28",
   "metadata": {},
   "source": [
    "## Заключение\n",
    "В результате работы я убедился в преимуществах использования более сложных архитектур рекуррентных нейронных сетей, таких как **LSTM** и **GRU**, для задач, требующих запоминания долгосрочных зависимостей. Эти модели продемонстрировали высокую точность и стабильность обучения. В дальнейшем планирую экспериментировать с гиперпараметрами и дополнительными методами регуляризации, чтобы еще больше улучшить результаты и понять возможности моделей в различных условиях."
   ]
  }
 ],
 "metadata": {
  "kernelspec": {
   "display_name": "Python 3 (ipykernel)",
   "language": "python",
   "name": "python3"
  },
  "language_info": {
   "codemirror_mode": {
    "name": "ipython",
    "version": 3
   },
   "file_extension": ".py",
   "mimetype": "text/x-python",
   "name": "python",
   "nbconvert_exporter": "python",
   "pygments_lexer": "ipython3",
   "version": "3.9.20"
  }
 },
 "nbformat": 4,
 "nbformat_minor": 5
}
