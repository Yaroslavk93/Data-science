{
 "cells": [
  {
   "cell_type": "markdown",
   "id": "9ed396e6-6e24-4b2c-a876-a84a113daf50",
   "metadata": {},
   "source": [
    "# Деревья решений"
   ]
  },
  {
   "cell_type": "markdown",
   "id": "5244f84f-acec-42cc-a83e-d4dab847069a",
   "metadata": {},
   "source": [
    "### **Цель:** изучить применение дерева решений в рамках задачи регрессии"
   ]
  },
  {
   "cell_type": "markdown",
   "id": "91357c47-333d-447a-99e6-67a45742f180",
   "metadata": {},
   "source": [
    "1. **Загрузим [dataset](https://scikit-learn.org/stable/modules/generated/sklearn.datasets.fetch_california_housing.html) и получим данные**"
   ]
  },
  {
   "cell_type": "code",
   "execution_count": 1,
   "id": "6c7e3e3f-6526-413c-8180-3b77f8b90953",
   "metadata": {
    "tags": []
   },
   "outputs": [],
   "source": [
    "import pandas as pd\n",
    "from sklearn.datasets import fetch_california_housing"
   ]
  },
  {
   "cell_type": "code",
   "execution_count": 2,
   "id": "3f57292f-d94d-43c3-b14e-328fd732d4d3",
   "metadata": {
    "tags": []
   },
   "outputs": [],
   "source": [
    "# Загрузка датасета\n",
    "california_housing = fetch_california_housing()"
   ]
  },
  {
   "cell_type": "code",
   "execution_count": 3,
   "id": "1e84aabd-20de-42aa-9fa7-91af05a5d62a",
   "metadata": {
    "tags": []
   },
   "outputs": [],
   "source": [
    "# Создание DataFrame\n",
    "data = pd.DataFrame(california_housing.data, columns=california_housing.feature_names)\n",
    "data['MedHouseVal'] = california_housing.target"
   ]
  },
  {
   "cell_type": "code",
   "execution_count": 4,
   "id": "e3853dde-d952-475b-af04-6675e4848e04",
   "metadata": {
    "tags": []
   },
   "outputs": [
    {
     "data": {
      "text/html": [
       "<div>\n",
       "<style scoped>\n",
       "    .dataframe tbody tr th:only-of-type {\n",
       "        vertical-align: middle;\n",
       "    }\n",
       "\n",
       "    .dataframe tbody tr th {\n",
       "        vertical-align: top;\n",
       "    }\n",
       "\n",
       "    .dataframe thead th {\n",
       "        text-align: right;\n",
       "    }\n",
       "</style>\n",
       "<table border=\"1\" class=\"dataframe\">\n",
       "  <thead>\n",
       "    <tr style=\"text-align: right;\">\n",
       "      <th></th>\n",
       "      <th>MedInc</th>\n",
       "      <th>HouseAge</th>\n",
       "      <th>AveRooms</th>\n",
       "      <th>AveBedrms</th>\n",
       "      <th>Population</th>\n",
       "      <th>AveOccup</th>\n",
       "      <th>Latitude</th>\n",
       "      <th>Longitude</th>\n",
       "      <th>MedHouseVal</th>\n",
       "    </tr>\n",
       "  </thead>\n",
       "  <tbody>\n",
       "    <tr>\n",
       "      <th>0</th>\n",
       "      <td>8.3252</td>\n",
       "      <td>41.0</td>\n",
       "      <td>6.984127</td>\n",
       "      <td>1.023810</td>\n",
       "      <td>322.0</td>\n",
       "      <td>2.555556</td>\n",
       "      <td>37.88</td>\n",
       "      <td>-122.23</td>\n",
       "      <td>4.526</td>\n",
       "    </tr>\n",
       "    <tr>\n",
       "      <th>1</th>\n",
       "      <td>8.3014</td>\n",
       "      <td>21.0</td>\n",
       "      <td>6.238137</td>\n",
       "      <td>0.971880</td>\n",
       "      <td>2401.0</td>\n",
       "      <td>2.109842</td>\n",
       "      <td>37.86</td>\n",
       "      <td>-122.22</td>\n",
       "      <td>3.585</td>\n",
       "    </tr>\n",
       "    <tr>\n",
       "      <th>2</th>\n",
       "      <td>7.2574</td>\n",
       "      <td>52.0</td>\n",
       "      <td>8.288136</td>\n",
       "      <td>1.073446</td>\n",
       "      <td>496.0</td>\n",
       "      <td>2.802260</td>\n",
       "      <td>37.85</td>\n",
       "      <td>-122.24</td>\n",
       "      <td>3.521</td>\n",
       "    </tr>\n",
       "    <tr>\n",
       "      <th>3</th>\n",
       "      <td>5.6431</td>\n",
       "      <td>52.0</td>\n",
       "      <td>5.817352</td>\n",
       "      <td>1.073059</td>\n",
       "      <td>558.0</td>\n",
       "      <td>2.547945</td>\n",
       "      <td>37.85</td>\n",
       "      <td>-122.25</td>\n",
       "      <td>3.413</td>\n",
       "    </tr>\n",
       "    <tr>\n",
       "      <th>4</th>\n",
       "      <td>3.8462</td>\n",
       "      <td>52.0</td>\n",
       "      <td>6.281853</td>\n",
       "      <td>1.081081</td>\n",
       "      <td>565.0</td>\n",
       "      <td>2.181467</td>\n",
       "      <td>37.85</td>\n",
       "      <td>-122.25</td>\n",
       "      <td>3.422</td>\n",
       "    </tr>\n",
       "  </tbody>\n",
       "</table>\n",
       "</div>"
      ],
      "text/plain": [
       "   MedInc  HouseAge  AveRooms  AveBedrms  Population  AveOccup  Latitude  \\\n",
       "0  8.3252      41.0  6.984127   1.023810       322.0  2.555556     37.88   \n",
       "1  8.3014      21.0  6.238137   0.971880      2401.0  2.109842     37.86   \n",
       "2  7.2574      52.0  8.288136   1.073446       496.0  2.802260     37.85   \n",
       "3  5.6431      52.0  5.817352   1.073059       558.0  2.547945     37.85   \n",
       "4  3.8462      52.0  6.281853   1.081081       565.0  2.181467     37.85   \n",
       "\n",
       "   Longitude  MedHouseVal  \n",
       "0    -122.23        4.526  \n",
       "1    -122.22        3.585  \n",
       "2    -122.24        3.521  \n",
       "3    -122.25        3.413  \n",
       "4    -122.25        3.422  "
      ]
     },
     "execution_count": 4,
     "metadata": {},
     "output_type": "execute_result"
    }
   ],
   "source": [
    "data.head()"
   ]
  },
  {
   "cell_type": "markdown",
   "id": "cd36721f-fcb7-4885-8f3b-a00e71dc7b8d",
   "metadata": {},
   "source": [
    "2. **Проведите первичный анализ.**  \n",
    "  \n",
    "    a.Проверьте данные на пропуски. Удалите в случае обнаружения.  \n",
    "    b.*Нормализуйте один из признаков."
   ]
  },
  {
   "cell_type": "code",
   "execution_count": 5,
   "id": "9831338c-c42f-4864-b3cc-a5f37536a1c1",
   "metadata": {
    "tags": []
   },
   "outputs": [
    {
     "data": {
      "text/plain": [
       "MedInc         0\n",
       "HouseAge       0\n",
       "AveRooms       0\n",
       "AveBedrms      0\n",
       "Population     0\n",
       "AveOccup       0\n",
       "Latitude       0\n",
       "Longitude      0\n",
       "MedHouseVal    0\n",
       "dtype: int64"
      ]
     },
     "execution_count": 5,
     "metadata": {},
     "output_type": "execute_result"
    }
   ],
   "source": [
    "# Проверка на наличие пропусков в данных\n",
    "data.isnull().sum()"
   ]
  },
  {
   "cell_type": "markdown",
   "id": "faca27ad-623d-4e90-b52e-5a5f90086324",
   "metadata": {},
   "source": [
    "Для нормализации я выберу признак MedInc (средний доход), так как он может сильно варьироваться и влиять на результаты модели. "
   ]
  },
  {
   "cell_type": "code",
   "execution_count": 6,
   "id": "27bbf865-65c8-4b7c-b561-df0350789060",
   "metadata": {
    "tags": []
   },
   "outputs": [
    {
     "data": {
      "text/html": [
       "<div>\n",
       "<style scoped>\n",
       "    .dataframe tbody tr th:only-of-type {\n",
       "        vertical-align: middle;\n",
       "    }\n",
       "\n",
       "    .dataframe tbody tr th {\n",
       "        vertical-align: top;\n",
       "    }\n",
       "\n",
       "    .dataframe thead th {\n",
       "        text-align: right;\n",
       "    }\n",
       "</style>\n",
       "<table border=\"1\" class=\"dataframe\">\n",
       "  <thead>\n",
       "    <tr style=\"text-align: right;\">\n",
       "      <th></th>\n",
       "      <th>MedInc</th>\n",
       "      <th>HouseAge</th>\n",
       "      <th>AveRooms</th>\n",
       "      <th>AveBedrms</th>\n",
       "      <th>Population</th>\n",
       "      <th>AveOccup</th>\n",
       "      <th>Latitude</th>\n",
       "      <th>Longitude</th>\n",
       "      <th>MedHouseVal</th>\n",
       "    </tr>\n",
       "  </thead>\n",
       "  <tbody>\n",
       "    <tr>\n",
       "      <th>0</th>\n",
       "      <td>0.539668</td>\n",
       "      <td>41.0</td>\n",
       "      <td>6.984127</td>\n",
       "      <td>1.023810</td>\n",
       "      <td>322.0</td>\n",
       "      <td>2.555556</td>\n",
       "      <td>37.88</td>\n",
       "      <td>-122.23</td>\n",
       "      <td>4.526</td>\n",
       "    </tr>\n",
       "    <tr>\n",
       "      <th>1</th>\n",
       "      <td>0.538027</td>\n",
       "      <td>21.0</td>\n",
       "      <td>6.238137</td>\n",
       "      <td>0.971880</td>\n",
       "      <td>2401.0</td>\n",
       "      <td>2.109842</td>\n",
       "      <td>37.86</td>\n",
       "      <td>-122.22</td>\n",
       "      <td>3.585</td>\n",
       "    </tr>\n",
       "    <tr>\n",
       "      <th>2</th>\n",
       "      <td>0.466028</td>\n",
       "      <td>52.0</td>\n",
       "      <td>8.288136</td>\n",
       "      <td>1.073446</td>\n",
       "      <td>496.0</td>\n",
       "      <td>2.802260</td>\n",
       "      <td>37.85</td>\n",
       "      <td>-122.24</td>\n",
       "      <td>3.521</td>\n",
       "    </tr>\n",
       "    <tr>\n",
       "      <th>3</th>\n",
       "      <td>0.354699</td>\n",
       "      <td>52.0</td>\n",
       "      <td>5.817352</td>\n",
       "      <td>1.073059</td>\n",
       "      <td>558.0</td>\n",
       "      <td>2.547945</td>\n",
       "      <td>37.85</td>\n",
       "      <td>-122.25</td>\n",
       "      <td>3.413</td>\n",
       "    </tr>\n",
       "    <tr>\n",
       "      <th>4</th>\n",
       "      <td>0.230776</td>\n",
       "      <td>52.0</td>\n",
       "      <td>6.281853</td>\n",
       "      <td>1.081081</td>\n",
       "      <td>565.0</td>\n",
       "      <td>2.181467</td>\n",
       "      <td>37.85</td>\n",
       "      <td>-122.25</td>\n",
       "      <td>3.422</td>\n",
       "    </tr>\n",
       "  </tbody>\n",
       "</table>\n",
       "</div>"
      ],
      "text/plain": [
       "     MedInc  HouseAge  AveRooms  AveBedrms  Population  AveOccup  Latitude  \\\n",
       "0  0.539668      41.0  6.984127   1.023810       322.0  2.555556     37.88   \n",
       "1  0.538027      21.0  6.238137   0.971880      2401.0  2.109842     37.86   \n",
       "2  0.466028      52.0  8.288136   1.073446       496.0  2.802260     37.85   \n",
       "3  0.354699      52.0  5.817352   1.073059       558.0  2.547945     37.85   \n",
       "4  0.230776      52.0  6.281853   1.081081       565.0  2.181467     37.85   \n",
       "\n",
       "   Longitude  MedHouseVal  \n",
       "0    -122.23        4.526  \n",
       "1    -122.22        3.585  \n",
       "2    -122.24        3.521  \n",
       "3    -122.25        3.413  \n",
       "4    -122.25        3.422  "
      ]
     },
     "execution_count": 6,
     "metadata": {},
     "output_type": "execute_result"
    }
   ],
   "source": [
    "# Нормализация признака MedInc с использованием Min-Max нормализации\n",
    "from sklearn.preprocessing import MinMaxScaler\n",
    "\n",
    "# Инициализация MinMaxScaler\n",
    "scaler = MinMaxScaler()\n",
    "\n",
    "# Нормализация признака MedInc\n",
    "data['MedInc'] = scaler.fit_transform(data[['MedInc']])\n",
    "\n",
    "# Проверка результатов\n",
    "data.head()"
   ]
  },
  {
   "cell_type": "markdown",
   "id": "fb82dd0a-a950-4cd7-aaa0-ccd908e11fee",
   "metadata": {},
   "source": [
    "Значения MedInc теперь находятся в диапазоне от 0 до 1, что улучшит производительность и точность алгоритмов машинного обучения при использовании этого набора данных."
   ]
  },
  {
   "cell_type": "markdown",
   "id": "15eb8b6d-ceef-4f95-87e0-12a5c2422754",
   "metadata": {},
   "source": [
    "3. **Разделите выборку на обучающее и тестовое подмножества. 80% данных оставить на обучающее множество, 20% - на тестовое.**"
   ]
  },
  {
   "cell_type": "code",
   "execution_count": 8,
   "id": "b10e02b4-0138-4eee-8632-efa79ac5b89e",
   "metadata": {
    "tags": []
   },
   "outputs": [
    {
     "data": {
      "text/plain": [
       "{'X_train': (16512, 8),\n",
       " 'X_test': (4128, 8),\n",
       " 'y_train': (16512,),\n",
       " 'y_test': (4128,)}"
      ]
     },
     "execution_count": 8,
     "metadata": {},
     "output_type": "execute_result"
    }
   ],
   "source": [
    "from sklearn.model_selection import train_test_split\n",
    "\n",
    "# Определение признаков (X) и целевой переменной (y)\n",
    "X = data.drop('MedHouseVal', axis=1)\n",
    "y = data['MedHouseVal']\n",
    "\n",
    "# Разделение данных на обучающую и тестовую выборку\n",
    "X_train, X_test, y_train, y_test = train_test_split(X, y, test_size=0.2, random_state=42)\n",
    "\n",
    "# Проверка размеров полученных наборов данных\n",
    "train_test_sizes = {\n",
    "    \"X_train\": X_train.shape,\n",
    "    \"X_test\": X_test.shape,\n",
    "    \"y_train\": y_train.shape,\n",
    "    \"y_test\": y_test.shape\n",
    "}\n",
    "\n",
    "train_test_sizes"
   ]
  },
  {
   "cell_type": "markdown",
   "id": "7a165783-ddf7-4baa-ae74-7ec122cc5f8a",
   "metadata": {},
   "source": [
    "4. **Обучите [модель регрессии]('https://scikit-learn.org/stable/modules/generated/sklearn.linear_model.LinearRegression.html') на обучающем множестве.**"
   ]
  },
  {
   "cell_type": "code",
   "execution_count": 9,
   "id": "2c55b529-84be-48ec-9164-f20342cc92bc",
   "metadata": {
    "tags": []
   },
   "outputs": [
    {
     "data": {
      "text/plain": [
       "array([ 6.50587593e+00,  9.72425752e-03, -1.23323343e-01,  7.83144907e-01,\n",
       "       -2.02962058e-06, -3.52631849e-03, -4.19792487e-01, -4.33708065e-01])"
      ]
     },
     "execution_count": 9,
     "metadata": {},
     "output_type": "execute_result"
    }
   ],
   "source": [
    "from sklearn.linear_model import LinearRegression\n",
    "\n",
    "# Создание и обучение модели линейной регрессии\n",
    "linear_reg_model = LinearRegression()\n",
    "linear_reg_model.fit(X_train, y_train)\n",
    "\n",
    "linear_reg_model.coef_"
   ]
  },
  {
   "cell_type": "markdown",
   "id": "f21a0017-5096-40b3-906e-ebc0cc1e5593",
   "metadata": {},
   "source": [
    "Высокие положительные значения (например, для MedInc и AveBedrms) указывают на сильное положительное влияние этих признаков на целевую переменную.  \n",
    "  \n",
    "Отрицательные значения (например, для AveRooms, Latitude, и Longitude) показывают, что увеличение этих признаков связано с уменьшением целевой переменной."
   ]
  },
  {
   "cell_type": "markdown",
   "id": "c43da0d4-fbdd-4f38-bf68-11c0a94dc46c",
   "metadata": {},
   "source": [
    "5. **Для тестового множества предскажите целевую переменную и сравните с истинным значением, посчитав точность предсказания модели. Для этого используйте встроенную функцию score.**"
   ]
  },
  {
   "cell_type": "code",
   "execution_count": 10,
   "id": "f9c1131a-d445-44f4-a0cc-09c27724d69a",
   "metadata": {
    "tags": []
   },
   "outputs": [
    {
     "data": {
      "text/plain": [
       "0.5757877060324511"
      ]
     },
     "execution_count": 10,
     "metadata": {},
     "output_type": "execute_result"
    }
   ],
   "source": [
    "# Предсказание на тестовом множестве\n",
    "y_pred = linear_reg_model.predict(X_test)\n",
    "\n",
    "# Оценка точности модели на тестовых данных\n",
    "model_accuracy = linear_reg_model.score(X_test, y_test)\n",
    "\n",
    "model_accuracy"
   ]
  },
  {
   "cell_type": "markdown",
   "id": "52441f23-716b-47eb-9f68-19a3a009b6e1",
   "metadata": {},
   "source": [
    "**Вывод:** Модель показывает не самый лучший результат, что требует дополнительной обработки данных или более сложных моделей."
   ]
  },
  {
   "cell_type": "markdown",
   "id": "d6834144-703b-4017-a4b1-43d82a1c7f78",
   "metadata": {},
   "source": [
    "6. **Обучите [дерево решений]('https://scikit-learn.org/stable/modules/generated/sklearn.tree.DecisionTreeRegressor.html') на обучающем множестве.**  \n",
    "  \n",
    "    a. Повторите п. 5 для полученной модели.  \n",
    "    b. Визуализируйте часть дерева решений. Убедитесь, что график получился читабельным. Посмотрите примеры визуализации по [ссылке]('https://mljar.com/blog/visualize-decision-tree/')."
   ]
  },
  {
   "cell_type": "code",
   "execution_count": 14,
   "id": "0d526f32-6d9c-4f31-95b4-2396526e6414",
   "metadata": {
    "tags": []
   },
   "outputs": [
    {
     "data": {
      "image/png": "[encoded data removed]",
      "text/plain": [
       "<Figure size 2000x1000 with 1 Axes>"
      ]
     },
     "metadata": {},
     "output_type": "display_data"
    },
    {
     "data": {
      "text/plain": [
       "0.622075845135081"
      ]
     },
     "execution_count": 14,
     "metadata": {},
     "output_type": "execute_result"
    }
   ],
   "source": [
    "from sklearn.tree import DecisionTreeRegressor, plot_tree\n",
    "import matplotlib.pyplot as plt\n",
    "\n",
    "# Обучение модели дерева решений\n",
    "decision_tree_model = DecisionTreeRegressor(random_state=42)\n",
    "decision_tree_model.fit(X_train, y_train)\n",
    "\n",
    "# Оценка точности модели на тестовых данных\n",
    "tree_model_accuracy = decision_tree_model.score(X_test, y_test)\n",
    "\n",
    "# Визуализация части дерева решений\n",
    "plt.figure(figsize=(20,10))\n",
    "plot_tree(decision_tree_model, max_depth=2, feature_names=X.columns.tolist(), filled=True, fontsize=10)\n",
    "plt.show()\n",
    "\n",
    "tree_model_accuracy"
   ]
  },
  {
   "cell_type": "markdown",
   "id": "8717f8c4-fb41-4e5a-b857-9026e91c31ea",
   "metadata": {},
   "source": [
    "**Точность модели:** Модель дерева решений показала точность около 0.622 на тестовом множестве, что указывает на её способность объяснить примерно 62.2% вариабельности целевой переменной.  \n",
    "  \n",
    "**Визуализация дерева решений:**  \n",
    "\n",
    "    - Представлена часть дерева решений с максимальной глубиной 2 для наглядности.\n",
    "    - узлах дерева отображаются условия разделения, количество образцов, среднее значение и цвет, отображающий преобладающий класс."
   ]
  },
  {
   "cell_type": "markdown",
   "id": "5b75524f-2b97-4343-b774-d49f318e71d6",
   "metadata": {},
   "source": [
    "**Вывод:** Дерево решений показало себя более эффективным инструментом для моделирования и предсказания стоимости домов в данном наборе данных."
   ]
  },
  {
   "cell_type": "markdown",
   "id": "b015c286-ccc2-4419-acb3-64fcb6d627b4",
   "metadata": {},
   "source": [
    "7. **Оптимизируйте глубину дерева (max_depth). Оптимизируйте ещё один параметр модели на выбор.**\n",
    "\n",
    "    a. Повторите п. 5 для полученной модели. "
   ]
  },
  {
   "cell_type": "markdown",
   "id": "3293c2a0-7e7a-4cf7-aad9-ffa26cf536a5",
   "metadata": {},
   "source": [
    "Для поиска оптимальных значений использую поиск по сетке (Grid Search) с кросс-валидацией."
   ]
  },
  {
   "cell_type": "code",
   "execution_count": 15,
   "id": "0eb380d6-0322-45d7-ae7a-19f78afe88f0",
   "metadata": {
    "tags": []
   },
   "outputs": [
    {
     "data": {
      "text/plain": [
       "({'max_depth': 10, 'min_samples_split': 20}, 0.7025485067541957)"
      ]
     },
     "execution_count": 15,
     "metadata": {},
     "output_type": "execute_result"
    }
   ],
   "source": [
    "from sklearn.model_selection import GridSearchCV\n",
    "\n",
    "# Параметры для Grid Search\n",
    "param_grid = {\n",
    "    'max_depth': [5, 10, 15, 20, 25, 30],\n",
    "    'min_samples_split': [2, 5, 10, 15, 20]\n",
    "}\n",
    "\n",
    "# Создание модели дерева решений для Grid Search\n",
    "dtree = DecisionTreeRegressor(random_state=42)\n",
    "\n",
    "# Grid Search с кросс-валидацией\n",
    "grid_search = GridSearchCV(dtree, param_grid, cv=5, scoring='r2', return_train_score=True)\n",
    "grid_search.fit(X_train, y_train)\n",
    "\n",
    "# Лучшие параметры и их точность\n",
    "best_params = grid_search.best_params_\n",
    "best_score = grid_search.best_score_\n",
    "\n",
    "best_params, best_score"
   ]
  },
  {
   "cell_type": "markdown",
   "id": "bc65fc6e-93d3-4c47-afea-020a0647d826",
   "metadata": {},
   "source": [
    "Найденная комбинация max_depth и min_samples_split значительно улучшила точность модели по сравнению с исходной.  \n",
    "  \n",
    "Оптимизированная глубина дерева (10) и минимальное количество образцов для разделения (20) обеспечивают баланс между избежанием переобучения и достаточной глубиной для захвата важных особенностей данных."
   ]
  },
  {
   "cell_type": "code",
   "execution_count": 16,
   "id": "44365f88-3b42-402e-8637-cbdad5e3b39f",
   "metadata": {
    "tags": []
   },
   "outputs": [
    {
     "data": {
      "text/plain": [
       "0.69237655653033"
      ]
     },
     "execution_count": 16,
     "metadata": {},
     "output_type": "execute_result"
    }
   ],
   "source": [
    "# Обучение модели дерева решений с оптимизированными параметрами\n",
    "optimized_tree_model = DecisionTreeRegressor(max_depth=best_params['max_depth'], \n",
    "                                             min_samples_split=best_params['min_samples_split'], \n",
    "                                             random_state=42)\n",
    "optimized_tree_model.fit(X_train, y_train)\n",
    "\n",
    "# Оценка точности оптимизированной модели на тестовом множестве\n",
    "optimized_tree_accuracy = optimized_tree_model.score(X_test, y_test)\n",
    "\n",
    "optimized_tree_accuracy"
   ]
  },
  {
   "cell_type": "markdown",
   "id": "2d89f998-15b8-4c92-b582-931becbb4d4e",
   "metadata": {},
   "source": [
    "**Вывод:** Оптимизация параметров max_depth и min_samples_split модели дерева решений позволила улучшить её способность предсказывать целевую переменную на тестовых данных. Точность модели увеличилась до 69.2%"
   ]
  },
  {
   "cell_type": "markdown",
   "id": "4b8da3da-d759-409e-b5e8-1e74af8f33c5",
   "metadata": {},
   "source": [
    "8. **Сформулируйте выводы по проделанной работе.**  \n",
    "  \n",
    "    a. Сравните точность двух моделей.  \n",
    "    b. Напишите свое мнение, для каких задач предпочтительнее использовать обученные в работе модели? Какие у них есть плюсы и минусы?"
   ]
  },
  {
   "cell_type": "markdown",
   "id": "4d88e169-f0fa-4da3-b92d-39817143cb90",
   "metadata": {},
   "source": [
    "**Сравнение точности моделей:**  \n",
    "  \n",
    "**Линейная регрессия:** Точность около 0.575. Эта модель показала средний уровень точности в предсказании стоимости домов.  \n",
    "**Дефолтное дерево решений:** Точность около 0.622. Первоначальная модель дерева решений показала улучшенную производительность по сравнению с линейной регрессией.  \n",
    "**Оптимизированное дерево решений:** Точность увеличилась до примерно 0.692 после оптимизации параметров max_depth и min_samples_split."
   ]
  },
  {
   "cell_type": "markdown",
   "id": "ca887756-3b9e-4a52-ba0b-69e2cbc3bd22",
   "metadata": {},
   "source": [
    "**Выбор модели в зависимости от задач:**  \n",
    "  \n",
    "**Линейная регрессия:** Хорошо подходит для задач, где взаимосвязь между признаками и целевой переменной предполагается линейной. Преимущества включают простоту понимания и интерпретации. Основной недостаток - ограниченность в работе с нелинейными зависимостями.  \n",
    "**Дерево решений:** Лучше подходит для нелинейных взаимосвязей и сложных наборов данных. Преимущества - гибкость и способность моделировать сложные структуры данных. Недостатки - склонность к переобучению (что может быть частично решено оптимизацией параметров) и меньшая интерпретируемость по сравнению с линейной моделью."
   ]
  },
  {
   "cell_type": "markdown",
   "id": "82f084c7-fcac-4826-91bd-dd33f93337ec",
   "metadata": {},
   "source": [
    "**Что можно улучшить:**  \n",
    "\n",
    "В дальнейшем, можно рассмотреть применение ансамблевых методов (например, случайного леса) или более сложных алгоритмов машинного обучения для улучшения точности предсказаний. Эти методы могут помочь в устранении некоторых недостатков базовых моделей, таких как переобучение деревьев решений и ограниченная гибкость линейной регрессии."
   ]
  }
 ],
 "metadata": {
  "kernelspec": {
   "display_name": "Python 3 (ipykernel)",
   "language": "python",
   "name": "python3"
  },
  "language_info": {
   "codemirror_mode": {
    "name": "ipython",
    "version": 3
   },
   "file_extension": ".py",
   "mimetype": "text/x-python",
   "name": "python",
   "nbconvert_exporter": "python",
   "pygments_lexer": "ipython3",
   "version": "3.11.5"
  }
 },
 "nbformat": 4,
 "nbformat_minor": 5
}
