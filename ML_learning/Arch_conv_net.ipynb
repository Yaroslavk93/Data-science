{
 "cells": [
  {
   "cell_type": "markdown",
   "id": "640e6748-961a-4ae2-94be-3903860d786e",
   "metadata": {},
   "source": [
    "# **Архитектуры свёрточных сетей**"
   ]
  },
  {
   "cell_type": "markdown",
   "id": "1f7d574d-9cdc-44f0-97b1-2c0375ca3d56",
   "metadata": {},
   "source": [
    "**Цель задания:** изучить работу с готовыми моделями из библиотеки torchvision."
   ]
  },
  {
   "cell_type": "markdown",
   "id": "8ffe4fc3-b53b-4e25-b73e-303066675999",
   "metadata": {},
   "source": [
    "1) **Загрузим датасет EMNIST из torchvision.**"
   ]
  },
  {
   "cell_type": "code",
   "execution_count": null,
   "id": "4d6931ae-abac-49d6-ac53-13d6da23b396",
   "metadata": {},
   "outputs": [],
   "source": [
    "!pip install torch torchvision matplotlib"
   ]
  },
  {
   "cell_type": "code",
   "execution_count": null,
   "id": "8d158b0a-c6ad-4a23-9b58-5455edb8a634",
   "metadata": {},
   "outputs": [],
   "source": [
    "# ставим последнюю совместимую версию с драйвером и проверяем\n",
    "conda install pytorch==2.4.0 torchvision==0.19.0 torchaudio==2.4.0 pytorch-cuda=12.4 -c pytorch -c nvidia"
   ]
  },
  {
   "cell_type": "code",
   "execution_count": 1,
   "id": "8b59c861-9b81-4188-b801-70443f3f08cb",
   "metadata": {},
   "outputs": [],
   "source": [
    "import torch\n",
    "import torchvision\n",
    "import torchvision.transforms as transforms\n",
    "from torch.utils.data import DataLoader\n",
    "import torch.optim as optim\n",
    "from torch import nn\n",
    "import matplotlib.pyplot as plt"
   ]
  },
  {
   "cell_type": "code",
   "execution_count": 2,
   "id": "c0807c61-b76d-4163-be06-8cc76ebffb41",
   "metadata": {},
   "outputs": [
    {
     "name": "stdout",
     "output_type": "stream",
     "text": [
      "2.4.0\n",
      "True\n",
      "NVIDIA GeForce RTX 3070 Laptop GPU\n"
     ]
    }
   ],
   "source": [
    "# Проверка доступности CUDA (GPU)\n",
    "print(torch.__version__)  # Версия PyTorch\n",
    "print(torch.cuda.is_available())  # True, если GPU доступен\n",
    "if torch.cuda.is_available():\n",
    "    print(torch.cuda.get_device_name(0))  # Имя вашего GPU\n",
    "else:\n",
    "    print(\"CUDA is not available. Please install the NVIDIA driver.\")"
   ]
  },
  {
   "cell_type": "code",
   "execution_count": 3,
   "id": "c76294cb-043b-4512-a866-42cf25c6432c",
   "metadata": {},
   "outputs": [],
   "source": [
    "# Определение устройства для обучения (GPU, если доступно)\n",
    "device = torch.device(\"cuda\" if torch.cuda.is_available() else \"cpu\")"
   ]
  },
  {
   "cell_type": "code",
   "execution_count": 4,
   "id": "ca66c356-809e-4545-ad5b-13b3a6370938",
   "metadata": {},
   "outputs": [],
   "source": [
    "# Функция для выбора оптимального преобразования для каждой модели\n",
    "def get_transform(model_name):\n",
    "    if model_name == 'inception_v3':\n",
    "        # Для Inception v3 используем изображения размером 299x299\n",
    "        return transforms.Compose([\n",
    "            transforms.Grayscale(num_output_channels=3),\n",
    "            transforms.Resize((299, 299)),\n",
    "            transforms.ToTensor()\n",
    "        ])\n",
    "    else:\n",
    "        # Для всех остальных моделей используем изображения 224x224\n",
    "        return transforms.Compose([\n",
    "            transforms.Grayscale(num_output_channels=3),\n",
    "            transforms.Resize((224, 224)),\n",
    "            transforms.ToTensor()\n",
    "        ])"
   ]
  },
  {
   "cell_type": "markdown",
   "id": "c8f0195e-8c23-415f-8199-a662725b40db",
   "metadata": {},
   "source": [
    "2) **Обучим на нём модели: ResNet 18, VGG 16, Inception v3, DenseNet 161:**"
   ]
  },
  {
   "cell_type": "code",
   "execution_count": 5,
   "id": "1f3a1cd5-423d-43c7-9b2a-66424e9dce8f",
   "metadata": {},
   "outputs": [],
   "source": [
    "# Определение моделей и модификация выходных слоев для 27 классов\n",
    "def get_model(name):\n",
    "    if name == 'resnet18':\n",
    "        model = torchvision.models.resnet18(weights=None)  \n",
    "        model.fc = nn.Linear(model.fc.in_features, 27)\n",
    "    elif name == 'vgg16':\n",
    "        model = torchvision.models.vgg16(weights=None)  \n",
    "        model.classifier[6] = nn.Linear(model.classifier[6].in_features, 27)\n",
    "    elif name == 'inception_v3':\n",
    "        model = torchvision.models.inception_v3(weights=None) \n",
    "        model.fc = nn.Linear(model.fc.in_features, 27)\n",
    "    elif name == 'densenet161':\n",
    "        model = torchvision.models.densenet161(weights=None) \n",
    "        model.classifier = nn.Linear(model.classifier.in_features, 27)\n",
    "    return model.to(device)"
   ]
  },
  {
   "cell_type": "code",
   "execution_count": 6,
   "id": "0c626095-42c1-4101-8079-10adc1d64d59",
   "metadata": {},
   "outputs": [],
   "source": [
    "from torch.amp import autocast, GradScaler"
   ]
  },
  {
   "cell_type": "code",
   "execution_count": 7,
   "id": "a08fbfc6-be8a-40cd-b57b-2178b51af30d",
   "metadata": {},
   "outputs": [],
   "source": [
    "def train_model(model, train_loader, test_loader, criterion, optimizer, num_epochs=2):\n",
    "    model.train()\n",
    "    scaler = GradScaler('cuda')  # Указываем устройство явно\n",
    "    train_losses = []\n",
    "    for epoch in range(num_epochs):\n",
    "        running_loss = 0.0\n",
    "        for inputs, labels in train_loader:\n",
    "            inputs, labels = inputs.to(device), labels.to(device)\n",
    "\n",
    "            # Обнуление градиентов\n",
    "            optimizer.zero_grad()\n",
    "\n",
    "            # Прямой проход в режиме смешанной точности\n",
    "            with autocast('cuda'):  # Явно указываем устройство\n",
    "                outputs = model(inputs)\n",
    "\n",
    "                # Проверка, возвращает ли модель Inception v3 два выхода\n",
    "                if isinstance(outputs, torchvision.models.inception.InceptionOutputs):\n",
    "                    # Для Inception v3: Основной и вспомогательный выход\n",
    "                    loss1 = criterion(outputs.logits, labels)\n",
    "                    loss2 = criterion(outputs.aux_logits, labels)\n",
    "                    loss = loss1 + 0.4 * loss2  # Взвешиваем вспомогательный выход\n",
    "                else:\n",
    "                    # Для всех остальных моделей\n",
    "                    loss = criterion(outputs, labels)\n",
    "\n",
    "            # Обратный проход с использованием скейлера\n",
    "            scaler.scale(loss).backward()\n",
    "            scaler.step(optimizer)\n",
    "            scaler.update()\n",
    "\n",
    "            # Сохранение лосса\n",
    "            running_loss += loss.item()\n",
    "\n",
    "        # Очищаем кеш GPU\n",
    "        torch.cuda.empty_cache()\n",
    "\n",
    "        # Средний лосс за эпоху\n",
    "        epoch_loss = running_loss / len(train_loader)\n",
    "        train_losses.append(epoch_loss)\n",
    "        print(f\"Epoch [{epoch+1}/{num_epochs}], Loss: {epoch_loss:.4f}\")\n",
    "    \n",
    "    return train_losses\n"
   ]
  },
  {
   "cell_type": "code",
   "execution_count": 8,
   "id": "c3d65b0a-fcc7-4a82-a812-005b6fd15dea",
   "metadata": {},
   "outputs": [],
   "source": [
    "# Модели для обучения\n",
    "models = ['resnet18', 'vgg16', 'inception_v3', 'densenet161']\n",
    "model_losses = {}"
   ]
  },
  {
   "cell_type": "code",
   "execution_count": 9,
   "id": "740e51a4-27f3-44be-a058-a2fbbd3185ab",
   "metadata": {},
   "outputs": [
    {
     "name": "stdout",
     "output_type": "stream",
     "text": [
      "Training resnet18...\n",
      "Epoch [1/2], Loss: 0.3311\n",
      "Epoch [2/2], Loss: 0.1856\n",
      "Training vgg16...\n",
      "Epoch [1/2], Loss: 3.3192\n",
      "Epoch [2/2], Loss: 3.2587\n",
      "Training inception_v3...\n"
     ]
    },
    {
     "name": "stderr",
     "output_type": "stream",
     "text": [
      "C:\\Users\\Yaros\\anaconda3\\envs\\clean_env\\lib\\site-packages\\torchvision\\models\\inception.py:43: FutureWarning: The default weight initialization of inception_v3 will be changed in future releases of torchvision. If you wish to keep the old behavior (which leads to long initialization times due to scipy/scipy#11299), please set init_weights=True.\n",
      "  warnings.warn(\n"
     ]
    },
    {
     "name": "stdout",
     "output_type": "stream",
     "text": [
      "Epoch [1/2], Loss: 0.5235\n",
      "Epoch [2/2], Loss: 0.3007\n",
      "Training densenet161...\n",
      "Epoch [1/2], Loss: 0.3982\n",
      "Epoch [2/2], Loss: 0.2070\n"
     ]
    }
   ],
   "source": [
    "# Обучение каждой модели\n",
    "for model_name in models:\n",
    "    print(f\"Training {model_name}...\")\n",
    "\n",
    "    # Получаем нужные преобразования для модели\n",
    "    transform = get_transform(model_name)\n",
    "\n",
    "    # Загрузка данных с использованием преобразований\n",
    "    train_dataset = torchvision.datasets.EMNIST(root='./data', split='letters', train=True, download=True, transform=transform)\n",
    "    test_dataset = torchvision.datasets.EMNIST(root='./data', split='letters', train=False, download=True, transform=transform)\n",
    "\n",
    "    # Увеличиваем количество потоков для параллельной загрузки данных\n",
    "    train_loader = DataLoader(train_dataset, batch_size=16, shuffle=True, num_workers=8)\n",
    "    test_loader = DataLoader(test_dataset, batch_size=16, shuffle=False, num_workers=8)\n",
    "\n",
    "    # Получаем модель\n",
    "    model = get_model(model_name)\n",
    "\n",
    "    # Определение функции потерь и оптимизатора\n",
    "    criterion = nn.CrossEntropyLoss()\n",
    "    optimizer = optim.Adam(model.parameters(), lr=0.001)\n",
    "\n",
    "    # Тренировка модели\n",
    "    losses = train_model(model, train_loader, test_loader, criterion, optimizer)\n",
    "    model_losses[model_name] = losses"
   ]
  },
  {
   "cell_type": "markdown",
   "id": "7bd78bf3-f8ba-4895-b54d-8f9d9e663543",
   "metadata": {},
   "source": [
    "3) **Сведём результаты обучения моделей (графики лосса) в таблицу и сравним их.**"
   ]
  },
  {
   "cell_type": "code",
   "execution_count": 13,
   "id": "8d206223-5cc5-446d-b459-b5112cb2a516",
   "metadata": {},
   "outputs": [
    {
     "data": {
      "image/png": "[encoded data removed]",
      "text/plain": [
       "<Figure size 640x480 with 1 Axes>"
      ]
     },
     "metadata": {},
     "output_type": "display_data"
    }
   ],
   "source": [
    "import pandas as pd\n",
    "\n",
    "# Построение графиков потерь (лосса) для каждой модели\n",
    "for model_name, losses in model_losses.items():\n",
    "    plt.plot(range(1, len(losses) + 1), losses, label=model_name)\n",
    "\n",
    "plt.title('Loss per Epoch for Various Models')\n",
    "plt.xlabel('Epoch')\n",
    "plt.ylabel('Loss')\n",
    "plt.legend()\n",
    "plt.grid(True)\n",
    "plt.show()"
   ]
  },
  {
   "cell_type": "code",
   "execution_count": 14,
   "id": "35931f04-0d60-4ef3-9a87-ff04574cfdef",
   "metadata": {},
   "outputs": [
    {
     "name": "stdout",
     "output_type": "stream",
     "text": [
      "Таблица потерь по моделям (Loss per Epoch for each Model):\n",
      "   resnet18     vgg16  inception_v3  densenet161\n",
      "0  0.331068  3.319200      0.523527     0.398242\n",
      "1  0.185644  3.258715      0.300670     0.207031\n"
     ]
    }
   ],
   "source": [
    "# Создание таблицы с результатами потерь\n",
    "loss_data = pd.DataFrame(model_losses)\n",
    "\n",
    "# Отображение таблицы\n",
    "print(\"Таблица потерь по моделям (Loss per Epoch for each Model):\")\n",
    "print(loss_data)"
   ]
  },
  {
   "cell_type": "markdown",
   "id": "58afe807-69e9-494b-854f-c89a60e18335",
   "metadata": {},
   "source": [
    "**Выводы:**  \n",
    "  \n",
    "- *VGG16 показывает самые высокие потери:*\n",
    "  * Лосс для VGG16 остаётся на уровне около 3.3 в обеих эпохах, что указывает на то, что модель либо плохо обучается, либо ей требуется больше эпох, чтобы начать показывать хорошие результаты.\n",
    "  * Высокие потери могут быть следствием сложной архитектуры модели и медленного сходимости, особенно на первых эпохах.  \n",
    "  \n",
    "- *Inception v3 и DenseNet161:*\n",
    "  * Inception v3 и DenseNet161 показывают схожие результаты в плане уменьшения потерь. Оба лосса начали снижаться после первой эпохи.  \n",
    "  * Лосс Inception v3 снизился с 0.5235 до 0.3007, а у DenseNet161 с 0.3982 до 0.2070. Это указывает на то, что обе модели достаточно эффективно обучаются, но DenseNet161 показывает более быструю сходимость (более низкий лосс во второй эпохе).  \n",
    "  \n",
    "- *ResNet18:*\n",
    "  * ResNet18 также показывает хорошие результаты с небольшими потерями. Лосс снизился с 0.3311 до 0.1856, что делает его конкурентом DenseNet161 в плане сходимости.\n",
    "  * Модель ResNet18 сходит быстрее, чем VGG16, и показывает стабильную динамику уменьшения потерь.\n",
    "\n",
    "**О чём это говорит:**  \n",
    "\n",
    "- VGG16 требует больше времени для сходимости. Её обучение на данном этапе идёт медленно, и модель может показывать высокие потери на ранних стадиях.  \n",
    "- ResNet18, Inception v3 и DenseNet161 демонстрируют лучшие результаты, причём DenseNet161 и ResNet18 немного опережают Inception v3.\n",
    "- DenseNet161 и ResNet18 могут оказаться более подходящими моделями для данной задачи, если основной критерий — это быстрая сходимость и низкие потери за короткое время.\n",
    "\n",
    "**Рекомендации:**  \n",
    "\n",
    "- Если ресурсы ограничены и важно быстро получить хорошие результаты, стоит продолжить обучение на ResNet18 или DenseNet161, так как они показывают лучшую сходимость на ранних стадиях.\n",
    "- Если важны конечные результаты и есть возможность подождать, можно продолжить обучение VGG16 или дать ей больше эпох, чтобы увидеть, как она будет вести себя на более поздних этапах."
   ]
  },
  {
   "cell_type": "markdown",
   "id": "884983e9-4933-4d92-9636-be28960e8b59",
   "metadata": {},
   "source": [
    "**Проблематика, с которой я сталкнулся:**  \n",
    "\n",
    "a) несовместимость версий PYTorch и Cuda;  \n",
    "b) минимально поддерживаемый параметр transforms.Resize((N, N)) для определённой модели. Для Inception v3 (299, 299). Если указывать данный параметр абсолютно для каждой модели - наблюдалось крайне долгое обучение для VGG16;  \n",
    "c) Наличие основного и вспомогательного выхода для каждой эпохи в Inception v3;  \n",
    "d) Для того, чтобы облегчить обучение - сбрасывал кэш после каждой эпохи, уменьшил размер батча и использовал autocast и GradScaler."
   ]
  },
  {
   "cell_type": "code",
   "execution_count": null,
   "id": "52924b30-dbf6-49dc-93f3-737a77ad3cc5",
   "metadata": {},
   "outputs": [],
   "source": []
  }
 ],
 "metadata": {
  "kernelspec": {
   "display_name": "Python 3 (ipykernel)",
   "language": "python",
   "name": "python3"
  },
  "language_info": {
   "codemirror_mode": {
    "name": "ipython",
    "version": 3
   },
   "file_extension": ".py",
   "mimetype": "text/x-python",
   "name": "python",
   "nbconvert_exporter": "python",
   "pygments_lexer": "ipython3",
   "version": "3.9.20"
  }
 },
 "nbformat": 4,
 "nbformat_minor": 5
}
